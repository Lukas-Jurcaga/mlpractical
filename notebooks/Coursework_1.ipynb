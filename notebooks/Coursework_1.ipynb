{
 "cells": [
  {
   "cell_type": "markdown",
   "metadata": {},
   "source": [
    "# Coursework 1\n",
    "\n",
    "This notebook is intended to be used as a starting point for your experiments. The instructions can be found in the MLP2024_25_CW1_Spec.pdf (see Learn,  Assignment Submission, Coursework 1). The methods provided here are just helper functions. If you want more complex graphs such as side by side comparisons of different experiments you should learn more about matplotlib and implement them. Before each experiment remember to re-initialize neural network weights and reset the data providers so you get a properly initialized experiment. For each experiment try to keep most hyperparameters the same except the one under investigation so you can understand what the effects of each are."
   ]
  },
  {
   "cell_type": "code",
   "execution_count": 6,
   "metadata": {
    "ExecuteTime": {
     "end_time": "2024-10-16T15:50:47.481813Z",
     "start_time": "2024-10-16T15:50:47.463258Z"
    }
   },
   "outputs": [],
   "source": [
    "import matplotlib.pyplot as plt\n",
    "%matplotlib inline\n",
    "plt.style.use('ggplot')\n",
    "\n",
    "def train_model_and_plot_stats(\n",
    "        model, error, learning_rule, train_data, valid_data, num_epochs, stats_interval, notebook=True, plot=True):\n",
    "    \n",
    "    # As well as monitoring the error over training also monitor classification\n",
    "    # accuracy i.e. proportion of most-probable predicted classes being equal to targets\n",
    "    data_monitors={'acc': lambda y, t: (y.argmax(-1) == t.argmax(-1)).mean()}\n",
    "\n",
    "    # Use the created objects to initialise a new Optimiser instance.\n",
    "    optimiser = Optimiser(\n",
    "        model, error, learning_rule, train_data, valid_data, data_monitors, notebook=notebook)\n",
    "\n",
    "    # Run the optimiser for num_epochs epochs (full passes through the training set)\n",
    "    # printing statistics every epoch.\n",
    "    stats, keys, run_time = optimiser.train(num_epochs=num_epochs, stats_interval=stats_interval)\n",
    "\n",
    "\n",
    "    '''\n",
    "    if plot:\n",
    "        # Plot the change in the validation and training set error over training.\n",
    "        fig_1 = plt.figure(figsize=(8, 4))\n",
    "        ax_1 = fig_1.add_subplot(111)\n",
    "        for k in ['error(train)', 'error(valid)']:\n",
    "            ax_1.plot(np.arange(1, stats.shape[0]) * stats_interval, \n",
    "                      stats[1:, keys[k]], label=k)\n",
    "        ax_1.legend(loc=0)\n",
    "        ax_1.set_xlabel('Epoch number')\n",
    "        ax_1.set_ylabel('Error')\n",
    "    \n",
    "        # Plot the change in the validation and training set accuracy over training.\n",
    "        fig_2 = plt.figure(figsize=(8, 4))\n",
    "        ax_2 = fig_2.add_subplot(111)\n",
    "        for k in ['acc(train)', 'acc(valid)']:\n",
    "            ax_2.plot(np.arange(1, stats.shape[0]) * stats_interval, \n",
    "                      stats[1:, keys[k]], label=k)\n",
    "        ax_2.legend(loc=0)\n",
    "        ax_2.set_xlabel('Epoch number')\n",
    "        ax_2.set_xlabel('Accuracy')\n",
    "     '''\n",
    "    \n",
    "    return stats, keys, run_time #fig_1, ax_1, fig_2, ax_2"
   ]
  },
  {
   "cell_type": "code",
   "execution_count": 12,
   "outputs": [
    {
     "data": {
      "text/plain": "\"\\ndef plot_acc(stats):\\n    # Plot the change in the validation and training set accuracy over training.\\n    fig_2 = plt.figure(figsize=(8, 4))\\n    ax_2 = fig_2.add_subplot(111)\\n    for k in ['acc(train)', 'acc(valid)']:\\n        ax_2.plot(np.arange(1, stats.shape[0]) * stats_interval, \\n                  stats[1:, keys[k]], label=k)\\n    ax_2.legend(loc=0)\\n    ax_2.set_xlabel('Epoch number')\\n    ax_2.set_xlabel('Accuracy')\\n\""
     },
     "execution_count": 12,
     "metadata": {},
     "output_type": "execute_result"
    }
   ],
   "source": [
    "def plot_err(models_stats, models_keys, stats_interval, labels):\n",
    "    # Plot the change in the validation and training set error over training.\n",
    "    fig_1 = plt.figure(figsize=(8, 4))\n",
    "    ax_1 = fig_1.add_subplot(111)\n",
    "    i = 0\n",
    "    for stats in models_stats:\n",
    "        keys = models_keys[i]\n",
    "        for k in ['error(train)', 'error(valid)']:\n",
    "            ax_1.plot(np.arange(1, stats.shape[0]) * stats_interval, \n",
    "                      stats[1:, keys[k]], label=labels[i] + k[5:])\n",
    "        i += 1\n",
    "    ax_1.legend(loc=0)\n",
    "    ax_1.set_xlabel('Epoch number')\n",
    "    ax_1.set_ylabel('Error')\n",
    "            \n",
    "def plot_acc(models_stats, models_keys, stats_interval, labels):\n",
    "    # Plot the change in the validation and training set accuracy over training.\n",
    "    fig_1 = plt.figure(figsize=(8, 4))\n",
    "    ax_1 = fig_1.add_subplot(111)\n",
    "    i = 0\n",
    "    for stats in models_stats:\n",
    "        keys = models_keys[i]\n",
    "        for k in ['acc(train)', 'acc(valid)']:\n",
    "            ax_1.plot(np.arange(1, stats.shape[0]) * stats_interval, \n",
    "                      stats[1:, keys[k]], label=labels[i] + k[3:])\n",
    "        i += 1\n",
    "    ax_1.legend(loc=0)\n",
    "    ax_1.set_xlabel('Epoch number')\n",
    "    ax_1.set_ylabel('Accuracy')\n",
    "    \n",
    "'''\n",
    "def plot_acc(stats):\n",
    "    # Plot the change in the validation and training set accuracy over training.\n",
    "    fig_2 = plt.figure(figsize=(8, 4))\n",
    "    ax_2 = fig_2.add_subplot(111)\n",
    "    for k in ['acc(train)', 'acc(valid)']:\n",
    "        ax_2.plot(np.arange(1, stats.shape[0]) * stats_interval, \n",
    "                  stats[1:, keys[k]], label=k)\n",
    "    ax_2.legend(loc=0)\n",
    "    ax_2.set_xlabel('Epoch number')\n",
    "    ax_2.set_xlabel('Accuracy')\n",
    "'''\n",
    "    \n"
   ],
   "metadata": {
    "collapsed": false,
    "ExecuteTime": {
     "end_time": "2024-10-16T16:06:05.427453Z",
     "start_time": "2024-10-16T16:06:05.418811Z"
    }
   }
  },
  {
   "cell_type": "code",
   "execution_count": 3,
   "metadata": {
    "ExecuteTime": {
     "end_time": "2024-10-16T15:34:54.860574Z",
     "start_time": "2024-10-16T15:34:54.629096Z"
    }
   },
   "outputs": [
    {
     "name": "stdout",
     "output_type": "stream",
     "text": [
      "KeysView(NpzFile '/Users/lukasjurcaga/PycharmProjects/mlpractical/data/emnist-train.npz' with keys: inputs, targets)\n",
      "KeysView(NpzFile '/Users/lukasjurcaga/PycharmProjects/mlpractical/data/emnist-valid.npz' with keys: inputs, targets)\n"
     ]
    }
   ],
   "source": [
    "# The below code will set up the data providers, random number\n",
    "# generator and logger objects needed for training runs. As\n",
    "# loading the data from file take a little while you generally\n",
    "# will probably not want to reload the data providers on\n",
    "# every training run. If you wish to reset their state you\n",
    "# should instead use the .reset() method of the data providers.\n",
    "import numpy as np\n",
    "import logging\n",
    "import sys\n",
    "from mlp.data_providers import MNISTDataProvider, EMNISTDataProvider\n",
    "\n",
    "# Seed a random number generator\n",
    "seed = 11102019 \n",
    "rng = np.random.RandomState(seed)\n",
    "batch_size = 100\n",
    "# Set up a logger object to print info about the training run to stdout\n",
    "logger = logging.getLogger()\n",
    "logger.setLevel(logging.INFO)\n",
    "logger.handlers = [logging.StreamHandler()]\n",
    "\n",
    "# Create data provider objects for the MNIST data set\n",
    "train_data = EMNISTDataProvider('train', batch_size=batch_size, rng=rng)\n",
    "valid_data = EMNISTDataProvider('valid', batch_size=batch_size, rng=rng)"
   ]
  },
  {
   "cell_type": "markdown",
   "source": [
    "### Example Set - 1 Hidden Layer"
   ],
   "metadata": {
    "collapsed": false
   }
  },
  {
   "cell_type": "code",
   "execution_count": null,
   "metadata": {},
   "outputs": [],
   "source": [
    "# The model set up code below is provided as a starting point.\n",
    "# You will probably want to add further code cells for the\n",
    "# different experiments you run.\n",
    "\n",
    "%pip install tqdm\n",
    "\n",
    "from mlp.layers import AffineLayer, SoftmaxLayer, SigmoidLayer, ReluLayer\n",
    "from mlp.errors import CrossEntropySoftmaxError\n",
    "from mlp.models import MultipleLayerModel\n",
    "from mlp.initialisers import ConstantInit, GlorotUniformInit\n",
    "from mlp.learning_rules import AdamLearningRule\n",
    "from mlp.optimisers import Optimiser\n",
    "\n",
    "# Setup hyperparameters\n",
    "learning_rate = 0.001\n",
    "num_epochs = 100\n",
    "stats_interval = 1\n",
    "input_dim, output_dim, hidden_dim = 784, 47, 128\n",
    "\n",
    "weights_init = GlorotUniformInit(rng=rng)\n",
    "biases_init = ConstantInit(0.)\n",
    "\n",
    "# Create model with ONE hidden layer\n",
    "model = MultipleLayerModel([\n",
    "    AffineLayer(input_dim, hidden_dim, weights_init, biases_init), # hidden layer\n",
    "    ReluLayer(),\n",
    "    AffineLayer(hidden_dim, output_dim, weights_init, biases_init) # output layer\n",
    "])\n",
    "\n",
    "input_dim, output_dim, hidden_dim = 784, 47, 32\n",
    "\n",
    "model2 = MultipleLayerModel([\n",
    "    AffineLayer(input_dim, hidden_dim, weights_init, biases_init), # hidden layer\n",
    "    ReluLayer(),\n",
    "    AffineLayer(hidden_dim, output_dim, weights_init, biases_init) # output layer\n",
    "])\n",
    "\n",
    "error = CrossEntropySoftmaxError()\n",
    "# Use a Adam learning rule\n",
    "learning_rule = AdamLearningRule(learning_rate=learning_rate)\n",
    "\n",
    "# Remember to use notebook=False when you write a script to be run in a terminal\n",
    "m1_stats, m1_keys, time = train_model_and_plot_stats(\n",
    "    model, error, learning_rule, train_data, valid_data, num_epochs, stats_interval, notebook=True)\n",
    "\n",
    "m2_stats, m2_keys, time2 = train_model_and_plot_stats(\n",
    "    model2, error, learning_rule, train_data, valid_data, num_epochs, stats_interval, notebook=True)\n",
    "\n",
    "plot_err([m1_stats, m2_stats], [m1_keys, m2_keys], stats_interval, ['width 128', 'width 32'])\n",
    "plot_acc([m1_stats, m2_stats], [m1_keys, m2_keys], stats_interval, ['width 128', 'width 32'])"
   ]
  },
  {
   "cell_type": "markdown",
   "source": [
    "### Example Set - 2 Hidden Layers"
   ],
   "metadata": {
    "collapsed": false
   }
  },
  {
   "cell_type": "code",
   "execution_count": null,
   "metadata": {},
   "outputs": [],
   "source": [
    "# Create model with TWO hidden layers\n",
    "model = MultipleLayerModel([\n",
    "    AffineLayer(input_dim, hidden_dim, weights_init, biases_init), # first hidden layer\n",
    "    ReluLayer(),\n",
    "    AffineLayer(hidden_dim, hidden_dim, weights_init, biases_init), # second hidden layer\n",
    "    ReluLayer(),\n",
    "    AffineLayer(hidden_dim, output_dim, weights_init, biases_init) # output layer\n",
    "])\n",
    "\n",
    "error = CrossEntropySoftmaxError()\n",
    "# Use a Adam learning rule\n",
    "learning_rule = AdamLearningRule(learning_rate=learning_rate)\n",
    "\n",
    "# Remember to use notebook=False when you write a script to be run in a terminal\n",
    "_ = train_model_and_plot_stats(\n",
    "    model, error, learning_rule, train_data, valid_data, num_epochs, stats_interval, notebook=True)"
   ]
  },
  {
   "cell_type": "markdown",
   "source": [
    "### Experimental Set - 1 Hidden Layers & Different Layer Widths"
   ],
   "metadata": {
    "collapsed": false
   }
  },
  {
   "cell_type": "code",
   "execution_count": 22,
   "outputs": [
    {
     "data": {
      "text/plain": "  0%|          | 0/100 [00:00<?, ?it/s]",
      "application/vnd.jupyter.widget-view+json": {
       "version_major": 2,
       "version_minor": 0,
       "model_id": "8cc7ac55e4e5489a8f9835499c117399"
      }
     },
     "metadata": {},
     "output_type": "display_data"
    },
    {
     "data": {
      "text/plain": "  0%|          | 0/1000 [00:00<?, ?it/s]",
      "application/vnd.jupyter.widget-view+json": {
       "version_major": 2,
       "version_minor": 0,
       "model_id": "d534b7e8112f432586ff1928189a9d82"
      }
     },
     "metadata": {},
     "output_type": "display_data"
    },
    {
     "name": "stderr",
     "output_type": "stream",
     "text": [
      "Epoch 1: 0.5s to complete\n",
      "    error(train)=1.22e+00, acc(train)=6.60e-01, error(valid)=1.23e+00, acc(valid)=6.59e-01\n"
     ]
    },
    {
     "data": {
      "text/plain": "  0%|          | 0/1000 [00:00<?, ?it/s]",
      "application/vnd.jupyter.widget-view+json": {
       "version_major": 2,
       "version_minor": 0,
       "model_id": "489003d49d4d45a1b0809c48ca830d5e"
      }
     },
     "metadata": {},
     "output_type": "display_data"
    },
    {
     "name": "stderr",
     "output_type": "stream",
     "text": [
      "Epoch 2: 0.5s to complete\n",
      "    error(train)=1.10e+00, acc(train)=6.90e-01, error(valid)=1.11e+00, acc(valid)=6.87e-01\n"
     ]
    },
    {
     "data": {
      "text/plain": "  0%|          | 0/1000 [00:00<?, ?it/s]",
      "application/vnd.jupyter.widget-view+json": {
       "version_major": 2,
       "version_minor": 0,
       "model_id": "27e2cc5ab6584e67b4b3264a2081e177"
      }
     },
     "metadata": {},
     "output_type": "display_data"
    },
    {
     "name": "stderr",
     "output_type": "stream",
     "text": [
      "Epoch 3: 0.5s to complete\n",
      "    error(train)=1.03e+00, acc(train)=7.08e-01, error(valid)=1.05e+00, acc(valid)=7.04e-01\n"
     ]
    },
    {
     "data": {
      "text/plain": "  0%|          | 0/1000 [00:00<?, ?it/s]",
      "application/vnd.jupyter.widget-view+json": {
       "version_major": 2,
       "version_minor": 0,
       "model_id": "c00f176790ae4b55be9314be7ecf3b64"
      }
     },
     "metadata": {},
     "output_type": "display_data"
    },
    {
     "name": "stderr",
     "output_type": "stream",
     "text": [
      "Epoch 4: 0.6s to complete\n",
      "    error(train)=9.54e-01, acc(train)=7.28e-01, error(valid)=9.76e-01, acc(valid)=7.23e-01\n"
     ]
    },
    {
     "data": {
      "text/plain": "  0%|          | 0/1000 [00:00<?, ?it/s]",
      "application/vnd.jupyter.widget-view+json": {
       "version_major": 2,
       "version_minor": 0,
       "model_id": "b83e5cd9eeaa44aab784298b966c9e75"
      }
     },
     "metadata": {},
     "output_type": "display_data"
    },
    {
     "name": "stderr",
     "output_type": "stream",
     "text": [
      "Epoch 5: 0.4s to complete\n",
      "    error(train)=9.14e-01, acc(train)=7.36e-01, error(valid)=9.41e-01, acc(valid)=7.28e-01\n"
     ]
    },
    {
     "data": {
      "text/plain": "  0%|          | 0/1000 [00:00<?, ?it/s]",
      "application/vnd.jupyter.widget-view+json": {
       "version_major": 2,
       "version_minor": 0,
       "model_id": "7daad9be34b547ba887d6c9728b54d15"
      }
     },
     "metadata": {},
     "output_type": "display_data"
    },
    {
     "name": "stderr",
     "output_type": "stream",
     "text": [
      "Epoch 6: 0.4s to complete\n",
      "    error(train)=8.75e-01, acc(train)=7.46e-01, error(valid)=9.08e-01, acc(valid)=7.37e-01\n"
     ]
    },
    {
     "data": {
      "text/plain": "  0%|          | 0/1000 [00:00<?, ?it/s]",
      "application/vnd.jupyter.widget-view+json": {
       "version_major": 2,
       "version_minor": 0,
       "model_id": "b8a01812d36c43b6a522fe2f418f1043"
      }
     },
     "metadata": {},
     "output_type": "display_data"
    },
    {
     "name": "stderr",
     "output_type": "stream",
     "text": [
      "Epoch 7: 0.4s to complete\n",
      "    error(train)=8.39e-01, acc(train)=7.56e-01, error(valid)=8.72e-01, acc(valid)=7.47e-01\n"
     ]
    },
    {
     "data": {
      "text/plain": "  0%|          | 0/1000 [00:00<?, ?it/s]",
      "application/vnd.jupyter.widget-view+json": {
       "version_major": 2,
       "version_minor": 0,
       "model_id": "8db5870f863e4278bc9bb2ad1dd48099"
      }
     },
     "metadata": {},
     "output_type": "display_data"
    },
    {
     "name": "stderr",
     "output_type": "stream",
     "text": [
      "Epoch 8: 0.4s to complete\n",
      "    error(train)=8.21e-01, acc(train)=7.58e-01, error(valid)=8.56e-01, acc(valid)=7.49e-01\n"
     ]
    },
    {
     "data": {
      "text/plain": "  0%|          | 0/1000 [00:00<?, ?it/s]",
      "application/vnd.jupyter.widget-view+json": {
       "version_major": 2,
       "version_minor": 0,
       "model_id": "2302c062a0d741f48947354de2fbab22"
      }
     },
     "metadata": {},
     "output_type": "display_data"
    },
    {
     "name": "stderr",
     "output_type": "stream",
     "text": [
      "Epoch 9: 0.4s to complete\n",
      "    error(train)=8.04e-01, acc(train)=7.62e-01, error(valid)=8.40e-01, acc(valid)=7.53e-01\n"
     ]
    },
    {
     "data": {
      "text/plain": "  0%|          | 0/1000 [00:00<?, ?it/s]",
      "application/vnd.jupyter.widget-view+json": {
       "version_major": 2,
       "version_minor": 0,
       "model_id": "101ca7674e4d4f589803c39e24600f43"
      }
     },
     "metadata": {},
     "output_type": "display_data"
    },
    {
     "name": "stderr",
     "output_type": "stream",
     "text": [
      "Epoch 10: 0.4s to complete\n",
      "    error(train)=7.77e-01, acc(train)=7.70e-01, error(valid)=8.16e-01, acc(valid)=7.61e-01\n"
     ]
    },
    {
     "data": {
      "text/plain": "  0%|          | 0/1000 [00:00<?, ?it/s]",
      "application/vnd.jupyter.widget-view+json": {
       "version_major": 2,
       "version_minor": 0,
       "model_id": "833ccee67df44da8bc1e2e104a792553"
      }
     },
     "metadata": {},
     "output_type": "display_data"
    },
    {
     "name": "stderr",
     "output_type": "stream",
     "text": [
      "Epoch 11: 0.4s to complete\n",
      "    error(train)=7.62e-01, acc(train)=7.72e-01, error(valid)=8.08e-01, acc(valid)=7.64e-01\n"
     ]
    },
    {
     "data": {
      "text/plain": "  0%|          | 0/1000 [00:00<?, ?it/s]",
      "application/vnd.jupyter.widget-view+json": {
       "version_major": 2,
       "version_minor": 0,
       "model_id": "6a3dbb80a3a84fc38c3b7458974ae1fe"
      }
     },
     "metadata": {},
     "output_type": "display_data"
    },
    {
     "name": "stderr",
     "output_type": "stream",
     "text": [
      "Epoch 12: 0.4s to complete\n",
      "    error(train)=7.48e-01, acc(train)=7.76e-01, error(valid)=7.93e-01, acc(valid)=7.66e-01\n"
     ]
    },
    {
     "data": {
      "text/plain": "  0%|          | 0/1000 [00:00<?, ?it/s]",
      "application/vnd.jupyter.widget-view+json": {
       "version_major": 2,
       "version_minor": 0,
       "model_id": "f71cfde9bf5e4d688cc055282f3b8c20"
      }
     },
     "metadata": {},
     "output_type": "display_data"
    },
    {
     "name": "stderr",
     "output_type": "stream",
     "text": [
      "Epoch 13: 0.4s to complete\n",
      "    error(train)=7.38e-01, acc(train)=7.78e-01, error(valid)=7.86e-01, acc(valid)=7.67e-01\n"
     ]
    },
    {
     "data": {
      "text/plain": "  0%|          | 0/1000 [00:00<?, ?it/s]",
      "application/vnd.jupyter.widget-view+json": {
       "version_major": 2,
       "version_minor": 0,
       "model_id": "5eea4d7a7b9b4e70b3169977a7b38526"
      }
     },
     "metadata": {},
     "output_type": "display_data"
    },
    {
     "name": "stderr",
     "output_type": "stream",
     "text": [
      "Epoch 14: 0.4s to complete\n",
      "    error(train)=7.24e-01, acc(train)=7.82e-01, error(valid)=7.75e-01, acc(valid)=7.70e-01\n"
     ]
    },
    {
     "data": {
      "text/plain": "  0%|          | 0/1000 [00:00<?, ?it/s]",
      "application/vnd.jupyter.widget-view+json": {
       "version_major": 2,
       "version_minor": 0,
       "model_id": "bb6ab02ff797437aa0e4b71d931435c6"
      }
     },
     "metadata": {},
     "output_type": "display_data"
    },
    {
     "name": "stderr",
     "output_type": "stream",
     "text": [
      "Epoch 15: 0.4s to complete\n",
      "    error(train)=7.20e-01, acc(train)=7.82e-01, error(valid)=7.70e-01, acc(valid)=7.70e-01\n"
     ]
    },
    {
     "data": {
      "text/plain": "  0%|          | 0/1000 [00:00<?, ?it/s]",
      "application/vnd.jupyter.widget-view+json": {
       "version_major": 2,
       "version_minor": 0,
       "model_id": "4edb52f3ee724f218eb56923347fce93"
      }
     },
     "metadata": {},
     "output_type": "display_data"
    },
    {
     "name": "stderr",
     "output_type": "stream",
     "text": [
      "Epoch 16: 0.4s to complete\n",
      "    error(train)=7.13e-01, acc(train)=7.84e-01, error(valid)=7.67e-01, acc(valid)=7.70e-01\n"
     ]
    },
    {
     "data": {
      "text/plain": "  0%|          | 0/1000 [00:00<?, ?it/s]",
      "application/vnd.jupyter.widget-view+json": {
       "version_major": 2,
       "version_minor": 0,
       "model_id": "a587150e99d644469fe58f776237081b"
      }
     },
     "metadata": {},
     "output_type": "display_data"
    },
    {
     "name": "stderr",
     "output_type": "stream",
     "text": [
      "Epoch 17: 0.4s to complete\n",
      "    error(train)=7.00e-01, acc(train)=7.87e-01, error(valid)=7.57e-01, acc(valid)=7.72e-01\n"
     ]
    },
    {
     "data": {
      "text/plain": "  0%|          | 0/1000 [00:00<?, ?it/s]",
      "application/vnd.jupyter.widget-view+json": {
       "version_major": 2,
       "version_minor": 0,
       "model_id": "72e25639f8404a90a6c5016d34913846"
      }
     },
     "metadata": {},
     "output_type": "display_data"
    },
    {
     "name": "stderr",
     "output_type": "stream",
     "text": [
      "Epoch 18: 0.4s to complete\n",
      "    error(train)=6.92e-01, acc(train)=7.90e-01, error(valid)=7.50e-01, acc(valid)=7.74e-01\n"
     ]
    },
    {
     "data": {
      "text/plain": "  0%|          | 0/1000 [00:00<?, ?it/s]",
      "application/vnd.jupyter.widget-view+json": {
       "version_major": 2,
       "version_minor": 0,
       "model_id": "a804604183ff49cc85da3798f92ca5d7"
      }
     },
     "metadata": {},
     "output_type": "display_data"
    },
    {
     "name": "stderr",
     "output_type": "stream",
     "text": [
      "Epoch 19: 0.3s to complete\n",
      "    error(train)=6.88e-01, acc(train)=7.90e-01, error(valid)=7.46e-01, acc(valid)=7.76e-01\n"
     ]
    },
    {
     "data": {
      "text/plain": "  0%|          | 0/1000 [00:00<?, ?it/s]",
      "application/vnd.jupyter.widget-view+json": {
       "version_major": 2,
       "version_minor": 0,
       "model_id": "2760b3a38cbf4588bc6b314316d938b1"
      }
     },
     "metadata": {},
     "output_type": "display_data"
    },
    {
     "name": "stderr",
     "output_type": "stream",
     "text": [
      "Epoch 20: 0.4s to complete\n",
      "    error(train)=6.75e-01, acc(train)=7.93e-01, error(valid)=7.37e-01, acc(valid)=7.77e-01\n"
     ]
    },
    {
     "data": {
      "text/plain": "  0%|          | 0/1000 [00:00<?, ?it/s]",
      "application/vnd.jupyter.widget-view+json": {
       "version_major": 2,
       "version_minor": 0,
       "model_id": "4c2ca1c925864347b884353f1e4a800d"
      }
     },
     "metadata": {},
     "output_type": "display_data"
    },
    {
     "name": "stderr",
     "output_type": "stream",
     "text": [
      "Epoch 21: 0.4s to complete\n",
      "    error(train)=6.76e-01, acc(train)=7.91e-01, error(valid)=7.40e-01, acc(valid)=7.78e-01\n"
     ]
    },
    {
     "data": {
      "text/plain": "  0%|          | 0/1000 [00:00<?, ?it/s]",
      "application/vnd.jupyter.widget-view+json": {
       "version_major": 2,
       "version_minor": 0,
       "model_id": "62ec65b4740042f59ef156639fdc0be7"
      }
     },
     "metadata": {},
     "output_type": "display_data"
    },
    {
     "name": "stderr",
     "output_type": "stream",
     "text": [
      "Epoch 22: 0.4s to complete\n",
      "    error(train)=6.64e-01, acc(train)=7.96e-01, error(valid)=7.27e-01, acc(valid)=7.79e-01\n"
     ]
    },
    {
     "data": {
      "text/plain": "  0%|          | 0/1000 [00:00<?, ?it/s]",
      "application/vnd.jupyter.widget-view+json": {
       "version_major": 2,
       "version_minor": 0,
       "model_id": "dc2695a229284adfb30744080669f881"
      }
     },
     "metadata": {},
     "output_type": "display_data"
    },
    {
     "name": "stderr",
     "output_type": "stream",
     "text": [
      "Epoch 23: 0.5s to complete\n",
      "    error(train)=6.69e-01, acc(train)=7.94e-01, error(valid)=7.35e-01, acc(valid)=7.79e-01\n"
     ]
    },
    {
     "data": {
      "text/plain": "  0%|          | 0/1000 [00:00<?, ?it/s]",
      "application/vnd.jupyter.widget-view+json": {
       "version_major": 2,
       "version_minor": 0,
       "model_id": "bb6649eb7a1a4d3a8e952f77aac4f493"
      }
     },
     "metadata": {},
     "output_type": "display_data"
    },
    {
     "name": "stderr",
     "output_type": "stream",
     "text": [
      "Epoch 24: 0.4s to complete\n",
      "    error(train)=6.57e-01, acc(train)=7.97e-01, error(valid)=7.23e-01, acc(valid)=7.82e-01\n"
     ]
    },
    {
     "data": {
      "text/plain": "  0%|          | 0/1000 [00:00<?, ?it/s]",
      "application/vnd.jupyter.widget-view+json": {
       "version_major": 2,
       "version_minor": 0,
       "model_id": "62727573110c4d9ab604e9c706fe7f41"
      }
     },
     "metadata": {},
     "output_type": "display_data"
    },
    {
     "name": "stderr",
     "output_type": "stream",
     "text": [
      "Epoch 25: 0.4s to complete\n",
      "    error(train)=6.55e-01, acc(train)=7.97e-01, error(valid)=7.25e-01, acc(valid)=7.81e-01\n"
     ]
    },
    {
     "data": {
      "text/plain": "  0%|          | 0/1000 [00:00<?, ?it/s]",
      "application/vnd.jupyter.widget-view+json": {
       "version_major": 2,
       "version_minor": 0,
       "model_id": "5bc21a51cc0347d582b9bd7702229d64"
      }
     },
     "metadata": {},
     "output_type": "display_data"
    },
    {
     "name": "stderr",
     "output_type": "stream",
     "text": [
      "Epoch 26: 0.4s to complete\n",
      "    error(train)=6.48e-01, acc(train)=8.00e-01, error(valid)=7.19e-01, acc(valid)=7.81e-01\n"
     ]
    },
    {
     "data": {
      "text/plain": "  0%|          | 0/1000 [00:00<?, ?it/s]",
      "application/vnd.jupyter.widget-view+json": {
       "version_major": 2,
       "version_minor": 0,
       "model_id": "bdc30cca91dc44ddacea59242c6cb3a9"
      }
     },
     "metadata": {},
     "output_type": "display_data"
    },
    {
     "name": "stderr",
     "output_type": "stream",
     "text": [
      "Epoch 27: 0.5s to complete\n",
      "    error(train)=6.43e-01, acc(train)=8.01e-01, error(valid)=7.15e-01, acc(valid)=7.84e-01\n"
     ]
    },
    {
     "data": {
      "text/plain": "  0%|          | 0/1000 [00:00<?, ?it/s]",
      "application/vnd.jupyter.widget-view+json": {
       "version_major": 2,
       "version_minor": 0,
       "model_id": "f907cd0ed4d64c0c8b90595a582a345d"
      }
     },
     "metadata": {},
     "output_type": "display_data"
    },
    {
     "name": "stderr",
     "output_type": "stream",
     "text": [
      "Epoch 28: 0.4s to complete\n",
      "    error(train)=6.45e-01, acc(train)=7.99e-01, error(valid)=7.19e-01, acc(valid)=7.82e-01\n"
     ]
    },
    {
     "data": {
      "text/plain": "  0%|          | 0/1000 [00:00<?, ?it/s]",
      "application/vnd.jupyter.widget-view+json": {
       "version_major": 2,
       "version_minor": 0,
       "model_id": "04d6b95d791c4bb7b365a9446aa82a66"
      }
     },
     "metadata": {},
     "output_type": "display_data"
    },
    {
     "name": "stderr",
     "output_type": "stream",
     "text": [
      "Epoch 29: 0.4s to complete\n",
      "    error(train)=6.34e-01, acc(train)=8.04e-01, error(valid)=7.13e-01, acc(valid)=7.84e-01\n"
     ]
    },
    {
     "data": {
      "text/plain": "  0%|          | 0/1000 [00:00<?, ?it/s]",
      "application/vnd.jupyter.widget-view+json": {
       "version_major": 2,
       "version_minor": 0,
       "model_id": "7e59b62ead294526b34f534f20b2bc7e"
      }
     },
     "metadata": {},
     "output_type": "display_data"
    },
    {
     "name": "stderr",
     "output_type": "stream",
     "text": [
      "Epoch 30: 0.4s to complete\n",
      "    error(train)=6.37e-01, acc(train)=8.02e-01, error(valid)=7.15e-01, acc(valid)=7.83e-01\n"
     ]
    },
    {
     "data": {
      "text/plain": "  0%|          | 0/1000 [00:00<?, ?it/s]",
      "application/vnd.jupyter.widget-view+json": {
       "version_major": 2,
       "version_minor": 0,
       "model_id": "e03e660aa38041b3b2c1d7b7e612afc2"
      }
     },
     "metadata": {},
     "output_type": "display_data"
    },
    {
     "name": "stderr",
     "output_type": "stream",
     "text": [
      "Epoch 31: 0.5s to complete\n",
      "    error(train)=6.27e-01, acc(train)=8.03e-01, error(valid)=7.03e-01, acc(valid)=7.85e-01\n"
     ]
    },
    {
     "data": {
      "text/plain": "  0%|          | 0/1000 [00:00<?, ?it/s]",
      "application/vnd.jupyter.widget-view+json": {
       "version_major": 2,
       "version_minor": 0,
       "model_id": "ee821062b4624128a8a42748502b018a"
      }
     },
     "metadata": {},
     "output_type": "display_data"
    },
    {
     "name": "stderr",
     "output_type": "stream",
     "text": [
      "Epoch 32: 0.4s to complete\n",
      "    error(train)=6.32e-01, acc(train)=8.02e-01, error(valid)=7.13e-01, acc(valid)=7.84e-01\n"
     ]
    },
    {
     "data": {
      "text/plain": "  0%|          | 0/1000 [00:00<?, ?it/s]",
      "application/vnd.jupyter.widget-view+json": {
       "version_major": 2,
       "version_minor": 0,
       "model_id": "2932eea18c63414490ee71883a2d95e8"
      }
     },
     "metadata": {},
     "output_type": "display_data"
    },
    {
     "name": "stderr",
     "output_type": "stream",
     "text": [
      "Epoch 33: 0.5s to complete\n",
      "    error(train)=6.20e-01, acc(train)=8.07e-01, error(valid)=7.00e-01, acc(valid)=7.87e-01\n"
     ]
    },
    {
     "data": {
      "text/plain": "  0%|          | 0/1000 [00:00<?, ?it/s]",
      "application/vnd.jupyter.widget-view+json": {
       "version_major": 2,
       "version_minor": 0,
       "model_id": "30cf11ebbbfb434c9cb9780aa24d3448"
      }
     },
     "metadata": {},
     "output_type": "display_data"
    },
    {
     "name": "stderr",
     "output_type": "stream",
     "text": [
      "Epoch 34: 0.4s to complete\n",
      "    error(train)=6.24e-01, acc(train)=8.05e-01, error(valid)=7.07e-01, acc(valid)=7.83e-01\n"
     ]
    },
    {
     "data": {
      "text/plain": "  0%|          | 0/1000 [00:00<?, ?it/s]",
      "application/vnd.jupyter.widget-view+json": {
       "version_major": 2,
       "version_minor": 0,
       "model_id": "827ddd9458264e78afd4352504794972"
      }
     },
     "metadata": {},
     "output_type": "display_data"
    },
    {
     "name": "stderr",
     "output_type": "stream",
     "text": [
      "Epoch 35: 0.4s to complete\n",
      "    error(train)=6.23e-01, acc(train)=8.05e-01, error(valid)=7.09e-01, acc(valid)=7.86e-01\n"
     ]
    },
    {
     "data": {
      "text/plain": "  0%|          | 0/1000 [00:00<?, ?it/s]",
      "application/vnd.jupyter.widget-view+json": {
       "version_major": 2,
       "version_minor": 0,
       "model_id": "6d047c40262b496ab0d00ff3c40e17f2"
      }
     },
     "metadata": {},
     "output_type": "display_data"
    },
    {
     "name": "stderr",
     "output_type": "stream",
     "text": [
      "Epoch 36: 0.4s to complete\n",
      "    error(train)=6.19e-01, acc(train)=8.05e-01, error(valid)=7.01e-01, acc(valid)=7.84e-01\n"
     ]
    },
    {
     "data": {
      "text/plain": "  0%|          | 0/1000 [00:00<?, ?it/s]",
      "application/vnd.jupyter.widget-view+json": {
       "version_major": 2,
       "version_minor": 0,
       "model_id": "9c066f8421174092a313adb3aa2a9c1e"
      }
     },
     "metadata": {},
     "output_type": "display_data"
    },
    {
     "name": "stderr",
     "output_type": "stream",
     "text": [
      "Epoch 37: 0.4s to complete\n",
      "    error(train)=6.20e-01, acc(train)=8.07e-01, error(valid)=7.07e-01, acc(valid)=7.85e-01\n"
     ]
    },
    {
     "data": {
      "text/plain": "  0%|          | 0/1000 [00:00<?, ?it/s]",
      "application/vnd.jupyter.widget-view+json": {
       "version_major": 2,
       "version_minor": 0,
       "model_id": "ddb2bd30a1f340989e10592e0781f10f"
      }
     },
     "metadata": {},
     "output_type": "display_data"
    },
    {
     "name": "stderr",
     "output_type": "stream",
     "text": [
      "Epoch 38: 0.4s to complete\n",
      "    error(train)=6.10e-01, acc(train)=8.09e-01, error(valid)=6.99e-01, acc(valid)=7.88e-01\n"
     ]
    },
    {
     "data": {
      "text/plain": "  0%|          | 0/1000 [00:00<?, ?it/s]",
      "application/vnd.jupyter.widget-view+json": {
       "version_major": 2,
       "version_minor": 0,
       "model_id": "0a05e9694e6843479bfea2637b4aae34"
      }
     },
     "metadata": {},
     "output_type": "display_data"
    },
    {
     "name": "stderr",
     "output_type": "stream",
     "text": [
      "Epoch 39: 0.5s to complete\n",
      "    error(train)=6.16e-01, acc(train)=8.06e-01, error(valid)=7.06e-01, acc(valid)=7.83e-01\n"
     ]
    },
    {
     "data": {
      "text/plain": "  0%|          | 0/1000 [00:00<?, ?it/s]",
      "application/vnd.jupyter.widget-view+json": {
       "version_major": 2,
       "version_minor": 0,
       "model_id": "24312b63a00a412bbb24ee737a0479f8"
      }
     },
     "metadata": {},
     "output_type": "display_data"
    },
    {
     "name": "stderr",
     "output_type": "stream",
     "text": [
      "Epoch 40: 0.4s to complete\n",
      "    error(train)=6.02e-01, acc(train)=8.11e-01, error(valid)=6.92e-01, acc(valid)=7.92e-01\n"
     ]
    },
    {
     "data": {
      "text/plain": "  0%|          | 0/1000 [00:00<?, ?it/s]",
      "application/vnd.jupyter.widget-view+json": {
       "version_major": 2,
       "version_minor": 0,
       "model_id": "fa208e83bad44ba9a8b1632d6e89e2f3"
      }
     },
     "metadata": {},
     "output_type": "display_data"
    },
    {
     "name": "stderr",
     "output_type": "stream",
     "text": [
      "Epoch 41: 0.5s to complete\n",
      "    error(train)=6.01e-01, acc(train)=8.11e-01, error(valid)=6.95e-01, acc(valid)=7.90e-01\n"
     ]
    },
    {
     "data": {
      "text/plain": "  0%|          | 0/1000 [00:00<?, ?it/s]",
      "application/vnd.jupyter.widget-view+json": {
       "version_major": 2,
       "version_minor": 0,
       "model_id": "6c5c7045747b4c879d0d2a112f96abf2"
      }
     },
     "metadata": {},
     "output_type": "display_data"
    },
    {
     "name": "stderr",
     "output_type": "stream",
     "text": [
      "Epoch 42: 0.4s to complete\n",
      "    error(train)=6.00e-01, acc(train)=8.13e-01, error(valid)=6.95e-01, acc(valid)=7.89e-01\n"
     ]
    },
    {
     "data": {
      "text/plain": "  0%|          | 0/1000 [00:00<?, ?it/s]",
      "application/vnd.jupyter.widget-view+json": {
       "version_major": 2,
       "version_minor": 0,
       "model_id": "e3c41e2426ab46b89ab61da4785a8e05"
      }
     },
     "metadata": {},
     "output_type": "display_data"
    },
    {
     "name": "stderr",
     "output_type": "stream",
     "text": [
      "Epoch 43: 0.4s to complete\n",
      "    error(train)=5.98e-01, acc(train)=8.13e-01, error(valid)=6.93e-01, acc(valid)=7.89e-01\n"
     ]
    },
    {
     "data": {
      "text/plain": "  0%|          | 0/1000 [00:00<?, ?it/s]",
      "application/vnd.jupyter.widget-view+json": {
       "version_major": 2,
       "version_minor": 0,
       "model_id": "557a5d2ecfd246378b7882c017261e1b"
      }
     },
     "metadata": {},
     "output_type": "display_data"
    },
    {
     "name": "stderr",
     "output_type": "stream",
     "text": [
      "Epoch 44: 0.4s to complete\n",
      "    error(train)=5.99e-01, acc(train)=8.10e-01, error(valid)=6.95e-01, acc(valid)=7.84e-01\n"
     ]
    },
    {
     "data": {
      "text/plain": "  0%|          | 0/1000 [00:00<?, ?it/s]",
      "application/vnd.jupyter.widget-view+json": {
       "version_major": 2,
       "version_minor": 0,
       "model_id": "76df163420e0476aa5c1e1e08e4b1e84"
      }
     },
     "metadata": {},
     "output_type": "display_data"
    },
    {
     "name": "stderr",
     "output_type": "stream",
     "text": [
      "Epoch 45: 0.4s to complete\n",
      "    error(train)=5.93e-01, acc(train)=8.12e-01, error(valid)=6.92e-01, acc(valid)=7.89e-01\n"
     ]
    },
    {
     "data": {
      "text/plain": "  0%|          | 0/1000 [00:00<?, ?it/s]",
      "application/vnd.jupyter.widget-view+json": {
       "version_major": 2,
       "version_minor": 0,
       "model_id": "df1acb4546d24d0abbacdebe4022b171"
      }
     },
     "metadata": {},
     "output_type": "display_data"
    },
    {
     "name": "stderr",
     "output_type": "stream",
     "text": [
      "Epoch 46: 0.4s to complete\n",
      "    error(train)=5.92e-01, acc(train)=8.13e-01, error(valid)=6.95e-01, acc(valid)=7.88e-01\n"
     ]
    },
    {
     "data": {
      "text/plain": "  0%|          | 0/1000 [00:00<?, ?it/s]",
      "application/vnd.jupyter.widget-view+json": {
       "version_major": 2,
       "version_minor": 0,
       "model_id": "2bf6578dd9074e52ae92b6f8c9226d3b"
      }
     },
     "metadata": {},
     "output_type": "display_data"
    },
    {
     "name": "stderr",
     "output_type": "stream",
     "text": [
      "Epoch 47: 0.4s to complete\n",
      "    error(train)=5.90e-01, acc(train)=8.13e-01, error(valid)=6.89e-01, acc(valid)=7.87e-01\n"
     ]
    },
    {
     "data": {
      "text/plain": "  0%|          | 0/1000 [00:00<?, ?it/s]",
      "application/vnd.jupyter.widget-view+json": {
       "version_major": 2,
       "version_minor": 0,
       "model_id": "ad4696b2ad1d4dc2b2f4ef77e6310ac4"
      }
     },
     "metadata": {},
     "output_type": "display_data"
    },
    {
     "name": "stderr",
     "output_type": "stream",
     "text": [
      "Epoch 48: 0.4s to complete\n",
      "    error(train)=5.90e-01, acc(train)=8.15e-01, error(valid)=6.94e-01, acc(valid)=7.92e-01\n"
     ]
    },
    {
     "data": {
      "text/plain": "  0%|          | 0/1000 [00:00<?, ?it/s]",
      "application/vnd.jupyter.widget-view+json": {
       "version_major": 2,
       "version_minor": 0,
       "model_id": "82cf9a669fbb404cb8588b5a7638121b"
      }
     },
     "metadata": {},
     "output_type": "display_data"
    },
    {
     "name": "stderr",
     "output_type": "stream",
     "text": [
      "Epoch 49: 0.4s to complete\n",
      "    error(train)=5.97e-01, acc(train)=8.11e-01, error(valid)=7.01e-01, acc(valid)=7.84e-01\n"
     ]
    },
    {
     "data": {
      "text/plain": "  0%|          | 0/1000 [00:00<?, ?it/s]",
      "application/vnd.jupyter.widget-view+json": {
       "version_major": 2,
       "version_minor": 0,
       "model_id": "43c233b2c3d340989707112151f80f9b"
      }
     },
     "metadata": {},
     "output_type": "display_data"
    },
    {
     "name": "stderr",
     "output_type": "stream",
     "text": [
      "Epoch 50: 0.4s to complete\n",
      "    error(train)=5.88e-01, acc(train)=8.14e-01, error(valid)=6.98e-01, acc(valid)=7.88e-01\n"
     ]
    },
    {
     "data": {
      "text/plain": "  0%|          | 0/1000 [00:00<?, ?it/s]",
      "application/vnd.jupyter.widget-view+json": {
       "version_major": 2,
       "version_minor": 0,
       "model_id": "e425eabd71694db89b83c50e99a05ec1"
      }
     },
     "metadata": {},
     "output_type": "display_data"
    },
    {
     "name": "stderr",
     "output_type": "stream",
     "text": [
      "Epoch 51: 0.4s to complete\n",
      "    error(train)=5.85e-01, acc(train)=8.15e-01, error(valid)=6.91e-01, acc(valid)=7.90e-01\n"
     ]
    },
    {
     "data": {
      "text/plain": "  0%|          | 0/1000 [00:00<?, ?it/s]",
      "application/vnd.jupyter.widget-view+json": {
       "version_major": 2,
       "version_minor": 0,
       "model_id": "68db3573a9c8419586dd64a2e45adfb6"
      }
     },
     "metadata": {},
     "output_type": "display_data"
    },
    {
     "name": "stderr",
     "output_type": "stream",
     "text": [
      "Epoch 52: 0.4s to complete\n",
      "    error(train)=5.82e-01, acc(train)=8.17e-01, error(valid)=6.87e-01, acc(valid)=7.92e-01\n"
     ]
    },
    {
     "data": {
      "text/plain": "  0%|          | 0/1000 [00:00<?, ?it/s]",
      "application/vnd.jupyter.widget-view+json": {
       "version_major": 2,
       "version_minor": 0,
       "model_id": "31b1c2bd01fb4eeeb96d7ee16343bdd6"
      }
     },
     "metadata": {},
     "output_type": "display_data"
    },
    {
     "name": "stderr",
     "output_type": "stream",
     "text": [
      "Epoch 53: 0.5s to complete\n",
      "    error(train)=5.83e-01, acc(train)=8.15e-01, error(valid)=6.91e-01, acc(valid)=7.87e-01\n"
     ]
    },
    {
     "data": {
      "text/plain": "  0%|          | 0/1000 [00:00<?, ?it/s]",
      "application/vnd.jupyter.widget-view+json": {
       "version_major": 2,
       "version_minor": 0,
       "model_id": "1fce766c132948aab14e3f83465b0a82"
      }
     },
     "metadata": {},
     "output_type": "display_data"
    },
    {
     "name": "stderr",
     "output_type": "stream",
     "text": [
      "Epoch 54: 0.4s to complete\n",
      "    error(train)=5.92e-01, acc(train)=8.12e-01, error(valid)=7.00e-01, acc(valid)=7.86e-01\n"
     ]
    },
    {
     "data": {
      "text/plain": "  0%|          | 0/1000 [00:00<?, ?it/s]",
      "application/vnd.jupyter.widget-view+json": {
       "version_major": 2,
       "version_minor": 0,
       "model_id": "a2e9cb2d9d81414b9b24b26d36abbf37"
      }
     },
     "metadata": {},
     "output_type": "display_data"
    },
    {
     "name": "stderr",
     "output_type": "stream",
     "text": [
      "Epoch 55: 0.4s to complete\n",
      "    error(train)=5.92e-01, acc(train)=8.13e-01, error(valid)=7.01e-01, acc(valid)=7.88e-01\n"
     ]
    },
    {
     "data": {
      "text/plain": "  0%|          | 0/1000 [00:00<?, ?it/s]",
      "application/vnd.jupyter.widget-view+json": {
       "version_major": 2,
       "version_minor": 0,
       "model_id": "4f8fde4dbbb94b69a804df91c2ef0d76"
      }
     },
     "metadata": {},
     "output_type": "display_data"
    },
    {
     "name": "stderr",
     "output_type": "stream",
     "text": [
      "Epoch 56: 0.4s to complete\n",
      "    error(train)=5.81e-01, acc(train)=8.16e-01, error(valid)=6.94e-01, acc(valid)=7.89e-01\n"
     ]
    },
    {
     "data": {
      "text/plain": "  0%|          | 0/1000 [00:00<?, ?it/s]",
      "application/vnd.jupyter.widget-view+json": {
       "version_major": 2,
       "version_minor": 0,
       "model_id": "c2af8ba6303a4cda97846c5c02e7f1d5"
      }
     },
     "metadata": {},
     "output_type": "display_data"
    },
    {
     "name": "stderr",
     "output_type": "stream",
     "text": [
      "Epoch 57: 0.4s to complete\n",
      "    error(train)=5.74e-01, acc(train)=8.20e-01, error(valid)=6.87e-01, acc(valid)=7.89e-01\n"
     ]
    },
    {
     "data": {
      "text/plain": "  0%|          | 0/1000 [00:00<?, ?it/s]",
      "application/vnd.jupyter.widget-view+json": {
       "version_major": 2,
       "version_minor": 0,
       "model_id": "3c4c6933b70d466d9ef377010d6ab39c"
      }
     },
     "metadata": {},
     "output_type": "display_data"
    },
    {
     "name": "stderr",
     "output_type": "stream",
     "text": [
      "Epoch 58: 0.5s to complete\n",
      "    error(train)=5.88e-01, acc(train)=8.16e-01, error(valid)=7.01e-01, acc(valid)=7.88e-01\n"
     ]
    },
    {
     "data": {
      "text/plain": "  0%|          | 0/1000 [00:00<?, ?it/s]",
      "application/vnd.jupyter.widget-view+json": {
       "version_major": 2,
       "version_minor": 0,
       "model_id": "b53b2af7e1464d84a7493d4606e2d3cd"
      }
     },
     "metadata": {},
     "output_type": "display_data"
    },
    {
     "name": "stderr",
     "output_type": "stream",
     "text": [
      "Epoch 59: 0.4s to complete\n",
      "    error(train)=5.79e-01, acc(train)=8.17e-01, error(valid)=6.93e-01, acc(valid)=7.87e-01\n"
     ]
    },
    {
     "data": {
      "text/plain": "  0%|          | 0/1000 [00:00<?, ?it/s]",
      "application/vnd.jupyter.widget-view+json": {
       "version_major": 2,
       "version_minor": 0,
       "model_id": "79d1842959a740cba6010284c2cfc227"
      }
     },
     "metadata": {},
     "output_type": "display_data"
    },
    {
     "name": "stderr",
     "output_type": "stream",
     "text": [
      "Epoch 60: 0.6s to complete\n",
      "    error(train)=5.74e-01, acc(train)=8.18e-01, error(valid)=6.91e-01, acc(valid)=7.90e-01\n"
     ]
    },
    {
     "data": {
      "text/plain": "  0%|          | 0/1000 [00:00<?, ?it/s]",
      "application/vnd.jupyter.widget-view+json": {
       "version_major": 2,
       "version_minor": 0,
       "model_id": "b9264465fbd94d02b3ffb52efd720fe7"
      }
     },
     "metadata": {},
     "output_type": "display_data"
    },
    {
     "name": "stderr",
     "output_type": "stream",
     "text": [
      "Epoch 61: 0.4s to complete\n",
      "    error(train)=5.75e-01, acc(train)=8.17e-01, error(valid)=6.91e-01, acc(valid)=7.89e-01\n"
     ]
    },
    {
     "data": {
      "text/plain": "  0%|          | 0/1000 [00:00<?, ?it/s]",
      "application/vnd.jupyter.widget-view+json": {
       "version_major": 2,
       "version_minor": 0,
       "model_id": "189613d0947249ef8bae3e44c29fb44d"
      }
     },
     "metadata": {},
     "output_type": "display_data"
    },
    {
     "name": "stderr",
     "output_type": "stream",
     "text": [
      "Epoch 62: 0.4s to complete\n",
      "    error(train)=5.72e-01, acc(train)=8.19e-01, error(valid)=6.90e-01, acc(valid)=7.89e-01\n"
     ]
    },
    {
     "data": {
      "text/plain": "  0%|          | 0/1000 [00:00<?, ?it/s]",
      "application/vnd.jupyter.widget-view+json": {
       "version_major": 2,
       "version_minor": 0,
       "model_id": "28faa5beb2dc47e5829a1ff0b787cf6a"
      }
     },
     "metadata": {},
     "output_type": "display_data"
    },
    {
     "name": "stderr",
     "output_type": "stream",
     "text": [
      "Epoch 63: 0.4s to complete\n",
      "    error(train)=5.78e-01, acc(train)=8.17e-01, error(valid)=6.95e-01, acc(valid)=7.85e-01\n"
     ]
    },
    {
     "data": {
      "text/plain": "  0%|          | 0/1000 [00:00<?, ?it/s]",
      "application/vnd.jupyter.widget-view+json": {
       "version_major": 2,
       "version_minor": 0,
       "model_id": "d4714cb0a3f4490db44bc51ede5bd1bd"
      }
     },
     "metadata": {},
     "output_type": "display_data"
    },
    {
     "name": "stderr",
     "output_type": "stream",
     "text": [
      "Epoch 64: 0.4s to complete\n",
      "    error(train)=5.73e-01, acc(train)=8.19e-01, error(valid)=6.92e-01, acc(valid)=7.90e-01\n"
     ]
    },
    {
     "data": {
      "text/plain": "  0%|          | 0/1000 [00:00<?, ?it/s]",
      "application/vnd.jupyter.widget-view+json": {
       "version_major": 2,
       "version_minor": 0,
       "model_id": "d61a96bda666419f924c16dad3c3ed84"
      }
     },
     "metadata": {},
     "output_type": "display_data"
    },
    {
     "name": "stderr",
     "output_type": "stream",
     "text": [
      "Epoch 65: 0.4s to complete\n",
      "    error(train)=5.76e-01, acc(train)=8.16e-01, error(valid)=6.98e-01, acc(valid)=7.85e-01\n"
     ]
    },
    {
     "data": {
      "text/plain": "  0%|          | 0/1000 [00:00<?, ?it/s]",
      "application/vnd.jupyter.widget-view+json": {
       "version_major": 2,
       "version_minor": 0,
       "model_id": "65cab5eda25642b287b6819a09b28850"
      }
     },
     "metadata": {},
     "output_type": "display_data"
    },
    {
     "name": "stderr",
     "output_type": "stream",
     "text": [
      "Epoch 66: 0.4s to complete\n",
      "    error(train)=5.64e-01, acc(train)=8.22e-01, error(valid)=6.85e-01, acc(valid)=7.94e-01\n"
     ]
    },
    {
     "data": {
      "text/plain": "  0%|          | 0/1000 [00:00<?, ?it/s]",
      "application/vnd.jupyter.widget-view+json": {
       "version_major": 2,
       "version_minor": 0,
       "model_id": "d90e81b85e634857a758b09715b6067c"
      }
     },
     "metadata": {},
     "output_type": "display_data"
    },
    {
     "name": "stderr",
     "output_type": "stream",
     "text": [
      "Epoch 67: 0.4s to complete\n",
      "    error(train)=5.68e-01, acc(train)=8.19e-01, error(valid)=6.90e-01, acc(valid)=7.88e-01\n"
     ]
    },
    {
     "data": {
      "text/plain": "  0%|          | 0/1000 [00:00<?, ?it/s]",
      "application/vnd.jupyter.widget-view+json": {
       "version_major": 2,
       "version_minor": 0,
       "model_id": "734e94e449b444ac850b8932bd587cd9"
      }
     },
     "metadata": {},
     "output_type": "display_data"
    },
    {
     "name": "stderr",
     "output_type": "stream",
     "text": [
      "Epoch 68: 0.4s to complete\n",
      "    error(train)=5.72e-01, acc(train)=8.18e-01, error(valid)=6.97e-01, acc(valid)=7.87e-01\n"
     ]
    },
    {
     "data": {
      "text/plain": "  0%|          | 0/1000 [00:00<?, ?it/s]",
      "application/vnd.jupyter.widget-view+json": {
       "version_major": 2,
       "version_minor": 0,
       "model_id": "d4a3ea0a8b294fbdbf7f36eeb74f6e16"
      }
     },
     "metadata": {},
     "output_type": "display_data"
    },
    {
     "name": "stderr",
     "output_type": "stream",
     "text": [
      "Epoch 69: 0.6s to complete\n",
      "    error(train)=5.72e-01, acc(train)=8.17e-01, error(valid)=6.95e-01, acc(valid)=7.86e-01\n"
     ]
    },
    {
     "data": {
      "text/plain": "  0%|          | 0/1000 [00:00<?, ?it/s]",
      "application/vnd.jupyter.widget-view+json": {
       "version_major": 2,
       "version_minor": 0,
       "model_id": "d585e9bd89c34bc58c09794e585c0586"
      }
     },
     "metadata": {},
     "output_type": "display_data"
    },
    {
     "name": "stderr",
     "output_type": "stream",
     "text": [
      "Epoch 70: 0.4s to complete\n",
      "    error(train)=5.68e-01, acc(train)=8.19e-01, error(valid)=6.90e-01, acc(valid)=7.88e-01\n"
     ]
    },
    {
     "data": {
      "text/plain": "  0%|          | 0/1000 [00:00<?, ?it/s]",
      "application/vnd.jupyter.widget-view+json": {
       "version_major": 2,
       "version_minor": 0,
       "model_id": "52e465e294ed4b1f870f737bf2f3200f"
      }
     },
     "metadata": {},
     "output_type": "display_data"
    },
    {
     "name": "stderr",
     "output_type": "stream",
     "text": [
      "Epoch 71: 0.4s to complete\n",
      "    error(train)=5.69e-01, acc(train)=8.20e-01, error(valid)=6.97e-01, acc(valid)=7.89e-01\n"
     ]
    },
    {
     "data": {
      "text/plain": "  0%|          | 0/1000 [00:00<?, ?it/s]",
      "application/vnd.jupyter.widget-view+json": {
       "version_major": 2,
       "version_minor": 0,
       "model_id": "9da7d10af6c34bc4913f1c8585053f74"
      }
     },
     "metadata": {},
     "output_type": "display_data"
    },
    {
     "name": "stderr",
     "output_type": "stream",
     "text": [
      "Epoch 72: 0.4s to complete\n",
      "    error(train)=5.64e-01, acc(train)=8.21e-01, error(valid)=6.91e-01, acc(valid)=7.90e-01\n"
     ]
    },
    {
     "data": {
      "text/plain": "  0%|          | 0/1000 [00:00<?, ?it/s]",
      "application/vnd.jupyter.widget-view+json": {
       "version_major": 2,
       "version_minor": 0,
       "model_id": "9f3cc9db2fc54e1489e1d9b37380ad91"
      }
     },
     "metadata": {},
     "output_type": "display_data"
    },
    {
     "name": "stderr",
     "output_type": "stream",
     "text": [
      "Epoch 73: 0.4s to complete\n",
      "    error(train)=5.66e-01, acc(train)=8.19e-01, error(valid)=6.95e-01, acc(valid)=7.88e-01\n"
     ]
    },
    {
     "data": {
      "text/plain": "  0%|          | 0/1000 [00:00<?, ?it/s]",
      "application/vnd.jupyter.widget-view+json": {
       "version_major": 2,
       "version_minor": 0,
       "model_id": "4023310098714c19980d20a83f2f2b0d"
      }
     },
     "metadata": {},
     "output_type": "display_data"
    },
    {
     "name": "stderr",
     "output_type": "stream",
     "text": [
      "Epoch 74: 0.4s to complete\n",
      "    error(train)=5.73e-01, acc(train)=8.15e-01, error(valid)=7.01e-01, acc(valid)=7.79e-01\n"
     ]
    },
    {
     "data": {
      "text/plain": "  0%|          | 0/1000 [00:00<?, ?it/s]",
      "application/vnd.jupyter.widget-view+json": {
       "version_major": 2,
       "version_minor": 0,
       "model_id": "160f6cb2fa8449e2bda99ec84d2d326a"
      }
     },
     "metadata": {},
     "output_type": "display_data"
    },
    {
     "name": "stderr",
     "output_type": "stream",
     "text": [
      "Epoch 75: 0.5s to complete\n",
      "    error(train)=5.64e-01, acc(train)=8.20e-01, error(valid)=6.96e-01, acc(valid)=7.87e-01\n"
     ]
    },
    {
     "data": {
      "text/plain": "  0%|          | 0/1000 [00:00<?, ?it/s]",
      "application/vnd.jupyter.widget-view+json": {
       "version_major": 2,
       "version_minor": 0,
       "model_id": "550df6bd97454710a97a2b45427fa8c8"
      }
     },
     "metadata": {},
     "output_type": "display_data"
    },
    {
     "name": "stderr",
     "output_type": "stream",
     "text": [
      "Epoch 76: 0.4s to complete\n",
      "    error(train)=5.64e-01, acc(train)=8.22e-01, error(valid)=6.99e-01, acc(valid)=7.89e-01\n"
     ]
    },
    {
     "data": {
      "text/plain": "  0%|          | 0/1000 [00:00<?, ?it/s]",
      "application/vnd.jupyter.widget-view+json": {
       "version_major": 2,
       "version_minor": 0,
       "model_id": "aa710b22bd1a4dfb8de2992fa1188bb0"
      }
     },
     "metadata": {},
     "output_type": "display_data"
    },
    {
     "name": "stderr",
     "output_type": "stream",
     "text": [
      "Epoch 77: 0.4s to complete\n",
      "    error(train)=5.64e-01, acc(train)=8.21e-01, error(valid)=7.00e-01, acc(valid)=7.89e-01\n"
     ]
    },
    {
     "data": {
      "text/plain": "  0%|          | 0/1000 [00:00<?, ?it/s]",
      "application/vnd.jupyter.widget-view+json": {
       "version_major": 2,
       "version_minor": 0,
       "model_id": "ee9cd4dc59854ce6956b8c52d7005fed"
      }
     },
     "metadata": {},
     "output_type": "display_data"
    },
    {
     "name": "stderr",
     "output_type": "stream",
     "text": [
      "Epoch 78: 0.4s to complete\n",
      "    error(train)=5.60e-01, acc(train)=8.22e-01, error(valid)=6.93e-01, acc(valid)=7.87e-01\n"
     ]
    },
    {
     "data": {
      "text/plain": "  0%|          | 0/1000 [00:00<?, ?it/s]",
      "application/vnd.jupyter.widget-view+json": {
       "version_major": 2,
       "version_minor": 0,
       "model_id": "1e24f33471804b3cb9367066a383faaf"
      }
     },
     "metadata": {},
     "output_type": "display_data"
    },
    {
     "name": "stderr",
     "output_type": "stream",
     "text": [
      "Epoch 79: 0.4s to complete\n",
      "    error(train)=5.61e-01, acc(train)=8.22e-01, error(valid)=6.96e-01, acc(valid)=7.89e-01\n"
     ]
    },
    {
     "data": {
      "text/plain": "  0%|          | 0/1000 [00:00<?, ?it/s]",
      "application/vnd.jupyter.widget-view+json": {
       "version_major": 2,
       "version_minor": 0,
       "model_id": "4bc82870d9724a4f9558bd7f5f291619"
      }
     },
     "metadata": {},
     "output_type": "display_data"
    },
    {
     "name": "stderr",
     "output_type": "stream",
     "text": [
      "Epoch 80: 0.4s to complete\n",
      "    error(train)=5.58e-01, acc(train)=8.23e-01, error(valid)=6.92e-01, acc(valid)=7.91e-01\n"
     ]
    },
    {
     "data": {
      "text/plain": "  0%|          | 0/1000 [00:00<?, ?it/s]",
      "application/vnd.jupyter.widget-view+json": {
       "version_major": 2,
       "version_minor": 0,
       "model_id": "7916403e36fa4f52adbf49d17b16d063"
      }
     },
     "metadata": {},
     "output_type": "display_data"
    },
    {
     "name": "stderr",
     "output_type": "stream",
     "text": [
      "Epoch 81: 0.4s to complete\n",
      "    error(train)=5.64e-01, acc(train)=8.21e-01, error(valid)=7.00e-01, acc(valid)=7.86e-01\n"
     ]
    },
    {
     "data": {
      "text/plain": "  0%|          | 0/1000 [00:00<?, ?it/s]",
      "application/vnd.jupyter.widget-view+json": {
       "version_major": 2,
       "version_minor": 0,
       "model_id": "dbb0a09cf13249adafd28cf090b00894"
      }
     },
     "metadata": {},
     "output_type": "display_data"
    },
    {
     "name": "stderr",
     "output_type": "stream",
     "text": [
      "Epoch 82: 0.5s to complete\n",
      "    error(train)=5.58e-01, acc(train)=8.22e-01, error(valid)=6.92e-01, acc(valid)=7.90e-01\n"
     ]
    },
    {
     "data": {
      "text/plain": "  0%|          | 0/1000 [00:00<?, ?it/s]",
      "application/vnd.jupyter.widget-view+json": {
       "version_major": 2,
       "version_minor": 0,
       "model_id": "4b69864414c443e1a790b80ac6dcc37b"
      }
     },
     "metadata": {},
     "output_type": "display_data"
    },
    {
     "name": "stderr",
     "output_type": "stream",
     "text": [
      "Epoch 83: 0.4s to complete\n",
      "    error(train)=5.58e-01, acc(train)=8.23e-01, error(valid)=6.98e-01, acc(valid)=7.89e-01\n"
     ]
    },
    {
     "data": {
      "text/plain": "  0%|          | 0/1000 [00:00<?, ?it/s]",
      "application/vnd.jupyter.widget-view+json": {
       "version_major": 2,
       "version_minor": 0,
       "model_id": "b7331bef85904cc2b8b5012d8be21dcf"
      }
     },
     "metadata": {},
     "output_type": "display_data"
    },
    {
     "name": "stderr",
     "output_type": "stream",
     "text": [
      "Epoch 84: 0.3s to complete\n",
      "    error(train)=5.60e-01, acc(train)=8.22e-01, error(valid)=6.98e-01, acc(valid)=7.88e-01\n"
     ]
    },
    {
     "data": {
      "text/plain": "  0%|          | 0/1000 [00:00<?, ?it/s]",
      "application/vnd.jupyter.widget-view+json": {
       "version_major": 2,
       "version_minor": 0,
       "model_id": "2f6d1fd4adbc4c89b0e4bdaa604b7c52"
      }
     },
     "metadata": {},
     "output_type": "display_data"
    },
    {
     "name": "stderr",
     "output_type": "stream",
     "text": [
      "Epoch 85: 0.4s to complete\n",
      "    error(train)=5.55e-01, acc(train)=8.24e-01, error(valid)=6.92e-01, acc(valid)=7.89e-01\n"
     ]
    },
    {
     "data": {
      "text/plain": "  0%|          | 0/1000 [00:00<?, ?it/s]",
      "application/vnd.jupyter.widget-view+json": {
       "version_major": 2,
       "version_minor": 0,
       "model_id": "5413f1a3362b4e93b297effd4fe0d205"
      }
     },
     "metadata": {},
     "output_type": "display_data"
    },
    {
     "name": "stderr",
     "output_type": "stream",
     "text": [
      "Epoch 86: 0.4s to complete\n",
      "    error(train)=5.59e-01, acc(train)=8.20e-01, error(valid)=7.00e-01, acc(valid)=7.84e-01\n"
     ]
    },
    {
     "data": {
      "text/plain": "  0%|          | 0/1000 [00:00<?, ?it/s]",
      "application/vnd.jupyter.widget-view+json": {
       "version_major": 2,
       "version_minor": 0,
       "model_id": "884208a69bc74313904ed12ad6843166"
      }
     },
     "metadata": {},
     "output_type": "display_data"
    },
    {
     "name": "stderr",
     "output_type": "stream",
     "text": [
      "Epoch 87: 0.5s to complete\n",
      "    error(train)=5.57e-01, acc(train)=8.22e-01, error(valid)=6.97e-01, acc(valid)=7.88e-01\n"
     ]
    },
    {
     "data": {
      "text/plain": "  0%|          | 0/1000 [00:00<?, ?it/s]",
      "application/vnd.jupyter.widget-view+json": {
       "version_major": 2,
       "version_minor": 0,
       "model_id": "1d4d35f8335f4bf39caab98eca1bcc38"
      }
     },
     "metadata": {},
     "output_type": "display_data"
    },
    {
     "name": "stderr",
     "output_type": "stream",
     "text": [
      "Epoch 88: 0.4s to complete\n",
      "    error(train)=5.57e-01, acc(train)=8.20e-01, error(valid)=7.01e-01, acc(valid)=7.87e-01\n"
     ]
    },
    {
     "data": {
      "text/plain": "  0%|          | 0/1000 [00:00<?, ?it/s]",
      "application/vnd.jupyter.widget-view+json": {
       "version_major": 2,
       "version_minor": 0,
       "model_id": "4eb2b14ccdb3488faaf4e5e171367a42"
      }
     },
     "metadata": {},
     "output_type": "display_data"
    },
    {
     "name": "stderr",
     "output_type": "stream",
     "text": [
      "Epoch 89: 0.4s to complete\n",
      "    error(train)=5.54e-01, acc(train)=8.25e-01, error(valid)=6.95e-01, acc(valid)=7.87e-01\n"
     ]
    },
    {
     "data": {
      "text/plain": "  0%|          | 0/1000 [00:00<?, ?it/s]",
      "application/vnd.jupyter.widget-view+json": {
       "version_major": 2,
       "version_minor": 0,
       "model_id": "e94ea160925e47d6b02b6aa1dd20f13f"
      }
     },
     "metadata": {},
     "output_type": "display_data"
    },
    {
     "name": "stderr",
     "output_type": "stream",
     "text": [
      "Epoch 90: 0.5s to complete\n",
      "    error(train)=5.53e-01, acc(train)=8.23e-01, error(valid)=6.92e-01, acc(valid)=7.86e-01\n"
     ]
    },
    {
     "data": {
      "text/plain": "  0%|          | 0/1000 [00:00<?, ?it/s]",
      "application/vnd.jupyter.widget-view+json": {
       "version_major": 2,
       "version_minor": 0,
       "model_id": "739900474b0a4551a05483981992f2da"
      }
     },
     "metadata": {},
     "output_type": "display_data"
    },
    {
     "name": "stderr",
     "output_type": "stream",
     "text": [
      "Epoch 91: 0.4s to complete\n",
      "    error(train)=5.60e-01, acc(train)=8.21e-01, error(valid)=6.99e-01, acc(valid)=7.86e-01\n"
     ]
    },
    {
     "data": {
      "text/plain": "  0%|          | 0/1000 [00:00<?, ?it/s]",
      "application/vnd.jupyter.widget-view+json": {
       "version_major": 2,
       "version_minor": 0,
       "model_id": "f7378bdc4d934905a0191dd3e32d0069"
      }
     },
     "metadata": {},
     "output_type": "display_data"
    },
    {
     "name": "stderr",
     "output_type": "stream",
     "text": [
      "Epoch 92: 0.4s to complete\n",
      "    error(train)=5.59e-01, acc(train)=8.20e-01, error(valid)=7.02e-01, acc(valid)=7.85e-01\n"
     ]
    },
    {
     "data": {
      "text/plain": "  0%|          | 0/1000 [00:00<?, ?it/s]",
      "application/vnd.jupyter.widget-view+json": {
       "version_major": 2,
       "version_minor": 0,
       "model_id": "b67f76fdf6d64c269353894796340794"
      }
     },
     "metadata": {},
     "output_type": "display_data"
    },
    {
     "name": "stderr",
     "output_type": "stream",
     "text": [
      "Epoch 93: 0.4s to complete\n",
      "    error(train)=5.50e-01, acc(train)=8.25e-01, error(valid)=6.94e-01, acc(valid)=7.91e-01\n"
     ]
    },
    {
     "data": {
      "text/plain": "  0%|          | 0/1000 [00:00<?, ?it/s]",
      "application/vnd.jupyter.widget-view+json": {
       "version_major": 2,
       "version_minor": 0,
       "model_id": "fa458a6ebea447e1bbb4c8e8041c85b7"
      }
     },
     "metadata": {},
     "output_type": "display_data"
    },
    {
     "name": "stderr",
     "output_type": "stream",
     "text": [
      "Epoch 94: 0.4s to complete\n",
      "    error(train)=5.55e-01, acc(train)=8.23e-01, error(valid)=6.99e-01, acc(valid)=7.88e-01\n"
     ]
    },
    {
     "data": {
      "text/plain": "  0%|          | 0/1000 [00:00<?, ?it/s]",
      "application/vnd.jupyter.widget-view+json": {
       "version_major": 2,
       "version_minor": 0,
       "model_id": "37859dec3bce453995707c676ef18f9e"
      }
     },
     "metadata": {},
     "output_type": "display_data"
    },
    {
     "name": "stderr",
     "output_type": "stream",
     "text": [
      "Epoch 95: 0.4s to complete\n",
      "    error(train)=5.52e-01, acc(train)=8.24e-01, error(valid)=6.95e-01, acc(valid)=7.88e-01\n"
     ]
    },
    {
     "data": {
      "text/plain": "  0%|          | 0/1000 [00:00<?, ?it/s]",
      "application/vnd.jupyter.widget-view+json": {
       "version_major": 2,
       "version_minor": 0,
       "model_id": "158c12200853448c92021a08dd047203"
      }
     },
     "metadata": {},
     "output_type": "display_data"
    },
    {
     "name": "stderr",
     "output_type": "stream",
     "text": [
      "Epoch 96: 0.5s to complete\n",
      "    error(train)=5.50e-01, acc(train)=8.26e-01, error(valid)=6.96e-01, acc(valid)=7.90e-01\n"
     ]
    },
    {
     "data": {
      "text/plain": "  0%|          | 0/1000 [00:00<?, ?it/s]",
      "application/vnd.jupyter.widget-view+json": {
       "version_major": 2,
       "version_minor": 0,
       "model_id": "22e845611f5243dd83e2a175f7561a27"
      }
     },
     "metadata": {},
     "output_type": "display_data"
    },
    {
     "name": "stderr",
     "output_type": "stream",
     "text": [
      "Epoch 97: 0.5s to complete\n",
      "    error(train)=5.54e-01, acc(train)=8.23e-01, error(valid)=6.98e-01, acc(valid)=7.89e-01\n"
     ]
    },
    {
     "data": {
      "text/plain": "  0%|          | 0/1000 [00:00<?, ?it/s]",
      "application/vnd.jupyter.widget-view+json": {
       "version_major": 2,
       "version_minor": 0,
       "model_id": "440fed5247fe46ea96161a14adf8914f"
      }
     },
     "metadata": {},
     "output_type": "display_data"
    },
    {
     "name": "stderr",
     "output_type": "stream",
     "text": [
      "Epoch 98: 0.4s to complete\n",
      "    error(train)=5.49e-01, acc(train)=8.25e-01, error(valid)=6.97e-01, acc(valid)=7.86e-01\n"
     ]
    },
    {
     "data": {
      "text/plain": "  0%|          | 0/1000 [00:00<?, ?it/s]",
      "application/vnd.jupyter.widget-view+json": {
       "version_major": 2,
       "version_minor": 0,
       "model_id": "f6767b96715d4a36a6270db351d76797"
      }
     },
     "metadata": {},
     "output_type": "display_data"
    },
    {
     "name": "stderr",
     "output_type": "stream",
     "text": [
      "Epoch 99: 0.4s to complete\n",
      "    error(train)=5.56e-01, acc(train)=8.22e-01, error(valid)=7.07e-01, acc(valid)=7.88e-01\n"
     ]
    },
    {
     "data": {
      "text/plain": "  0%|          | 0/1000 [00:00<?, ?it/s]",
      "application/vnd.jupyter.widget-view+json": {
       "version_major": 2,
       "version_minor": 0,
       "model_id": "9472a07140ee47bd8997285590a53f69"
      }
     },
     "metadata": {},
     "output_type": "display_data"
    },
    {
     "name": "stderr",
     "output_type": "stream",
     "text": [
      "Epoch 100: 0.4s to complete\n",
      "    error(train)=5.46e-01, acc(train)=8.26e-01, error(valid)=6.96e-01, acc(valid)=7.88e-01\n"
     ]
    },
    {
     "data": {
      "text/plain": "  0%|          | 0/100 [00:00<?, ?it/s]",
      "application/vnd.jupyter.widget-view+json": {
       "version_major": 2,
       "version_minor": 0,
       "model_id": "7b5222bb9c504d8a91bcf59e9391f9d1"
      }
     },
     "metadata": {},
     "output_type": "display_data"
    },
    {
     "data": {
      "text/plain": "  0%|          | 0/1000 [00:00<?, ?it/s]",
      "application/vnd.jupyter.widget-view+json": {
       "version_major": 2,
       "version_minor": 0,
       "model_id": "73d34e665fe54a798a7403855b282277"
      }
     },
     "metadata": {},
     "output_type": "display_data"
    },
    {
     "name": "stderr",
     "output_type": "stream",
     "text": [
      "Epoch 1: 0.5s to complete\n",
      "    error(train)=1.06e+00, acc(train)=7.01e-01, error(valid)=1.07e+00, acc(valid)=7.00e-01\n"
     ]
    },
    {
     "data": {
      "text/plain": "  0%|          | 0/1000 [00:00<?, ?it/s]",
      "application/vnd.jupyter.widget-view+json": {
       "version_major": 2,
       "version_minor": 0,
       "model_id": "ab3a2b04d7de409489b421ad85b9630c"
      }
     },
     "metadata": {},
     "output_type": "display_data"
    },
    {
     "name": "stderr",
     "output_type": "stream",
     "text": [
      "Epoch 2: 0.6s to complete\n",
      "    error(train)=8.80e-01, acc(train)=7.45e-01, error(valid)=8.96e-01, acc(valid)=7.39e-01\n"
     ]
    },
    {
     "data": {
      "text/plain": "  0%|          | 0/1000 [00:00<?, ?it/s]",
      "application/vnd.jupyter.widget-view+json": {
       "version_major": 2,
       "version_minor": 0,
       "model_id": "c2404845b6f64339b1a9d77cc8e9bdb5"
      }
     },
     "metadata": {},
     "output_type": "display_data"
    },
    {
     "name": "stderr",
     "output_type": "stream",
     "text": [
      "Epoch 3: 0.5s to complete\n",
      "    error(train)=7.83e-01, acc(train)=7.70e-01, error(valid)=8.13e-01, acc(valid)=7.58e-01\n"
     ]
    },
    {
     "data": {
      "text/plain": "  0%|          | 0/1000 [00:00<?, ?it/s]",
      "application/vnd.jupyter.widget-view+json": {
       "version_major": 2,
       "version_minor": 0,
       "model_id": "21a3b2da368f4674abed39ffac1e9537"
      }
     },
     "metadata": {},
     "output_type": "display_data"
    },
    {
     "name": "stderr",
     "output_type": "stream",
     "text": [
      "Epoch 4: 0.5s to complete\n",
      "    error(train)=7.16e-01, acc(train)=7.85e-01, error(valid)=7.54e-01, acc(valid)=7.75e-01\n"
     ]
    },
    {
     "data": {
      "text/plain": "  0%|          | 0/1000 [00:00<?, ?it/s]",
      "application/vnd.jupyter.widget-view+json": {
       "version_major": 2,
       "version_minor": 0,
       "model_id": "aff0131050284a51b5115bf71f678d17"
      }
     },
     "metadata": {},
     "output_type": "display_data"
    },
    {
     "name": "stderr",
     "output_type": "stream",
     "text": [
      "Epoch 5: 0.5s to complete\n",
      "    error(train)=6.73e-01, acc(train)=7.95e-01, error(valid)=7.20e-01, acc(valid)=7.80e-01\n"
     ]
    },
    {
     "data": {
      "text/plain": "  0%|          | 0/1000 [00:00<?, ?it/s]",
      "application/vnd.jupyter.widget-view+json": {
       "version_major": 2,
       "version_minor": 0,
       "model_id": "2c7855c9bfae4fff822f2028d0e7bdfe"
      }
     },
     "metadata": {},
     "output_type": "display_data"
    },
    {
     "name": "stderr",
     "output_type": "stream",
     "text": [
      "Epoch 6: 0.5s to complete\n",
      "    error(train)=6.29e-01, acc(train)=8.07e-01, error(valid)=6.83e-01, acc(valid)=7.91e-01\n"
     ]
    },
    {
     "data": {
      "text/plain": "  0%|          | 0/1000 [00:00<?, ?it/s]",
      "application/vnd.jupyter.widget-view+json": {
       "version_major": 2,
       "version_minor": 0,
       "model_id": "140fa5e1d66d4c9db916c8fb34080ea6"
      }
     },
     "metadata": {},
     "output_type": "display_data"
    },
    {
     "name": "stderr",
     "output_type": "stream",
     "text": [
      "Epoch 7: 0.5s to complete\n",
      "    error(train)=6.02e-01, acc(train)=8.14e-01, error(valid)=6.56e-01, acc(valid)=8.01e-01\n"
     ]
    },
    {
     "data": {
      "text/plain": "  0%|          | 0/1000 [00:00<?, ?it/s]",
      "application/vnd.jupyter.widget-view+json": {
       "version_major": 2,
       "version_minor": 0,
       "model_id": "4b5fe95b393f4d1384d07792d4f62aba"
      }
     },
     "metadata": {},
     "output_type": "display_data"
    },
    {
     "name": "stderr",
     "output_type": "stream",
     "text": [
      "Epoch 8: 0.5s to complete\n",
      "    error(train)=5.89e-01, acc(train)=8.16e-01, error(valid)=6.51e-01, acc(valid)=7.97e-01\n"
     ]
    },
    {
     "data": {
      "text/plain": "  0%|          | 0/1000 [00:00<?, ?it/s]",
      "application/vnd.jupyter.widget-view+json": {
       "version_major": 2,
       "version_minor": 0,
       "model_id": "845a7b71b78f487cb58e147c87a4cc9b"
      }
     },
     "metadata": {},
     "output_type": "display_data"
    },
    {
     "name": "stderr",
     "output_type": "stream",
     "text": [
      "Epoch 9: 0.5s to complete\n",
      "    error(train)=5.63e-01, acc(train)=8.24e-01, error(valid)=6.26e-01, acc(valid)=8.07e-01\n"
     ]
    },
    {
     "data": {
      "text/plain": "  0%|          | 0/1000 [00:00<?, ?it/s]",
      "application/vnd.jupyter.widget-view+json": {
       "version_major": 2,
       "version_minor": 0,
       "model_id": "9eaf7ee0c87244a489030a174fc6e905"
      }
     },
     "metadata": {},
     "output_type": "display_data"
    },
    {
     "name": "stderr",
     "output_type": "stream",
     "text": [
      "Epoch 10: 0.5s to complete\n",
      "    error(train)=5.53e-01, acc(train)=8.24e-01, error(valid)=6.23e-01, acc(valid)=8.05e-01\n"
     ]
    },
    {
     "data": {
      "text/plain": "  0%|          | 0/1000 [00:00<?, ?it/s]",
      "application/vnd.jupyter.widget-view+json": {
       "version_major": 2,
       "version_minor": 0,
       "model_id": "c4a1c6ba636d4c98b0e79b36ac3f6f91"
      }
     },
     "metadata": {},
     "output_type": "display_data"
    },
    {
     "name": "stderr",
     "output_type": "stream",
     "text": [
      "Epoch 11: 0.5s to complete\n",
      "    error(train)=5.37e-01, acc(train)=8.29e-01, error(valid)=6.13e-01, acc(valid)=8.05e-01\n"
     ]
    },
    {
     "data": {
      "text/plain": "  0%|          | 0/1000 [00:00<?, ?it/s]",
      "application/vnd.jupyter.widget-view+json": {
       "version_major": 2,
       "version_minor": 0,
       "model_id": "366e4141381b445d90817571deb78fe9"
      }
     },
     "metadata": {},
     "output_type": "display_data"
    },
    {
     "name": "stderr",
     "output_type": "stream",
     "text": [
      "Epoch 12: 0.5s to complete\n",
      "    error(train)=5.32e-01, acc(train)=8.28e-01, error(valid)=6.10e-01, acc(valid)=8.08e-01\n"
     ]
    },
    {
     "data": {
      "text/plain": "  0%|          | 0/1000 [00:00<?, ?it/s]",
      "application/vnd.jupyter.widget-view+json": {
       "version_major": 2,
       "version_minor": 0,
       "model_id": "7d4d71c8726b4ed0ab542d10b39e3f8b"
      }
     },
     "metadata": {},
     "output_type": "display_data"
    },
    {
     "name": "stderr",
     "output_type": "stream",
     "text": [
      "Epoch 13: 0.6s to complete\n",
      "    error(train)=5.14e-01, acc(train)=8.37e-01, error(valid)=5.99e-01, acc(valid)=8.13e-01\n"
     ]
    },
    {
     "data": {
      "text/plain": "  0%|          | 0/1000 [00:00<?, ?it/s]",
      "application/vnd.jupyter.widget-view+json": {
       "version_major": 2,
       "version_minor": 0,
       "model_id": "fe182d87134142a19e479d5d722b8d7c"
      }
     },
     "metadata": {},
     "output_type": "display_data"
    },
    {
     "name": "stderr",
     "output_type": "stream",
     "text": [
      "Epoch 14: 0.5s to complete\n",
      "    error(train)=5.04e-01, acc(train)=8.39e-01, error(valid)=5.95e-01, acc(valid)=8.14e-01\n"
     ]
    },
    {
     "data": {
      "text/plain": "  0%|          | 0/1000 [00:00<?, ?it/s]",
      "application/vnd.jupyter.widget-view+json": {
       "version_major": 2,
       "version_minor": 0,
       "model_id": "318d2bec98914d91842603546195b397"
      }
     },
     "metadata": {},
     "output_type": "display_data"
    },
    {
     "name": "stderr",
     "output_type": "stream",
     "text": [
      "Epoch 15: 0.6s to complete\n",
      "    error(train)=5.01e-01, acc(train)=8.39e-01, error(valid)=5.95e-01, acc(valid)=8.10e-01\n"
     ]
    },
    {
     "data": {
      "text/plain": "  0%|          | 0/1000 [00:00<?, ?it/s]",
      "application/vnd.jupyter.widget-view+json": {
       "version_major": 2,
       "version_minor": 0,
       "model_id": "d667088f55734c0fb87b326bee806f8a"
      }
     },
     "metadata": {},
     "output_type": "display_data"
    },
    {
     "name": "stderr",
     "output_type": "stream",
     "text": [
      "Epoch 16: 0.5s to complete\n",
      "    error(train)=4.83e-01, acc(train)=8.45e-01, error(valid)=5.83e-01, acc(valid)=8.17e-01\n"
     ]
    },
    {
     "data": {
      "text/plain": "  0%|          | 0/1000 [00:00<?, ?it/s]",
      "application/vnd.jupyter.widget-view+json": {
       "version_major": 2,
       "version_minor": 0,
       "model_id": "1269454d5d174e3d8fe0840d41c3fcfb"
      }
     },
     "metadata": {},
     "output_type": "display_data"
    },
    {
     "name": "stderr",
     "output_type": "stream",
     "text": [
      "Epoch 17: 0.5s to complete\n",
      "    error(train)=4.80e-01, acc(train)=8.44e-01, error(valid)=5.84e-01, acc(valid)=8.13e-01\n"
     ]
    },
    {
     "data": {
      "text/plain": "  0%|          | 0/1000 [00:00<?, ?it/s]",
      "application/vnd.jupyter.widget-view+json": {
       "version_major": 2,
       "version_minor": 0,
       "model_id": "49f483662c684f3e826bafd660d5f2dd"
      }
     },
     "metadata": {},
     "output_type": "display_data"
    },
    {
     "name": "stderr",
     "output_type": "stream",
     "text": [
      "Epoch 18: 0.6s to complete\n",
      "    error(train)=4.79e-01, acc(train)=8.45e-01, error(valid)=5.87e-01, acc(valid)=8.16e-01\n"
     ]
    },
    {
     "data": {
      "text/plain": "  0%|          | 0/1000 [00:00<?, ?it/s]",
      "application/vnd.jupyter.widget-view+json": {
       "version_major": 2,
       "version_minor": 0,
       "model_id": "9d9422e015b1477ca63a9f008bc2ff12"
      }
     },
     "metadata": {},
     "output_type": "display_data"
    },
    {
     "name": "stderr",
     "output_type": "stream",
     "text": [
      "Epoch 19: 0.5s to complete\n",
      "    error(train)=4.68e-01, acc(train)=8.48e-01, error(valid)=5.83e-01, acc(valid)=8.18e-01\n"
     ]
    },
    {
     "data": {
      "text/plain": "  0%|          | 0/1000 [00:00<?, ?it/s]",
      "application/vnd.jupyter.widget-view+json": {
       "version_major": 2,
       "version_minor": 0,
       "model_id": "8f65e87585b248119a56f388256b4ec6"
      }
     },
     "metadata": {},
     "output_type": "display_data"
    },
    {
     "name": "stderr",
     "output_type": "stream",
     "text": [
      "Epoch 20: 0.5s to complete\n",
      "    error(train)=4.64e-01, acc(train)=8.46e-01, error(valid)=5.78e-01, acc(valid)=8.16e-01\n"
     ]
    },
    {
     "data": {
      "text/plain": "  0%|          | 0/1000 [00:00<?, ?it/s]",
      "application/vnd.jupyter.widget-view+json": {
       "version_major": 2,
       "version_minor": 0,
       "model_id": "3c0b0dc71a6941738c5963c963c8fdc4"
      }
     },
     "metadata": {},
     "output_type": "display_data"
    },
    {
     "name": "stderr",
     "output_type": "stream",
     "text": [
      "Epoch 21: 0.6s to complete\n",
      "    error(train)=4.66e-01, acc(train)=8.44e-01, error(valid)=5.88e-01, acc(valid)=8.14e-01\n"
     ]
    },
    {
     "data": {
      "text/plain": "  0%|          | 0/1000 [00:00<?, ?it/s]",
      "application/vnd.jupyter.widget-view+json": {
       "version_major": 2,
       "version_minor": 0,
       "model_id": "27035258d12f46d18c4d302d8d68ea84"
      }
     },
     "metadata": {},
     "output_type": "display_data"
    },
    {
     "name": "stderr",
     "output_type": "stream",
     "text": [
      "Epoch 22: 0.6s to complete\n",
      "    error(train)=4.63e-01, acc(train)=8.48e-01, error(valid)=5.90e-01, acc(valid)=8.14e-01\n"
     ]
    },
    {
     "data": {
      "text/plain": "  0%|          | 0/1000 [00:00<?, ?it/s]",
      "application/vnd.jupyter.widget-view+json": {
       "version_major": 2,
       "version_minor": 0,
       "model_id": "684b6d89041643798a002791a3073883"
      }
     },
     "metadata": {},
     "output_type": "display_data"
    },
    {
     "name": "stderr",
     "output_type": "stream",
     "text": [
      "Epoch 23: 0.5s to complete\n",
      "    error(train)=4.57e-01, acc(train)=8.49e-01, error(valid)=5.84e-01, acc(valid)=8.18e-01\n"
     ]
    },
    {
     "data": {
      "text/plain": "  0%|          | 0/1000 [00:00<?, ?it/s]",
      "application/vnd.jupyter.widget-view+json": {
       "version_major": 2,
       "version_minor": 0,
       "model_id": "4678f5c6fc9a40be9242b0492c4b4ef6"
      }
     },
     "metadata": {},
     "output_type": "display_data"
    },
    {
     "name": "stderr",
     "output_type": "stream",
     "text": [
      "Epoch 24: 0.5s to complete\n",
      "    error(train)=4.48e-01, acc(train)=8.52e-01, error(valid)=5.77e-01, acc(valid)=8.21e-01\n"
     ]
    },
    {
     "data": {
      "text/plain": "  0%|          | 0/1000 [00:00<?, ?it/s]",
      "application/vnd.jupyter.widget-view+json": {
       "version_major": 2,
       "version_minor": 0,
       "model_id": "55fa3f720e85497d821ef26f9337fb81"
      }
     },
     "metadata": {},
     "output_type": "display_data"
    },
    {
     "name": "stderr",
     "output_type": "stream",
     "text": [
      "Epoch 25: 0.6s to complete\n",
      "    error(train)=4.43e-01, acc(train)=8.54e-01, error(valid)=5.75e-01, acc(valid)=8.19e-01\n"
     ]
    },
    {
     "data": {
      "text/plain": "  0%|          | 0/1000 [00:00<?, ?it/s]",
      "application/vnd.jupyter.widget-view+json": {
       "version_major": 2,
       "version_minor": 0,
       "model_id": "38d7d7fc944f4f5fa6ee9355e001d4e7"
      }
     },
     "metadata": {},
     "output_type": "display_data"
    },
    {
     "name": "stderr",
     "output_type": "stream",
     "text": [
      "Epoch 26: 0.5s to complete\n",
      "    error(train)=4.37e-01, acc(train)=8.56e-01, error(valid)=5.73e-01, acc(valid)=8.21e-01\n"
     ]
    },
    {
     "data": {
      "text/plain": "  0%|          | 0/1000 [00:00<?, ?it/s]",
      "application/vnd.jupyter.widget-view+json": {
       "version_major": 2,
       "version_minor": 0,
       "model_id": "96f980349c9840d5b3d779f8b46feddc"
      }
     },
     "metadata": {},
     "output_type": "display_data"
    },
    {
     "name": "stderr",
     "output_type": "stream",
     "text": [
      "Epoch 27: 0.6s to complete\n",
      "    error(train)=4.30e-01, acc(train)=8.57e-01, error(valid)=5.70e-01, acc(valid)=8.20e-01\n"
     ]
    },
    {
     "data": {
      "text/plain": "  0%|          | 0/1000 [00:00<?, ?it/s]",
      "application/vnd.jupyter.widget-view+json": {
       "version_major": 2,
       "version_minor": 0,
       "model_id": "5024bb11e7614afbaa0d321105a0a1de"
      }
     },
     "metadata": {},
     "output_type": "display_data"
    },
    {
     "name": "stderr",
     "output_type": "stream",
     "text": [
      "Epoch 28: 0.5s to complete\n",
      "    error(train)=4.33e-01, acc(train)=8.57e-01, error(valid)=5.77e-01, acc(valid)=8.20e-01\n"
     ]
    },
    {
     "data": {
      "text/plain": "  0%|          | 0/1000 [00:00<?, ?it/s]",
      "application/vnd.jupyter.widget-view+json": {
       "version_major": 2,
       "version_minor": 0,
       "model_id": "9a7b5e4dbbd645aba6df903cf5832d92"
      }
     },
     "metadata": {},
     "output_type": "display_data"
    },
    {
     "name": "stderr",
     "output_type": "stream",
     "text": [
      "Epoch 29: 0.5s to complete\n",
      "    error(train)=4.27e-01, acc(train)=8.59e-01, error(valid)=5.76e-01, acc(valid)=8.19e-01\n"
     ]
    },
    {
     "data": {
      "text/plain": "  0%|          | 0/1000 [00:00<?, ?it/s]",
      "application/vnd.jupyter.widget-view+json": {
       "version_major": 2,
       "version_minor": 0,
       "model_id": "6a41bcc048f647f699637086641f5e0e"
      }
     },
     "metadata": {},
     "output_type": "display_data"
    },
    {
     "name": "stderr",
     "output_type": "stream",
     "text": [
      "Epoch 30: 0.5s to complete\n",
      "    error(train)=4.28e-01, acc(train)=8.57e-01, error(valid)=5.79e-01, acc(valid)=8.17e-01\n"
     ]
    },
    {
     "data": {
      "text/plain": "  0%|          | 0/1000 [00:00<?, ?it/s]",
      "application/vnd.jupyter.widget-view+json": {
       "version_major": 2,
       "version_minor": 0,
       "model_id": "21d0e0d609a3476aa978812352767bc6"
      }
     },
     "metadata": {},
     "output_type": "display_data"
    },
    {
     "name": "stderr",
     "output_type": "stream",
     "text": [
      "Epoch 31: 0.5s to complete\n",
      "    error(train)=4.25e-01, acc(train)=8.58e-01, error(valid)=5.82e-01, acc(valid)=8.21e-01\n"
     ]
    },
    {
     "data": {
      "text/plain": "  0%|          | 0/1000 [00:00<?, ?it/s]",
      "application/vnd.jupyter.widget-view+json": {
       "version_major": 2,
       "version_minor": 0,
       "model_id": "ef0984903a5c401787f5c67f9a43ac20"
      }
     },
     "metadata": {},
     "output_type": "display_data"
    },
    {
     "name": "stderr",
     "output_type": "stream",
     "text": [
      "Epoch 32: 0.6s to complete\n",
      "    error(train)=4.17e-01, acc(train)=8.60e-01, error(valid)=5.77e-01, acc(valid)=8.20e-01\n"
     ]
    },
    {
     "data": {
      "text/plain": "  0%|          | 0/1000 [00:00<?, ?it/s]",
      "application/vnd.jupyter.widget-view+json": {
       "version_major": 2,
       "version_minor": 0,
       "model_id": "8a42e17180414f74bced0d34d31f2f95"
      }
     },
     "metadata": {},
     "output_type": "display_data"
    },
    {
     "name": "stderr",
     "output_type": "stream",
     "text": [
      "Epoch 33: 0.5s to complete\n",
      "    error(train)=4.19e-01, acc(train)=8.57e-01, error(valid)=5.81e-01, acc(valid)=8.14e-01\n"
     ]
    },
    {
     "data": {
      "text/plain": "  0%|          | 0/1000 [00:00<?, ?it/s]",
      "application/vnd.jupyter.widget-view+json": {
       "version_major": 2,
       "version_minor": 0,
       "model_id": "88854d87d56b4f63b3d2ebb2451ed9b3"
      }
     },
     "metadata": {},
     "output_type": "display_data"
    },
    {
     "name": "stderr",
     "output_type": "stream",
     "text": [
      "Epoch 34: 0.6s to complete\n",
      "    error(train)=4.20e-01, acc(train)=8.55e-01, error(valid)=5.80e-01, acc(valid)=8.16e-01\n"
     ]
    },
    {
     "data": {
      "text/plain": "  0%|          | 0/1000 [00:00<?, ?it/s]",
      "application/vnd.jupyter.widget-view+json": {
       "version_major": 2,
       "version_minor": 0,
       "model_id": "e6d18cf3e89b4ce19dff509c37f1f4b2"
      }
     },
     "metadata": {},
     "output_type": "display_data"
    },
    {
     "name": "stderr",
     "output_type": "stream",
     "text": [
      "Epoch 35: 0.5s to complete\n",
      "    error(train)=4.10e-01, acc(train)=8.62e-01, error(valid)=5.73e-01, acc(valid)=8.19e-01\n"
     ]
    },
    {
     "data": {
      "text/plain": "  0%|          | 0/1000 [00:00<?, ?it/s]",
      "application/vnd.jupyter.widget-view+json": {
       "version_major": 2,
       "version_minor": 0,
       "model_id": "9d9b238892984855a44b95fdaecad8a7"
      }
     },
     "metadata": {},
     "output_type": "display_data"
    },
    {
     "name": "stderr",
     "output_type": "stream",
     "text": [
      "Epoch 36: 0.5s to complete\n",
      "    error(train)=4.09e-01, acc(train)=8.63e-01, error(valid)=5.79e-01, acc(valid)=8.21e-01\n"
     ]
    },
    {
     "data": {
      "text/plain": "  0%|          | 0/1000 [00:00<?, ?it/s]",
      "application/vnd.jupyter.widget-view+json": {
       "version_major": 2,
       "version_minor": 0,
       "model_id": "396736d2d1e548918d9c943da5d3c1eb"
      }
     },
     "metadata": {},
     "output_type": "display_data"
    },
    {
     "name": "stderr",
     "output_type": "stream",
     "text": [
      "Epoch 37: 0.5s to complete\n",
      "    error(train)=4.10e-01, acc(train)=8.63e-01, error(valid)=5.84e-01, acc(valid)=8.18e-01\n"
     ]
    },
    {
     "data": {
      "text/plain": "  0%|          | 0/1000 [00:00<?, ?it/s]",
      "application/vnd.jupyter.widget-view+json": {
       "version_major": 2,
       "version_minor": 0,
       "model_id": "345066cb4c2142d4bd490164cd55af3b"
      }
     },
     "metadata": {},
     "output_type": "display_data"
    },
    {
     "name": "stderr",
     "output_type": "stream",
     "text": [
      "Epoch 38: 0.5s to complete\n",
      "    error(train)=4.08e-01, acc(train)=8.62e-01, error(valid)=5.84e-01, acc(valid)=8.17e-01\n"
     ]
    },
    {
     "data": {
      "text/plain": "  0%|          | 0/1000 [00:00<?, ?it/s]",
      "application/vnd.jupyter.widget-view+json": {
       "version_major": 2,
       "version_minor": 0,
       "model_id": "1a9f0ab1bcec4865bf3326b31436feec"
      }
     },
     "metadata": {},
     "output_type": "display_data"
    },
    {
     "name": "stderr",
     "output_type": "stream",
     "text": [
      "Epoch 39: 0.5s to complete\n",
      "    error(train)=4.02e-01, acc(train)=8.64e-01, error(valid)=5.83e-01, acc(valid)=8.16e-01\n"
     ]
    },
    {
     "data": {
      "text/plain": "  0%|          | 0/1000 [00:00<?, ?it/s]",
      "application/vnd.jupyter.widget-view+json": {
       "version_major": 2,
       "version_minor": 0,
       "model_id": "207503d9fd584eb7af93a7d751fca564"
      }
     },
     "metadata": {},
     "output_type": "display_data"
    },
    {
     "name": "stderr",
     "output_type": "stream",
     "text": [
      "Epoch 40: 0.5s to complete\n",
      "    error(train)=4.08e-01, acc(train)=8.60e-01, error(valid)=5.93e-01, acc(valid)=8.13e-01\n"
     ]
    },
    {
     "data": {
      "text/plain": "  0%|          | 0/1000 [00:00<?, ?it/s]",
      "application/vnd.jupyter.widget-view+json": {
       "version_major": 2,
       "version_minor": 0,
       "model_id": "55414cae8451425c8182a78e79db99c8"
      }
     },
     "metadata": {},
     "output_type": "display_data"
    },
    {
     "name": "stderr",
     "output_type": "stream",
     "text": [
      "Epoch 41: 0.5s to complete\n",
      "    error(train)=4.00e-01, acc(train)=8.64e-01, error(valid)=5.93e-01, acc(valid)=8.16e-01\n"
     ]
    },
    {
     "data": {
      "text/plain": "  0%|          | 0/1000 [00:00<?, ?it/s]",
      "application/vnd.jupyter.widget-view+json": {
       "version_major": 2,
       "version_minor": 0,
       "model_id": "757878aeddd64f3a92d58d6a3542f903"
      }
     },
     "metadata": {},
     "output_type": "display_data"
    },
    {
     "name": "stderr",
     "output_type": "stream",
     "text": [
      "Epoch 42: 0.5s to complete\n",
      "    error(train)=3.99e-01, acc(train)=8.66e-01, error(valid)=5.84e-01, acc(valid)=8.20e-01\n"
     ]
    },
    {
     "data": {
      "text/plain": "  0%|          | 0/1000 [00:00<?, ?it/s]",
      "application/vnd.jupyter.widget-view+json": {
       "version_major": 2,
       "version_minor": 0,
       "model_id": "16192249a75745acb783dd184e1e0bba"
      }
     },
     "metadata": {},
     "output_type": "display_data"
    },
    {
     "name": "stderr",
     "output_type": "stream",
     "text": [
      "Epoch 43: 0.5s to complete\n",
      "    error(train)=3.91e-01, acc(train)=8.68e-01, error(valid)=5.86e-01, acc(valid)=8.18e-01\n"
     ]
    },
    {
     "data": {
      "text/plain": "  0%|          | 0/1000 [00:00<?, ?it/s]",
      "application/vnd.jupyter.widget-view+json": {
       "version_major": 2,
       "version_minor": 0,
       "model_id": "e277b1ba10c64a5791ac1db87d514cc9"
      }
     },
     "metadata": {},
     "output_type": "display_data"
    },
    {
     "name": "stderr",
     "output_type": "stream",
     "text": [
      "Epoch 44: 0.6s to complete\n",
      "    error(train)=3.98e-01, acc(train)=8.65e-01, error(valid)=5.93e-01, acc(valid)=8.18e-01\n"
     ]
    },
    {
     "data": {
      "text/plain": "  0%|          | 0/1000 [00:00<?, ?it/s]",
      "application/vnd.jupyter.widget-view+json": {
       "version_major": 2,
       "version_minor": 0,
       "model_id": "be83b300a6414a2a81b6c903064a1cfe"
      }
     },
     "metadata": {},
     "output_type": "display_data"
    },
    {
     "name": "stderr",
     "output_type": "stream",
     "text": [
      "Epoch 45: 0.5s to complete\n",
      "    error(train)=3.95e-01, acc(train)=8.66e-01, error(valid)=5.96e-01, acc(valid)=8.13e-01\n"
     ]
    },
    {
     "data": {
      "text/plain": "  0%|          | 0/1000 [00:00<?, ?it/s]",
      "application/vnd.jupyter.widget-view+json": {
       "version_major": 2,
       "version_minor": 0,
       "model_id": "646f9537b4f64af8b8a90499d3465d9c"
      }
     },
     "metadata": {},
     "output_type": "display_data"
    },
    {
     "name": "stderr",
     "output_type": "stream",
     "text": [
      "Epoch 46: 0.5s to complete\n",
      "    error(train)=3.92e-01, acc(train)=8.67e-01, error(valid)=5.95e-01, acc(valid)=8.17e-01\n"
     ]
    },
    {
     "data": {
      "text/plain": "  0%|          | 0/1000 [00:00<?, ?it/s]",
      "application/vnd.jupyter.widget-view+json": {
       "version_major": 2,
       "version_minor": 0,
       "model_id": "74be50fb6ddc48eaaa24ae624587605a"
      }
     },
     "metadata": {},
     "output_type": "display_data"
    },
    {
     "name": "stderr",
     "output_type": "stream",
     "text": [
      "Epoch 47: 0.5s to complete\n",
      "    error(train)=3.98e-01, acc(train)=8.65e-01, error(valid)=5.99e-01, acc(valid)=8.13e-01\n"
     ]
    },
    {
     "data": {
      "text/plain": "  0%|          | 0/1000 [00:00<?, ?it/s]",
      "application/vnd.jupyter.widget-view+json": {
       "version_major": 2,
       "version_minor": 0,
       "model_id": "f08ffe19a5c0411982c6ca76a9551718"
      }
     },
     "metadata": {},
     "output_type": "display_data"
    },
    {
     "name": "stderr",
     "output_type": "stream",
     "text": [
      "Epoch 48: 0.5s to complete\n",
      "    error(train)=3.84e-01, acc(train)=8.70e-01, error(valid)=5.93e-01, acc(valid)=8.17e-01\n"
     ]
    },
    {
     "data": {
      "text/plain": "  0%|          | 0/1000 [00:00<?, ?it/s]",
      "application/vnd.jupyter.widget-view+json": {
       "version_major": 2,
       "version_minor": 0,
       "model_id": "d5d5a368364a4238a3f1295309090790"
      }
     },
     "metadata": {},
     "output_type": "display_data"
    },
    {
     "name": "stderr",
     "output_type": "stream",
     "text": [
      "Epoch 49: 0.5s to complete\n",
      "    error(train)=3.86e-01, acc(train)=8.69e-01, error(valid)=5.94e-01, acc(valid)=8.13e-01\n"
     ]
    },
    {
     "data": {
      "text/plain": "  0%|          | 0/1000 [00:00<?, ?it/s]",
      "application/vnd.jupyter.widget-view+json": {
       "version_major": 2,
       "version_minor": 0,
       "model_id": "c2395df3bbec4ba0855b3ea5b5b39509"
      }
     },
     "metadata": {},
     "output_type": "display_data"
    },
    {
     "name": "stderr",
     "output_type": "stream",
     "text": [
      "Epoch 50: 0.5s to complete\n",
      "    error(train)=3.91e-01, acc(train)=8.67e-01, error(valid)=6.06e-01, acc(valid)=8.13e-01\n"
     ]
    },
    {
     "data": {
      "text/plain": "  0%|          | 0/1000 [00:00<?, ?it/s]",
      "application/vnd.jupyter.widget-view+json": {
       "version_major": 2,
       "version_minor": 0,
       "model_id": "9082e3a85df34f77aa650209634db42b"
      }
     },
     "metadata": {},
     "output_type": "display_data"
    },
    {
     "name": "stderr",
     "output_type": "stream",
     "text": [
      "Epoch 51: 0.5s to complete\n",
      "    error(train)=3.82e-01, acc(train)=8.70e-01, error(valid)=5.99e-01, acc(valid)=8.14e-01\n"
     ]
    },
    {
     "data": {
      "text/plain": "  0%|          | 0/1000 [00:00<?, ?it/s]",
      "application/vnd.jupyter.widget-view+json": {
       "version_major": 2,
       "version_minor": 0,
       "model_id": "9a54217bc52a4641abaf9578577f4fc0"
      }
     },
     "metadata": {},
     "output_type": "display_data"
    },
    {
     "name": "stderr",
     "output_type": "stream",
     "text": [
      "Epoch 52: 0.6s to complete\n",
      "    error(train)=3.83e-01, acc(train)=8.69e-01, error(valid)=5.97e-01, acc(valid)=8.16e-01\n"
     ]
    },
    {
     "data": {
      "text/plain": "  0%|          | 0/1000 [00:00<?, ?it/s]",
      "application/vnd.jupyter.widget-view+json": {
       "version_major": 2,
       "version_minor": 0,
       "model_id": "4a1ae3b900134e3fa6581fb38a88c876"
      }
     },
     "metadata": {},
     "output_type": "display_data"
    },
    {
     "name": "stderr",
     "output_type": "stream",
     "text": [
      "Epoch 53: 0.5s to complete\n",
      "    error(train)=3.80e-01, acc(train)=8.71e-01, error(valid)=5.99e-01, acc(valid)=8.17e-01\n"
     ]
    },
    {
     "data": {
      "text/plain": "  0%|          | 0/1000 [00:00<?, ?it/s]",
      "application/vnd.jupyter.widget-view+json": {
       "version_major": 2,
       "version_minor": 0,
       "model_id": "fb484ff64a0e4dc48f5bbbe9029195a9"
      }
     },
     "metadata": {},
     "output_type": "display_data"
    },
    {
     "name": "stderr",
     "output_type": "stream",
     "text": [
      "Epoch 54: 0.5s to complete\n",
      "    error(train)=3.80e-01, acc(train)=8.70e-01, error(valid)=6.03e-01, acc(valid)=8.15e-01\n"
     ]
    },
    {
     "data": {
      "text/plain": "  0%|          | 0/1000 [00:00<?, ?it/s]",
      "application/vnd.jupyter.widget-view+json": {
       "version_major": 2,
       "version_minor": 0,
       "model_id": "f604252f991f46e0ad331dcbcc646da9"
      }
     },
     "metadata": {},
     "output_type": "display_data"
    },
    {
     "name": "stderr",
     "output_type": "stream",
     "text": [
      "Epoch 55: 0.5s to complete\n",
      "    error(train)=3.80e-01, acc(train)=8.70e-01, error(valid)=6.09e-01, acc(valid)=8.12e-01\n"
     ]
    },
    {
     "data": {
      "text/plain": "  0%|          | 0/1000 [00:00<?, ?it/s]",
      "application/vnd.jupyter.widget-view+json": {
       "version_major": 2,
       "version_minor": 0,
       "model_id": "63286cb9e84a4ec984f8b3bbdc77dda6"
      }
     },
     "metadata": {},
     "output_type": "display_data"
    },
    {
     "name": "stderr",
     "output_type": "stream",
     "text": [
      "Epoch 56: 0.5s to complete\n",
      "    error(train)=3.72e-01, acc(train)=8.72e-01, error(valid)=6.03e-01, acc(valid)=8.15e-01\n"
     ]
    },
    {
     "data": {
      "text/plain": "  0%|          | 0/1000 [00:00<?, ?it/s]",
      "application/vnd.jupyter.widget-view+json": {
       "version_major": 2,
       "version_minor": 0,
       "model_id": "bab74ec9b2a44b3199d4ee6ee27120ce"
      }
     },
     "metadata": {},
     "output_type": "display_data"
    },
    {
     "name": "stderr",
     "output_type": "stream",
     "text": [
      "Epoch 57: 0.5s to complete\n",
      "    error(train)=3.78e-01, acc(train)=8.71e-01, error(valid)=6.10e-01, acc(valid)=8.17e-01\n"
     ]
    },
    {
     "data": {
      "text/plain": "  0%|          | 0/1000 [00:00<?, ?it/s]",
      "application/vnd.jupyter.widget-view+json": {
       "version_major": 2,
       "version_minor": 0,
       "model_id": "ed377b1813e04b10adb88808e230143a"
      }
     },
     "metadata": {},
     "output_type": "display_data"
    },
    {
     "name": "stderr",
     "output_type": "stream",
     "text": [
      "Epoch 58: 0.5s to complete\n",
      "    error(train)=3.75e-01, acc(train)=8.71e-01, error(valid)=6.10e-01, acc(valid)=8.13e-01\n"
     ]
    },
    {
     "data": {
      "text/plain": "  0%|          | 0/1000 [00:00<?, ?it/s]",
      "application/vnd.jupyter.widget-view+json": {
       "version_major": 2,
       "version_minor": 0,
       "model_id": "b687118f2f1045b584da4f881af487c4"
      }
     },
     "metadata": {},
     "output_type": "display_data"
    },
    {
     "name": "stderr",
     "output_type": "stream",
     "text": [
      "Epoch 59: 0.5s to complete\n",
      "    error(train)=3.70e-01, acc(train)=8.72e-01, error(valid)=6.05e-01, acc(valid)=8.11e-01\n"
     ]
    },
    {
     "data": {
      "text/plain": "  0%|          | 0/1000 [00:00<?, ?it/s]",
      "application/vnd.jupyter.widget-view+json": {
       "version_major": 2,
       "version_minor": 0,
       "model_id": "323d191897ff43bfaf529a6e7fde8ac9"
      }
     },
     "metadata": {},
     "output_type": "display_data"
    },
    {
     "name": "stderr",
     "output_type": "stream",
     "text": [
      "Epoch 60: 0.6s to complete\n",
      "    error(train)=3.68e-01, acc(train)=8.74e-01, error(valid)=6.05e-01, acc(valid)=8.16e-01\n"
     ]
    },
    {
     "data": {
      "text/plain": "  0%|          | 0/1000 [00:00<?, ?it/s]",
      "application/vnd.jupyter.widget-view+json": {
       "version_major": 2,
       "version_minor": 0,
       "model_id": "ba4162917f91400baea17e5e973ac0e2"
      }
     },
     "metadata": {},
     "output_type": "display_data"
    },
    {
     "name": "stderr",
     "output_type": "stream",
     "text": [
      "Epoch 61: 0.5s to complete\n",
      "    error(train)=3.73e-01, acc(train)=8.72e-01, error(valid)=6.22e-01, acc(valid)=8.13e-01\n"
     ]
    },
    {
     "data": {
      "text/plain": "  0%|          | 0/1000 [00:00<?, ?it/s]",
      "application/vnd.jupyter.widget-view+json": {
       "version_major": 2,
       "version_minor": 0,
       "model_id": "6fa404c8d1254c9687e77be1b68b9c0c"
      }
     },
     "metadata": {},
     "output_type": "display_data"
    },
    {
     "name": "stderr",
     "output_type": "stream",
     "text": [
      "Epoch 62: 0.5s to complete\n",
      "    error(train)=3.66e-01, acc(train)=8.74e-01, error(valid)=6.13e-01, acc(valid)=8.15e-01\n"
     ]
    },
    {
     "data": {
      "text/plain": "  0%|          | 0/1000 [00:00<?, ?it/s]",
      "application/vnd.jupyter.widget-view+json": {
       "version_major": 2,
       "version_minor": 0,
       "model_id": "9c68b595b8424ff9a439e4ab19af0e7d"
      }
     },
     "metadata": {},
     "output_type": "display_data"
    },
    {
     "name": "stderr",
     "output_type": "stream",
     "text": [
      "Epoch 63: 0.5s to complete\n",
      "    error(train)=3.63e-01, acc(train)=8.75e-01, error(valid)=6.16e-01, acc(valid)=8.13e-01\n"
     ]
    },
    {
     "data": {
      "text/plain": "  0%|          | 0/1000 [00:00<?, ?it/s]",
      "application/vnd.jupyter.widget-view+json": {
       "version_major": 2,
       "version_minor": 0,
       "model_id": "6c2665309b3c4a078daee0f0c897d489"
      }
     },
     "metadata": {},
     "output_type": "display_data"
    },
    {
     "name": "stderr",
     "output_type": "stream",
     "text": [
      "Epoch 64: 0.5s to complete\n",
      "    error(train)=3.60e-01, acc(train)=8.76e-01, error(valid)=6.12e-01, acc(valid)=8.11e-01\n"
     ]
    },
    {
     "data": {
      "text/plain": "  0%|          | 0/1000 [00:00<?, ?it/s]",
      "application/vnd.jupyter.widget-view+json": {
       "version_major": 2,
       "version_minor": 0,
       "model_id": "268c16c9c3814b5c9aa388a1a782148e"
      }
     },
     "metadata": {},
     "output_type": "display_data"
    },
    {
     "name": "stderr",
     "output_type": "stream",
     "text": [
      "Epoch 65: 0.6s to complete\n",
      "    error(train)=3.63e-01, acc(train)=8.74e-01, error(valid)=6.17e-01, acc(valid)=8.13e-01\n"
     ]
    },
    {
     "data": {
      "text/plain": "  0%|          | 0/1000 [00:00<?, ?it/s]",
      "application/vnd.jupyter.widget-view+json": {
       "version_major": 2,
       "version_minor": 0,
       "model_id": "09be1382d30549d4a87c741c2d1ee4b5"
      }
     },
     "metadata": {},
     "output_type": "display_data"
    },
    {
     "name": "stderr",
     "output_type": "stream",
     "text": [
      "Epoch 66: 0.5s to complete\n",
      "    error(train)=3.59e-01, acc(train)=8.77e-01, error(valid)=6.19e-01, acc(valid)=8.10e-01\n"
     ]
    },
    {
     "data": {
      "text/plain": "  0%|          | 0/1000 [00:00<?, ?it/s]",
      "application/vnd.jupyter.widget-view+json": {
       "version_major": 2,
       "version_minor": 0,
       "model_id": "c7cba99a9a1d46489eae42dbbb3bbb73"
      }
     },
     "metadata": {},
     "output_type": "display_data"
    },
    {
     "name": "stderr",
     "output_type": "stream",
     "text": [
      "Epoch 67: 0.5s to complete\n",
      "    error(train)=3.63e-01, acc(train)=8.75e-01, error(valid)=6.19e-01, acc(valid)=8.12e-01\n"
     ]
    },
    {
     "data": {
      "text/plain": "  0%|          | 0/1000 [00:00<?, ?it/s]",
      "application/vnd.jupyter.widget-view+json": {
       "version_major": 2,
       "version_minor": 0,
       "model_id": "46f7c2c2f90944f9856d9179e6294867"
      }
     },
     "metadata": {},
     "output_type": "display_data"
    },
    {
     "name": "stderr",
     "output_type": "stream",
     "text": [
      "Epoch 68: 0.5s to complete\n",
      "    error(train)=3.63e-01, acc(train)=8.75e-01, error(valid)=6.24e-01, acc(valid)=8.13e-01\n"
     ]
    },
    {
     "data": {
      "text/plain": "  0%|          | 0/1000 [00:00<?, ?it/s]",
      "application/vnd.jupyter.widget-view+json": {
       "version_major": 2,
       "version_minor": 0,
       "model_id": "58be7db1bce540ba811b1bf228921d35"
      }
     },
     "metadata": {},
     "output_type": "display_data"
    },
    {
     "name": "stderr",
     "output_type": "stream",
     "text": [
      "Epoch 69: 0.6s to complete\n",
      "    error(train)=3.58e-01, acc(train)=8.76e-01, error(valid)=6.16e-01, acc(valid)=8.12e-01\n"
     ]
    },
    {
     "data": {
      "text/plain": "  0%|          | 0/1000 [00:00<?, ?it/s]",
      "application/vnd.jupyter.widget-view+json": {
       "version_major": 2,
       "version_minor": 0,
       "model_id": "0010165aec2d4930a07d59d3ec5f0be8"
      }
     },
     "metadata": {},
     "output_type": "display_data"
    },
    {
     "name": "stderr",
     "output_type": "stream",
     "text": [
      "Epoch 70: 0.6s to complete\n",
      "    error(train)=3.59e-01, acc(train)=8.74e-01, error(valid)=6.28e-01, acc(valid)=8.10e-01\n"
     ]
    },
    {
     "data": {
      "text/plain": "  0%|          | 0/1000 [00:00<?, ?it/s]",
      "application/vnd.jupyter.widget-view+json": {
       "version_major": 2,
       "version_minor": 0,
       "model_id": "5b87596223de4953899e3a067ef3b149"
      }
     },
     "metadata": {},
     "output_type": "display_data"
    },
    {
     "name": "stderr",
     "output_type": "stream",
     "text": [
      "Epoch 71: 0.5s to complete\n",
      "    error(train)=3.54e-01, acc(train)=8.77e-01, error(valid)=6.23e-01, acc(valid)=8.10e-01\n"
     ]
    },
    {
     "data": {
      "text/plain": "  0%|          | 0/1000 [00:00<?, ?it/s]",
      "application/vnd.jupyter.widget-view+json": {
       "version_major": 2,
       "version_minor": 0,
       "model_id": "a7d5b4783b364225a9fdac58bcdefd7e"
      }
     },
     "metadata": {},
     "output_type": "display_data"
    },
    {
     "name": "stderr",
     "output_type": "stream",
     "text": [
      "Epoch 72: 0.5s to complete\n",
      "    error(train)=3.50e-01, acc(train)=8.79e-01, error(valid)=6.17e-01, acc(valid)=8.14e-01\n"
     ]
    },
    {
     "data": {
      "text/plain": "  0%|          | 0/1000 [00:00<?, ?it/s]",
      "application/vnd.jupyter.widget-view+json": {
       "version_major": 2,
       "version_minor": 0,
       "model_id": "7e336d70509740eeaeb8444cbe15aba8"
      }
     },
     "metadata": {},
     "output_type": "display_data"
    },
    {
     "name": "stderr",
     "output_type": "stream",
     "text": [
      "Epoch 73: 0.5s to complete\n",
      "    error(train)=3.58e-01, acc(train)=8.76e-01, error(valid)=6.30e-01, acc(valid)=8.10e-01\n"
     ]
    },
    {
     "data": {
      "text/plain": "  0%|          | 0/1000 [00:00<?, ?it/s]",
      "application/vnd.jupyter.widget-view+json": {
       "version_major": 2,
       "version_minor": 0,
       "model_id": "1cfd9f45ec084484951bebb2b7469c0c"
      }
     },
     "metadata": {},
     "output_type": "display_data"
    },
    {
     "name": "stderr",
     "output_type": "stream",
     "text": [
      "Epoch 74: 0.6s to complete\n",
      "    error(train)=3.57e-01, acc(train)=8.76e-01, error(valid)=6.31e-01, acc(valid)=8.09e-01\n"
     ]
    },
    {
     "data": {
      "text/plain": "  0%|          | 0/1000 [00:00<?, ?it/s]",
      "application/vnd.jupyter.widget-view+json": {
       "version_major": 2,
       "version_minor": 0,
       "model_id": "3e08ea4bd8f740d4b8d4998c0e4cb6e7"
      }
     },
     "metadata": {},
     "output_type": "display_data"
    },
    {
     "name": "stderr",
     "output_type": "stream",
     "text": [
      "Epoch 75: 0.5s to complete\n",
      "    error(train)=3.52e-01, acc(train)=8.78e-01, error(valid)=6.25e-01, acc(valid)=8.13e-01\n"
     ]
    },
    {
     "data": {
      "text/plain": "  0%|          | 0/1000 [00:00<?, ?it/s]",
      "application/vnd.jupyter.widget-view+json": {
       "version_major": 2,
       "version_minor": 0,
       "model_id": "316a8c177a7648828a90724c19ac3485"
      }
     },
     "metadata": {},
     "output_type": "display_data"
    },
    {
     "name": "stderr",
     "output_type": "stream",
     "text": [
      "Epoch 76: 0.5s to complete\n",
      "    error(train)=3.49e-01, acc(train)=8.79e-01, error(valid)=6.28e-01, acc(valid)=8.13e-01\n"
     ]
    },
    {
     "data": {
      "text/plain": "  0%|          | 0/1000 [00:00<?, ?it/s]",
      "application/vnd.jupyter.widget-view+json": {
       "version_major": 2,
       "version_minor": 0,
       "model_id": "97ad4024540f46cb9421690863fef808"
      }
     },
     "metadata": {},
     "output_type": "display_data"
    },
    {
     "name": "stderr",
     "output_type": "stream",
     "text": [
      "Epoch 77: 0.5s to complete\n",
      "    error(train)=3.48e-01, acc(train)=8.79e-01, error(valid)=6.31e-01, acc(valid)=8.13e-01\n"
     ]
    },
    {
     "data": {
      "text/plain": "  0%|          | 0/1000 [00:00<?, ?it/s]",
      "application/vnd.jupyter.widget-view+json": {
       "version_major": 2,
       "version_minor": 0,
       "model_id": "1575c88a1da047faa5fbc079397d2f8a"
      }
     },
     "metadata": {},
     "output_type": "display_data"
    },
    {
     "name": "stderr",
     "output_type": "stream",
     "text": [
      "Epoch 78: 0.5s to complete\n",
      "    error(train)=3.53e-01, acc(train)=8.78e-01, error(valid)=6.32e-01, acc(valid)=8.13e-01\n"
     ]
    },
    {
     "data": {
      "text/plain": "  0%|          | 0/1000 [00:00<?, ?it/s]",
      "application/vnd.jupyter.widget-view+json": {
       "version_major": 2,
       "version_minor": 0,
       "model_id": "a648552cdca2492bbed3f8a172e0e0bc"
      }
     },
     "metadata": {},
     "output_type": "display_data"
    },
    {
     "name": "stderr",
     "output_type": "stream",
     "text": [
      "Epoch 79: 0.5s to complete\n",
      "    error(train)=3.58e-01, acc(train)=8.74e-01, error(valid)=6.44e-01, acc(valid)=8.09e-01\n"
     ]
    },
    {
     "data": {
      "text/plain": "  0%|          | 0/1000 [00:00<?, ?it/s]",
      "application/vnd.jupyter.widget-view+json": {
       "version_major": 2,
       "version_minor": 0,
       "model_id": "738d23f2ca274ee6bbfb82d17d20e5b9"
      }
     },
     "metadata": {},
     "output_type": "display_data"
    },
    {
     "name": "stderr",
     "output_type": "stream",
     "text": [
      "Epoch 80: 0.5s to complete\n",
      "    error(train)=3.52e-01, acc(train)=8.78e-01, error(valid)=6.46e-01, acc(valid)=8.08e-01\n"
     ]
    },
    {
     "data": {
      "text/plain": "  0%|          | 0/1000 [00:00<?, ?it/s]",
      "application/vnd.jupyter.widget-view+json": {
       "version_major": 2,
       "version_minor": 0,
       "model_id": "4162e5a7aa324edea46dcd040568b263"
      }
     },
     "metadata": {},
     "output_type": "display_data"
    },
    {
     "name": "stderr",
     "output_type": "stream",
     "text": [
      "Epoch 81: 0.5s to complete\n",
      "    error(train)=3.43e-01, acc(train)=8.80e-01, error(valid)=6.32e-01, acc(valid)=8.10e-01\n"
     ]
    },
    {
     "data": {
      "text/plain": "  0%|          | 0/1000 [00:00<?, ?it/s]",
      "application/vnd.jupyter.widget-view+json": {
       "version_major": 2,
       "version_minor": 0,
       "model_id": "75309fcb4f4d4467b67e5fbfc20ca533"
      }
     },
     "metadata": {},
     "output_type": "display_data"
    },
    {
     "name": "stderr",
     "output_type": "stream",
     "text": [
      "Epoch 82: 0.5s to complete\n",
      "    error(train)=3.51e-01, acc(train)=8.78e-01, error(valid)=6.49e-01, acc(valid)=8.10e-01\n"
     ]
    },
    {
     "data": {
      "text/plain": "  0%|          | 0/1000 [00:00<?, ?it/s]",
      "application/vnd.jupyter.widget-view+json": {
       "version_major": 2,
       "version_minor": 0,
       "model_id": "a84c58642247417795c86b8568869c4f"
      }
     },
     "metadata": {},
     "output_type": "display_data"
    },
    {
     "name": "stderr",
     "output_type": "stream",
     "text": [
      "Epoch 83: 0.5s to complete\n",
      "    error(train)=3.44e-01, acc(train)=8.80e-01, error(valid)=6.38e-01, acc(valid)=8.12e-01\n"
     ]
    },
    {
     "data": {
      "text/plain": "  0%|          | 0/1000 [00:00<?, ?it/s]",
      "application/vnd.jupyter.widget-view+json": {
       "version_major": 2,
       "version_minor": 0,
       "model_id": "9b5b77003bb948689ea5e164015a7119"
      }
     },
     "metadata": {},
     "output_type": "display_data"
    },
    {
     "name": "stderr",
     "output_type": "stream",
     "text": [
      "Epoch 84: 0.5s to complete\n",
      "    error(train)=3.39e-01, acc(train)=8.81e-01, error(valid)=6.39e-01, acc(valid)=8.09e-01\n"
     ]
    },
    {
     "data": {
      "text/plain": "  0%|          | 0/1000 [00:00<?, ?it/s]",
      "application/vnd.jupyter.widget-view+json": {
       "version_major": 2,
       "version_minor": 0,
       "model_id": "11aa1e52064b47acac09553613f73224"
      }
     },
     "metadata": {},
     "output_type": "display_data"
    },
    {
     "name": "stderr",
     "output_type": "stream",
     "text": [
      "Epoch 85: 0.6s to complete\n",
      "    error(train)=3.42e-01, acc(train)=8.80e-01, error(valid)=6.43e-01, acc(valid)=8.10e-01\n"
     ]
    },
    {
     "data": {
      "text/plain": "  0%|          | 0/1000 [00:00<?, ?it/s]",
      "application/vnd.jupyter.widget-view+json": {
       "version_major": 2,
       "version_minor": 0,
       "model_id": "0d16808ffeb044099ae1c7990d145ab1"
      }
     },
     "metadata": {},
     "output_type": "display_data"
    },
    {
     "name": "stderr",
     "output_type": "stream",
     "text": [
      "Epoch 86: 0.5s to complete\n",
      "    error(train)=3.41e-01, acc(train)=8.81e-01, error(valid)=6.42e-01, acc(valid)=8.10e-01\n"
     ]
    },
    {
     "data": {
      "text/plain": "  0%|          | 0/1000 [00:00<?, ?it/s]",
      "application/vnd.jupyter.widget-view+json": {
       "version_major": 2,
       "version_minor": 0,
       "model_id": "d846da5301d14b69b32a6796a8e33883"
      }
     },
     "metadata": {},
     "output_type": "display_data"
    },
    {
     "name": "stderr",
     "output_type": "stream",
     "text": [
      "Epoch 87: 0.5s to complete\n",
      "    error(train)=3.40e-01, acc(train)=8.82e-01, error(valid)=6.46e-01, acc(valid)=8.10e-01\n"
     ]
    },
    {
     "data": {
      "text/plain": "  0%|          | 0/1000 [00:00<?, ?it/s]",
      "application/vnd.jupyter.widget-view+json": {
       "version_major": 2,
       "version_minor": 0,
       "model_id": "43359a9acb674145a00814e20f6b17d7"
      }
     },
     "metadata": {},
     "output_type": "display_data"
    },
    {
     "name": "stderr",
     "output_type": "stream",
     "text": [
      "Epoch 88: 0.6s to complete\n",
      "    error(train)=3.39e-01, acc(train)=8.82e-01, error(valid)=6.46e-01, acc(valid)=8.12e-01\n"
     ]
    },
    {
     "data": {
      "text/plain": "  0%|          | 0/1000 [00:00<?, ?it/s]",
      "application/vnd.jupyter.widget-view+json": {
       "version_major": 2,
       "version_minor": 0,
       "model_id": "51d6ac6713c64a9c8ac892c32f481dd5"
      }
     },
     "metadata": {},
     "output_type": "display_data"
    },
    {
     "name": "stderr",
     "output_type": "stream",
     "text": [
      "Epoch 89: 0.5s to complete\n",
      "    error(train)=3.43e-01, acc(train)=8.79e-01, error(valid)=6.53e-01, acc(valid)=8.08e-01\n"
     ]
    },
    {
     "data": {
      "text/plain": "  0%|          | 0/1000 [00:00<?, ?it/s]",
      "application/vnd.jupyter.widget-view+json": {
       "version_major": 2,
       "version_minor": 0,
       "model_id": "f3d5f7f0841b43c299818ee221f2a4c0"
      }
     },
     "metadata": {},
     "output_type": "display_data"
    },
    {
     "name": "stderr",
     "output_type": "stream",
     "text": [
      "Epoch 90: 0.5s to complete\n",
      "    error(train)=3.38e-01, acc(train)=8.82e-01, error(valid)=6.49e-01, acc(valid)=8.11e-01\n"
     ]
    },
    {
     "data": {
      "text/plain": "  0%|          | 0/1000 [00:00<?, ?it/s]",
      "application/vnd.jupyter.widget-view+json": {
       "version_major": 2,
       "version_minor": 0,
       "model_id": "658e1c7eb96e444188eb6c404c30d214"
      }
     },
     "metadata": {},
     "output_type": "display_data"
    },
    {
     "name": "stderr",
     "output_type": "stream",
     "text": [
      "Epoch 91: 0.5s to complete\n",
      "    error(train)=3.43e-01, acc(train)=8.80e-01, error(valid)=6.58e-01, acc(valid)=8.09e-01\n"
     ]
    },
    {
     "data": {
      "text/plain": "  0%|          | 0/1000 [00:00<?, ?it/s]",
      "application/vnd.jupyter.widget-view+json": {
       "version_major": 2,
       "version_minor": 0,
       "model_id": "f8ae85e37bb349a69ef739a9ce36e388"
      }
     },
     "metadata": {},
     "output_type": "display_data"
    },
    {
     "name": "stderr",
     "output_type": "stream",
     "text": [
      "Epoch 92: 0.5s to complete\n",
      "    error(train)=3.35e-01, acc(train)=8.83e-01, error(valid)=6.55e-01, acc(valid)=8.09e-01\n"
     ]
    },
    {
     "data": {
      "text/plain": "  0%|          | 0/1000 [00:00<?, ?it/s]",
      "application/vnd.jupyter.widget-view+json": {
       "version_major": 2,
       "version_minor": 0,
       "model_id": "74361658f6d142cab3e01f9f4cad6108"
      }
     },
     "metadata": {},
     "output_type": "display_data"
    },
    {
     "name": "stderr",
     "output_type": "stream",
     "text": [
      "Epoch 93: 0.5s to complete\n",
      "    error(train)=3.31e-01, acc(train)=8.84e-01, error(valid)=6.51e-01, acc(valid)=8.08e-01\n"
     ]
    },
    {
     "data": {
      "text/plain": "  0%|          | 0/1000 [00:00<?, ?it/s]",
      "application/vnd.jupyter.widget-view+json": {
       "version_major": 2,
       "version_minor": 0,
       "model_id": "752e7ed1e95149679810e1caa2b8cadc"
      }
     },
     "metadata": {},
     "output_type": "display_data"
    },
    {
     "name": "stderr",
     "output_type": "stream",
     "text": [
      "Epoch 94: 0.5s to complete\n",
      "    error(train)=3.44e-01, acc(train)=8.79e-01, error(valid)=6.64e-01, acc(valid)=8.06e-01\n"
     ]
    },
    {
     "data": {
      "text/plain": "  0%|          | 0/1000 [00:00<?, ?it/s]",
      "application/vnd.jupyter.widget-view+json": {
       "version_major": 2,
       "version_minor": 0,
       "model_id": "f4862fb4004e402e88cfc7a543b7dd5f"
      }
     },
     "metadata": {},
     "output_type": "display_data"
    },
    {
     "name": "stderr",
     "output_type": "stream",
     "text": [
      "Epoch 95: 0.5s to complete\n",
      "    error(train)=3.41e-01, acc(train)=8.79e-01, error(valid)=6.66e-01, acc(valid)=8.09e-01\n"
     ]
    },
    {
     "data": {
      "text/plain": "  0%|          | 0/1000 [00:00<?, ?it/s]",
      "application/vnd.jupyter.widget-view+json": {
       "version_major": 2,
       "version_minor": 0,
       "model_id": "8ff7819d22a24f6cb4598802b7b40702"
      }
     },
     "metadata": {},
     "output_type": "display_data"
    },
    {
     "name": "stderr",
     "output_type": "stream",
     "text": [
      "Epoch 96: 0.5s to complete\n",
      "    error(train)=3.35e-01, acc(train)=8.81e-01, error(valid)=6.60e-01, acc(valid)=8.08e-01\n"
     ]
    },
    {
     "data": {
      "text/plain": "  0%|          | 0/1000 [00:00<?, ?it/s]",
      "application/vnd.jupyter.widget-view+json": {
       "version_major": 2,
       "version_minor": 0,
       "model_id": "2764dc6567de4a97a1e38fab34dfddb3"
      }
     },
     "metadata": {},
     "output_type": "display_data"
    },
    {
     "name": "stderr",
     "output_type": "stream",
     "text": [
      "Epoch 97: 0.6s to complete\n",
      "    error(train)=3.34e-01, acc(train)=8.83e-01, error(valid)=6.63e-01, acc(valid)=8.08e-01\n"
     ]
    },
    {
     "data": {
      "text/plain": "  0%|          | 0/1000 [00:00<?, ?it/s]",
      "application/vnd.jupyter.widget-view+json": {
       "version_major": 2,
       "version_minor": 0,
       "model_id": "48d4f7c49bde4e24ae1814edb9b5e0b1"
      }
     },
     "metadata": {},
     "output_type": "display_data"
    },
    {
     "name": "stderr",
     "output_type": "stream",
     "text": [
      "Epoch 98: 0.5s to complete\n",
      "    error(train)=3.36e-01, acc(train)=8.82e-01, error(valid)=6.61e-01, acc(valid)=8.09e-01\n"
     ]
    },
    {
     "data": {
      "text/plain": "  0%|          | 0/1000 [00:00<?, ?it/s]",
      "application/vnd.jupyter.widget-view+json": {
       "version_major": 2,
       "version_minor": 0,
       "model_id": "141e470275294f7c9ee375207e4579b0"
      }
     },
     "metadata": {},
     "output_type": "display_data"
    },
    {
     "name": "stderr",
     "output_type": "stream",
     "text": [
      "Epoch 99: 0.5s to complete\n",
      "    error(train)=3.37e-01, acc(train)=8.81e-01, error(valid)=6.73e-01, acc(valid)=8.09e-01\n"
     ]
    },
    {
     "data": {
      "text/plain": "  0%|          | 0/1000 [00:00<?, ?it/s]",
      "application/vnd.jupyter.widget-view+json": {
       "version_major": 2,
       "version_minor": 0,
       "model_id": "a521ef2ff3fd4cccb9d45a3d3c5de909"
      }
     },
     "metadata": {},
     "output_type": "display_data"
    },
    {
     "name": "stderr",
     "output_type": "stream",
     "text": [
      "Epoch 100: 0.6s to complete\n",
      "    error(train)=3.40e-01, acc(train)=8.79e-01, error(valid)=6.76e-01, acc(valid)=8.05e-01\n"
     ]
    },
    {
     "data": {
      "text/plain": "  0%|          | 0/100 [00:00<?, ?it/s]",
      "application/vnd.jupyter.widget-view+json": {
       "version_major": 2,
       "version_minor": 0,
       "model_id": "89b2b3ef5dcc460b98c8de997eb1433d"
      }
     },
     "metadata": {},
     "output_type": "display_data"
    },
    {
     "data": {
      "text/plain": "  0%|          | 0/1000 [00:00<?, ?it/s]",
      "application/vnd.jupyter.widget-view+json": {
       "version_major": 2,
       "version_minor": 0,
       "model_id": "ebed95e7c89642b1b6fd8e99df7c8a4c"
      }
     },
     "metadata": {},
     "output_type": "display_data"
    },
    {
     "name": "stderr",
     "output_type": "stream",
     "text": [
      "Epoch 1: 0.9s to complete\n",
      "    error(train)=9.01e-01, acc(train)=7.40e-01, error(valid)=9.14e-01, acc(valid)=7.34e-01\n"
     ]
    },
    {
     "data": {
      "text/plain": "  0%|          | 0/1000 [00:00<?, ?it/s]",
      "application/vnd.jupyter.widget-view+json": {
       "version_major": 2,
       "version_minor": 0,
       "model_id": "1eb82bd150fd474d9ad7c1eea2a6b017"
      }
     },
     "metadata": {},
     "output_type": "display_data"
    },
    {
     "name": "stderr",
     "output_type": "stream",
     "text": [
      "Epoch 2: 0.9s to complete\n",
      "    error(train)=6.98e-01, acc(train)=7.91e-01, error(valid)=7.31e-01, acc(valid)=7.79e-01\n"
     ]
    },
    {
     "data": {
      "text/plain": "  0%|          | 0/1000 [00:00<?, ?it/s]",
      "application/vnd.jupyter.widget-view+json": {
       "version_major": 2,
       "version_minor": 0,
       "model_id": "65099f3934d4495597b38a287ad5b36c"
      }
     },
     "metadata": {},
     "output_type": "display_data"
    },
    {
     "name": "stderr",
     "output_type": "stream",
     "text": [
      "Epoch 3: 0.8s to complete\n",
      "    error(train)=6.01e-01, acc(train)=8.16e-01, error(valid)=6.45e-01, acc(valid)=8.03e-01\n"
     ]
    },
    {
     "data": {
      "text/plain": "  0%|          | 0/1000 [00:00<?, ?it/s]",
      "application/vnd.jupyter.widget-view+json": {
       "version_major": 2,
       "version_minor": 0,
       "model_id": "330116e3231d4571b85c99a9fe362bc7"
      }
     },
     "metadata": {},
     "output_type": "display_data"
    },
    {
     "name": "stderr",
     "output_type": "stream",
     "text": [
      "Epoch 4: 0.8s to complete\n",
      "    error(train)=5.59e-01, acc(train)=8.24e-01, error(valid)=6.17e-01, acc(valid)=8.06e-01\n"
     ]
    },
    {
     "data": {
      "text/plain": "  0%|          | 0/1000 [00:00<?, ?it/s]",
      "application/vnd.jupyter.widget-view+json": {
       "version_major": 2,
       "version_minor": 0,
       "model_id": "346b7277b77a4bcb8acf6cdea4462be5"
      }
     },
     "metadata": {},
     "output_type": "display_data"
    },
    {
     "name": "stderr",
     "output_type": "stream",
     "text": [
      "Epoch 5: 0.8s to complete\n",
      "    error(train)=5.09e-01, acc(train)=8.38e-01, error(valid)=5.77e-01, acc(valid)=8.19e-01\n"
     ]
    },
    {
     "data": {
      "text/plain": "  0%|          | 0/1000 [00:00<?, ?it/s]",
      "application/vnd.jupyter.widget-view+json": {
       "version_major": 2,
       "version_minor": 0,
       "model_id": "74f27ed3cbe14d0b8ea25c8696ab9fb9"
      }
     },
     "metadata": {},
     "output_type": "display_data"
    },
    {
     "name": "stderr",
     "output_type": "stream",
     "text": [
      "Epoch 6: 0.8s to complete\n",
      "    error(train)=4.81e-01, acc(train)=8.44e-01, error(valid)=5.62e-01, acc(valid)=8.20e-01\n"
     ]
    },
    {
     "data": {
      "text/plain": "  0%|          | 0/1000 [00:00<?, ?it/s]",
      "application/vnd.jupyter.widget-view+json": {
       "version_major": 2,
       "version_minor": 0,
       "model_id": "187f088f32b54f159824f1964e5a7440"
      }
     },
     "metadata": {},
     "output_type": "display_data"
    },
    {
     "name": "stderr",
     "output_type": "stream",
     "text": [
      "Epoch 7: 0.8s to complete\n",
      "    error(train)=4.69e-01, acc(train)=8.44e-01, error(valid)=5.59e-01, acc(valid)=8.19e-01\n"
     ]
    },
    {
     "data": {
      "text/plain": "  0%|          | 0/1000 [00:00<?, ?it/s]",
      "application/vnd.jupyter.widget-view+json": {
       "version_major": 2,
       "version_minor": 0,
       "model_id": "9988932899964c749a1eaca548a2bdf6"
      }
     },
     "metadata": {},
     "output_type": "display_data"
    },
    {
     "name": "stderr",
     "output_type": "stream",
     "text": [
      "Epoch 8: 0.8s to complete\n",
      "    error(train)=4.51e-01, acc(train)=8.50e-01, error(valid)=5.54e-01, acc(valid)=8.20e-01\n"
     ]
    },
    {
     "data": {
      "text/plain": "  0%|          | 0/1000 [00:00<?, ?it/s]",
      "application/vnd.jupyter.widget-view+json": {
       "version_major": 2,
       "version_minor": 0,
       "model_id": "4230e25e4460470a9a08e337aa34e9c7"
      }
     },
     "metadata": {},
     "output_type": "display_data"
    },
    {
     "name": "stderr",
     "output_type": "stream",
     "text": [
      "Epoch 9: 0.8s to complete\n",
      "    error(train)=4.23e-01, acc(train)=8.59e-01, error(valid)=5.35e-01, acc(valid)=8.28e-01\n"
     ]
    },
    {
     "data": {
      "text/plain": "  0%|          | 0/1000 [00:00<?, ?it/s]",
      "application/vnd.jupyter.widget-view+json": {
       "version_major": 2,
       "version_minor": 0,
       "model_id": "a73c132d87e7420092bda36720adaef0"
      }
     },
     "metadata": {},
     "output_type": "display_data"
    },
    {
     "name": "stderr",
     "output_type": "stream",
     "text": [
      "Epoch 10: 0.8s to complete\n",
      "    error(train)=4.05e-01, acc(train)=8.66e-01, error(valid)=5.30e-01, acc(valid)=8.30e-01\n"
     ]
    },
    {
     "data": {
      "text/plain": "  0%|          | 0/1000 [00:00<?, ?it/s]",
      "application/vnd.jupyter.widget-view+json": {
       "version_major": 2,
       "version_minor": 0,
       "model_id": "2373977a498a4b43b8af8d02ed4ee68b"
      }
     },
     "metadata": {},
     "output_type": "display_data"
    },
    {
     "name": "stderr",
     "output_type": "stream",
     "text": [
      "Epoch 11: 0.8s to complete\n",
      "    error(train)=3.95e-01, acc(train)=8.67e-01, error(valid)=5.28e-01, acc(valid)=8.29e-01\n"
     ]
    },
    {
     "data": {
      "text/plain": "  0%|          | 0/1000 [00:00<?, ?it/s]",
      "application/vnd.jupyter.widget-view+json": {
       "version_major": 2,
       "version_minor": 0,
       "model_id": "14dd847d84bc4ece9f7f0e526f2b6542"
      }
     },
     "metadata": {},
     "output_type": "display_data"
    },
    {
     "name": "stderr",
     "output_type": "stream",
     "text": [
      "Epoch 12: 0.8s to complete\n",
      "    error(train)=3.82e-01, acc(train)=8.71e-01, error(valid)=5.23e-01, acc(valid)=8.34e-01\n"
     ]
    },
    {
     "data": {
      "text/plain": "  0%|          | 0/1000 [00:00<?, ?it/s]",
      "application/vnd.jupyter.widget-view+json": {
       "version_major": 2,
       "version_minor": 0,
       "model_id": "242d0ab72d274a65a7fd5cd5e41b1598"
      }
     },
     "metadata": {},
     "output_type": "display_data"
    },
    {
     "name": "stderr",
     "output_type": "stream",
     "text": [
      "Epoch 13: 0.8s to complete\n",
      "    error(train)=3.73e-01, acc(train)=8.73e-01, error(valid)=5.29e-01, acc(valid)=8.29e-01\n"
     ]
    },
    {
     "data": {
      "text/plain": "  0%|          | 0/1000 [00:00<?, ?it/s]",
      "application/vnd.jupyter.widget-view+json": {
       "version_major": 2,
       "version_minor": 0,
       "model_id": "1ac4eca3d6fd4910b32325926cfe8851"
      }
     },
     "metadata": {},
     "output_type": "display_data"
    },
    {
     "name": "stderr",
     "output_type": "stream",
     "text": [
      "Epoch 14: 0.8s to complete\n",
      "    error(train)=3.66e-01, acc(train)=8.73e-01, error(valid)=5.29e-01, acc(valid)=8.28e-01\n"
     ]
    },
    {
     "data": {
      "text/plain": "  0%|          | 0/1000 [00:00<?, ?it/s]",
      "application/vnd.jupyter.widget-view+json": {
       "version_major": 2,
       "version_minor": 0,
       "model_id": "a902464ba9d442ebab9f9b75c2530e47"
      }
     },
     "metadata": {},
     "output_type": "display_data"
    },
    {
     "name": "stderr",
     "output_type": "stream",
     "text": [
      "Epoch 15: 0.8s to complete\n",
      "    error(train)=3.61e-01, acc(train)=8.75e-01, error(valid)=5.32e-01, acc(valid)=8.28e-01\n"
     ]
    },
    {
     "data": {
      "text/plain": "  0%|          | 0/1000 [00:00<?, ?it/s]",
      "application/vnd.jupyter.widget-view+json": {
       "version_major": 2,
       "version_minor": 0,
       "model_id": "a3b21f8254804d5981a7b073c1d2c936"
      }
     },
     "metadata": {},
     "output_type": "display_data"
    },
    {
     "name": "stderr",
     "output_type": "stream",
     "text": [
      "Epoch 16: 1.0s to complete\n",
      "    error(train)=3.53e-01, acc(train)=8.77e-01, error(valid)=5.33e-01, acc(valid)=8.32e-01\n"
     ]
    },
    {
     "data": {
      "text/plain": "  0%|          | 0/1000 [00:00<?, ?it/s]",
      "application/vnd.jupyter.widget-view+json": {
       "version_major": 2,
       "version_minor": 0,
       "model_id": "2e6800a8f1ef4d069c1db15feb6e7f6d"
      }
     },
     "metadata": {},
     "output_type": "display_data"
    },
    {
     "name": "stderr",
     "output_type": "stream",
     "text": [
      "Epoch 17: 0.8s to complete\n",
      "    error(train)=3.42e-01, acc(train)=8.81e-01, error(valid)=5.29e-01, acc(valid)=8.32e-01\n"
     ]
    },
    {
     "data": {
      "text/plain": "  0%|          | 0/1000 [00:00<?, ?it/s]",
      "application/vnd.jupyter.widget-view+json": {
       "version_major": 2,
       "version_minor": 0,
       "model_id": "49db6f72d0b54821add95fa4f1005b08"
      }
     },
     "metadata": {},
     "output_type": "display_data"
    },
    {
     "name": "stderr",
     "output_type": "stream",
     "text": [
      "Epoch 18: 0.8s to complete\n",
      "    error(train)=3.27e-01, acc(train)=8.87e-01, error(valid)=5.23e-01, acc(valid)=8.35e-01\n"
     ]
    },
    {
     "data": {
      "text/plain": "  0%|          | 0/1000 [00:00<?, ?it/s]",
      "application/vnd.jupyter.widget-view+json": {
       "version_major": 2,
       "version_minor": 0,
       "model_id": "ab6d8a28204f4e2ebe70fd1362d1ce65"
      }
     },
     "metadata": {},
     "output_type": "display_data"
    },
    {
     "name": "stderr",
     "output_type": "stream",
     "text": [
      "Epoch 19: 0.8s to complete\n",
      "    error(train)=3.24e-01, acc(train)=8.87e-01, error(valid)=5.30e-01, acc(valid)=8.33e-01\n"
     ]
    },
    {
     "data": {
      "text/plain": "  0%|          | 0/1000 [00:00<?, ?it/s]",
      "application/vnd.jupyter.widget-view+json": {
       "version_major": 2,
       "version_minor": 0,
       "model_id": "bb4ae908b9d64612b011b225177cb14d"
      }
     },
     "metadata": {},
     "output_type": "display_data"
    },
    {
     "name": "stderr",
     "output_type": "stream",
     "text": [
      "Epoch 20: 0.8s to complete\n",
      "    error(train)=3.19e-01, acc(train)=8.88e-01, error(valid)=5.35e-01, acc(valid)=8.32e-01\n"
     ]
    },
    {
     "data": {
      "text/plain": "  0%|          | 0/1000 [00:00<?, ?it/s]",
      "application/vnd.jupyter.widget-view+json": {
       "version_major": 2,
       "version_minor": 0,
       "model_id": "6dc19218324a43ddb6d5e1b297da76bc"
      }
     },
     "metadata": {},
     "output_type": "display_data"
    },
    {
     "name": "stderr",
     "output_type": "stream",
     "text": [
      "Epoch 21: 0.8s to complete\n",
      "    error(train)=3.12e-01, acc(train)=8.90e-01, error(valid)=5.34e-01, acc(valid)=8.30e-01\n"
     ]
    },
    {
     "data": {
      "text/plain": "  0%|          | 0/1000 [00:00<?, ?it/s]",
      "application/vnd.jupyter.widget-view+json": {
       "version_major": 2,
       "version_minor": 0,
       "model_id": "c92d52612e4e45b192c9d8e4b32b740b"
      }
     },
     "metadata": {},
     "output_type": "display_data"
    },
    {
     "name": "stderr",
     "output_type": "stream",
     "text": [
      "Epoch 22: 0.8s to complete\n",
      "    error(train)=3.09e-01, acc(train)=8.91e-01, error(valid)=5.41e-01, acc(valid)=8.31e-01\n"
     ]
    },
    {
     "data": {
      "text/plain": "  0%|          | 0/1000 [00:00<?, ?it/s]",
      "application/vnd.jupyter.widget-view+json": {
       "version_major": 2,
       "version_minor": 0,
       "model_id": "0da443a1868c4a4eb6ed246956434cdb"
      }
     },
     "metadata": {},
     "output_type": "display_data"
    },
    {
     "name": "stderr",
     "output_type": "stream",
     "text": [
      "Epoch 23: 0.8s to complete\n",
      "    error(train)=3.03e-01, acc(train)=8.90e-01, error(valid)=5.40e-01, acc(valid)=8.34e-01\n"
     ]
    },
    {
     "data": {
      "text/plain": "  0%|          | 0/1000 [00:00<?, ?it/s]",
      "application/vnd.jupyter.widget-view+json": {
       "version_major": 2,
       "version_minor": 0,
       "model_id": "3a06204a0370445595bbbd88577b412d"
      }
     },
     "metadata": {},
     "output_type": "display_data"
    },
    {
     "name": "stderr",
     "output_type": "stream",
     "text": [
      "Epoch 24: 0.8s to complete\n",
      "    error(train)=2.97e-01, acc(train)=8.95e-01, error(valid)=5.46e-01, acc(valid)=8.31e-01\n"
     ]
    },
    {
     "data": {
      "text/plain": "  0%|          | 0/1000 [00:00<?, ?it/s]",
      "application/vnd.jupyter.widget-view+json": {
       "version_major": 2,
       "version_minor": 0,
       "model_id": "cef142cbf0924629aa5de92bfd671b6b"
      }
     },
     "metadata": {},
     "output_type": "display_data"
    },
    {
     "name": "stderr",
     "output_type": "stream",
     "text": [
      "Epoch 25: 0.8s to complete\n",
      "    error(train)=2.98e-01, acc(train)=8.94e-01, error(valid)=5.53e-01, acc(valid)=8.29e-01\n"
     ]
    },
    {
     "data": {
      "text/plain": "  0%|          | 0/1000 [00:00<?, ?it/s]",
      "application/vnd.jupyter.widget-view+json": {
       "version_major": 2,
       "version_minor": 0,
       "model_id": "6637d8771a2a481091ba52f73bf02d14"
      }
     },
     "metadata": {},
     "output_type": "display_data"
    },
    {
     "name": "stderr",
     "output_type": "stream",
     "text": [
      "Epoch 26: 0.8s to complete\n",
      "    error(train)=2.90e-01, acc(train)=8.97e-01, error(valid)=5.56e-01, acc(valid)=8.28e-01\n"
     ]
    },
    {
     "data": {
      "text/plain": "  0%|          | 0/1000 [00:00<?, ?it/s]",
      "application/vnd.jupyter.widget-view+json": {
       "version_major": 2,
       "version_minor": 0,
       "model_id": "51fe96ee600a4883b2acf4f4460287e0"
      }
     },
     "metadata": {},
     "output_type": "display_data"
    },
    {
     "name": "stderr",
     "output_type": "stream",
     "text": [
      "Epoch 27: 0.8s to complete\n",
      "    error(train)=2.86e-01, acc(train)=8.97e-01, error(valid)=5.55e-01, acc(valid)=8.32e-01\n"
     ]
    },
    {
     "data": {
      "text/plain": "  0%|          | 0/1000 [00:00<?, ?it/s]",
      "application/vnd.jupyter.widget-view+json": {
       "version_major": 2,
       "version_minor": 0,
       "model_id": "8321bd31090d4f17b91845eeef368135"
      }
     },
     "metadata": {},
     "output_type": "display_data"
    },
    {
     "name": "stderr",
     "output_type": "stream",
     "text": [
      "Epoch 28: 0.8s to complete\n",
      "    error(train)=2.83e-01, acc(train)=8.98e-01, error(valid)=5.66e-01, acc(valid)=8.31e-01\n"
     ]
    },
    {
     "data": {
      "text/plain": "  0%|          | 0/1000 [00:00<?, ?it/s]",
      "application/vnd.jupyter.widget-view+json": {
       "version_major": 2,
       "version_minor": 0,
       "model_id": "dbbccc6516ce46f9a9e39f802e35677f"
      }
     },
     "metadata": {},
     "output_type": "display_data"
    },
    {
     "name": "stderr",
     "output_type": "stream",
     "text": [
      "Epoch 29: 0.8s to complete\n",
      "    error(train)=2.84e-01, acc(train)=8.99e-01, error(valid)=5.70e-01, acc(valid)=8.30e-01\n"
     ]
    },
    {
     "data": {
      "text/plain": "  0%|          | 0/1000 [00:00<?, ?it/s]",
      "application/vnd.jupyter.widget-view+json": {
       "version_major": 2,
       "version_minor": 0,
       "model_id": "350cd7d742a744148f1d6f64a7a85476"
      }
     },
     "metadata": {},
     "output_type": "display_data"
    },
    {
     "name": "stderr",
     "output_type": "stream",
     "text": [
      "Epoch 30: 0.8s to complete\n",
      "    error(train)=2.89e-01, acc(train)=8.96e-01, error(valid)=5.85e-01, acc(valid)=8.28e-01\n"
     ]
    },
    {
     "data": {
      "text/plain": "  0%|          | 0/1000 [00:00<?, ?it/s]",
      "application/vnd.jupyter.widget-view+json": {
       "version_major": 2,
       "version_minor": 0,
       "model_id": "b720a49969774545b3a527e0d396618c"
      }
     },
     "metadata": {},
     "output_type": "display_data"
    },
    {
     "name": "stderr",
     "output_type": "stream",
     "text": [
      "Epoch 31: 0.8s to complete\n",
      "    error(train)=2.74e-01, acc(train)=9.00e-01, error(valid)=5.77e-01, acc(valid)=8.30e-01\n"
     ]
    },
    {
     "data": {
      "text/plain": "  0%|          | 0/1000 [00:00<?, ?it/s]",
      "application/vnd.jupyter.widget-view+json": {
       "version_major": 2,
       "version_minor": 0,
       "model_id": "3b3924b773fb4e0cb5ed890fd4aefdd8"
      }
     },
     "metadata": {},
     "output_type": "display_data"
    },
    {
     "name": "stderr",
     "output_type": "stream",
     "text": [
      "Epoch 32: 0.8s to complete\n",
      "    error(train)=2.74e-01, acc(train)=9.01e-01, error(valid)=5.85e-01, acc(valid)=8.28e-01\n"
     ]
    },
    {
     "data": {
      "text/plain": "  0%|          | 0/1000 [00:00<?, ?it/s]",
      "application/vnd.jupyter.widget-view+json": {
       "version_major": 2,
       "version_minor": 0,
       "model_id": "ef24fd850ea24da6baa24c06a2943353"
      }
     },
     "metadata": {},
     "output_type": "display_data"
    },
    {
     "name": "stderr",
     "output_type": "stream",
     "text": [
      "Epoch 33: 0.8s to complete\n",
      "    error(train)=2.65e-01, acc(train)=9.04e-01, error(valid)=5.87e-01, acc(valid)=8.25e-01\n"
     ]
    },
    {
     "data": {
      "text/plain": "  0%|          | 0/1000 [00:00<?, ?it/s]",
      "application/vnd.jupyter.widget-view+json": {
       "version_major": 2,
       "version_minor": 0,
       "model_id": "e249ad2716a14fcbb2c0c3cf7b54337a"
      }
     },
     "metadata": {},
     "output_type": "display_data"
    },
    {
     "name": "stderr",
     "output_type": "stream",
     "text": [
      "Epoch 34: 0.8s to complete\n",
      "    error(train)=2.66e-01, acc(train)=9.03e-01, error(valid)=5.90e-01, acc(valid)=8.28e-01\n"
     ]
    },
    {
     "data": {
      "text/plain": "  0%|          | 0/1000 [00:00<?, ?it/s]",
      "application/vnd.jupyter.widget-view+json": {
       "version_major": 2,
       "version_minor": 0,
       "model_id": "bcebf7e55c944f2d89bbeff78a1e3e1f"
      }
     },
     "metadata": {},
     "output_type": "display_data"
    },
    {
     "name": "stderr",
     "output_type": "stream",
     "text": [
      "Epoch 35: 0.8s to complete\n",
      "    error(train)=2.61e-01, acc(train)=9.05e-01, error(valid)=5.91e-01, acc(valid)=8.25e-01\n"
     ]
    },
    {
     "data": {
      "text/plain": "  0%|          | 0/1000 [00:00<?, ?it/s]",
      "application/vnd.jupyter.widget-view+json": {
       "version_major": 2,
       "version_minor": 0,
       "model_id": "9cd14c74e55847a5a88cd3fb2f89bd1c"
      }
     },
     "metadata": {},
     "output_type": "display_data"
    },
    {
     "name": "stderr",
     "output_type": "stream",
     "text": [
      "Epoch 36: 0.8s to complete\n",
      "    error(train)=2.55e-01, acc(train)=9.05e-01, error(valid)=5.95e-01, acc(valid)=8.26e-01\n"
     ]
    },
    {
     "data": {
      "text/plain": "  0%|          | 0/1000 [00:00<?, ?it/s]",
      "application/vnd.jupyter.widget-view+json": {
       "version_major": 2,
       "version_minor": 0,
       "model_id": "93a4160e3c48416ca171dc1d21ebec78"
      }
     },
     "metadata": {},
     "output_type": "display_data"
    },
    {
     "name": "stderr",
     "output_type": "stream",
     "text": [
      "Epoch 37: 0.8s to complete\n",
      "    error(train)=2.56e-01, acc(train)=9.08e-01, error(valid)=6.01e-01, acc(valid)=8.28e-01\n"
     ]
    },
    {
     "data": {
      "text/plain": "  0%|          | 0/1000 [00:00<?, ?it/s]",
      "application/vnd.jupyter.widget-view+json": {
       "version_major": 2,
       "version_minor": 0,
       "model_id": "f36130c9f22f42fcbc7ebbd82ef8117b"
      }
     },
     "metadata": {},
     "output_type": "display_data"
    },
    {
     "name": "stderr",
     "output_type": "stream",
     "text": [
      "Epoch 38: 0.8s to complete\n",
      "    error(train)=2.51e-01, acc(train)=9.07e-01, error(valid)=6.05e-01, acc(valid)=8.23e-01\n"
     ]
    },
    {
     "data": {
      "text/plain": "  0%|          | 0/1000 [00:00<?, ?it/s]",
      "application/vnd.jupyter.widget-view+json": {
       "version_major": 2,
       "version_minor": 0,
       "model_id": "9bcdd62034944f0780894efb3fde0e7c"
      }
     },
     "metadata": {},
     "output_type": "display_data"
    },
    {
     "name": "stderr",
     "output_type": "stream",
     "text": [
      "Epoch 39: 0.8s to complete\n",
      "    error(train)=2.53e-01, acc(train)=9.06e-01, error(valid)=6.17e-01, acc(valid)=8.22e-01\n"
     ]
    },
    {
     "data": {
      "text/plain": "  0%|          | 0/1000 [00:00<?, ?it/s]",
      "application/vnd.jupyter.widget-view+json": {
       "version_major": 2,
       "version_minor": 0,
       "model_id": "abc052a9ccbb4f508df42a301a95a299"
      }
     },
     "metadata": {},
     "output_type": "display_data"
    },
    {
     "name": "stderr",
     "output_type": "stream",
     "text": [
      "Epoch 40: 0.8s to complete\n",
      "    error(train)=2.47e-01, acc(train)=9.09e-01, error(valid)=6.22e-01, acc(valid)=8.22e-01\n"
     ]
    },
    {
     "data": {
      "text/plain": "  0%|          | 0/1000 [00:00<?, ?it/s]",
      "application/vnd.jupyter.widget-view+json": {
       "version_major": 2,
       "version_minor": 0,
       "model_id": "b11a0a3f8d6e4393888a4982b07adb11"
      }
     },
     "metadata": {},
     "output_type": "display_data"
    },
    {
     "name": "stderr",
     "output_type": "stream",
     "text": [
      "Epoch 41: 0.9s to complete\n",
      "    error(train)=2.37e-01, acc(train)=9.13e-01, error(valid)=6.13e-01, acc(valid)=8.25e-01\n"
     ]
    },
    {
     "data": {
      "text/plain": "  0%|          | 0/1000 [00:00<?, ?it/s]",
      "application/vnd.jupyter.widget-view+json": {
       "version_major": 2,
       "version_minor": 0,
       "model_id": "8890c1fa4f1b4c8297e3eb28036dfd31"
      }
     },
     "metadata": {},
     "output_type": "display_data"
    },
    {
     "name": "stderr",
     "output_type": "stream",
     "text": [
      "Epoch 42: 0.8s to complete\n",
      "    error(train)=2.34e-01, acc(train)=9.14e-01, error(valid)=6.19e-01, acc(valid)=8.23e-01\n"
     ]
    },
    {
     "data": {
      "text/plain": "  0%|          | 0/1000 [00:00<?, ?it/s]",
      "application/vnd.jupyter.widget-view+json": {
       "version_major": 2,
       "version_minor": 0,
       "model_id": "85e4848fe0fd42988cc81e21eda27c0d"
      }
     },
     "metadata": {},
     "output_type": "display_data"
    },
    {
     "name": "stderr",
     "output_type": "stream",
     "text": [
      "Epoch 43: 0.8s to complete\n",
      "    error(train)=2.37e-01, acc(train)=9.13e-01, error(valid)=6.38e-01, acc(valid)=8.23e-01\n"
     ]
    },
    {
     "data": {
      "text/plain": "  0%|          | 0/1000 [00:00<?, ?it/s]",
      "application/vnd.jupyter.widget-view+json": {
       "version_major": 2,
       "version_minor": 0,
       "model_id": "21a5f4c25c0849bd8d3459b81250878f"
      }
     },
     "metadata": {},
     "output_type": "display_data"
    },
    {
     "name": "stderr",
     "output_type": "stream",
     "text": [
      "Epoch 44: 0.8s to complete\n",
      "    error(train)=2.40e-01, acc(train)=9.12e-01, error(valid)=6.41e-01, acc(valid)=8.21e-01\n"
     ]
    },
    {
     "data": {
      "text/plain": "  0%|          | 0/1000 [00:00<?, ?it/s]",
      "application/vnd.jupyter.widget-view+json": {
       "version_major": 2,
       "version_minor": 0,
       "model_id": "82ec2e6871044d0eb792543c8479cedb"
      }
     },
     "metadata": {},
     "output_type": "display_data"
    },
    {
     "name": "stderr",
     "output_type": "stream",
     "text": [
      "Epoch 45: 0.8s to complete\n",
      "    error(train)=2.30e-01, acc(train)=9.16e-01, error(valid)=6.36e-01, acc(valid)=8.24e-01\n"
     ]
    },
    {
     "data": {
      "text/plain": "  0%|          | 0/1000 [00:00<?, ?it/s]",
      "application/vnd.jupyter.widget-view+json": {
       "version_major": 2,
       "version_minor": 0,
       "model_id": "68a8f628677f417a8fb8f145358fd16e"
      }
     },
     "metadata": {},
     "output_type": "display_data"
    },
    {
     "name": "stderr",
     "output_type": "stream",
     "text": [
      "Epoch 46: 0.8s to complete\n",
      "    error(train)=2.30e-01, acc(train)=9.15e-01, error(valid)=6.49e-01, acc(valid)=8.19e-01\n"
     ]
    },
    {
     "data": {
      "text/plain": "  0%|          | 0/1000 [00:00<?, ?it/s]",
      "application/vnd.jupyter.widget-view+json": {
       "version_major": 2,
       "version_minor": 0,
       "model_id": "e19203d19a344c3c90aed98c25462b2d"
      }
     },
     "metadata": {},
     "output_type": "display_data"
    },
    {
     "name": "stderr",
     "output_type": "stream",
     "text": [
      "Epoch 47: 0.8s to complete\n",
      "    error(train)=2.32e-01, acc(train)=9.14e-01, error(valid)=6.45e-01, acc(valid)=8.21e-01\n"
     ]
    },
    {
     "data": {
      "text/plain": "  0%|          | 0/1000 [00:00<?, ?it/s]",
      "application/vnd.jupyter.widget-view+json": {
       "version_major": 2,
       "version_minor": 0,
       "model_id": "ba4a2c28323d4197a584f6613590ae3a"
      }
     },
     "metadata": {},
     "output_type": "display_data"
    },
    {
     "name": "stderr",
     "output_type": "stream",
     "text": [
      "Epoch 48: 0.8s to complete\n",
      "    error(train)=2.28e-01, acc(train)=9.14e-01, error(valid)=6.58e-01, acc(valid)=8.18e-01\n"
     ]
    },
    {
     "data": {
      "text/plain": "  0%|          | 0/1000 [00:00<?, ?it/s]",
      "application/vnd.jupyter.widget-view+json": {
       "version_major": 2,
       "version_minor": 0,
       "model_id": "33b7f2b4b602445c91aa8b0ef20c815d"
      }
     },
     "metadata": {},
     "output_type": "display_data"
    },
    {
     "name": "stderr",
     "output_type": "stream",
     "text": [
      "Epoch 49: 0.8s to complete\n",
      "    error(train)=2.28e-01, acc(train)=9.14e-01, error(valid)=6.64e-01, acc(valid)=8.19e-01\n"
     ]
    },
    {
     "data": {
      "text/plain": "  0%|          | 0/1000 [00:00<?, ?it/s]",
      "application/vnd.jupyter.widget-view+json": {
       "version_major": 2,
       "version_minor": 0,
       "model_id": "d3902bcc083f4698be7038af26324a69"
      }
     },
     "metadata": {},
     "output_type": "display_data"
    },
    {
     "name": "stderr",
     "output_type": "stream",
     "text": [
      "Epoch 50: 0.9s to complete\n",
      "    error(train)=2.20e-01, acc(train)=9.18e-01, error(valid)=6.62e-01, acc(valid)=8.21e-01\n"
     ]
    },
    {
     "data": {
      "text/plain": "  0%|          | 0/1000 [00:00<?, ?it/s]",
      "application/vnd.jupyter.widget-view+json": {
       "version_major": 2,
       "version_minor": 0,
       "model_id": "47c725b99a2a488198af256ef24dca4c"
      }
     },
     "metadata": {},
     "output_type": "display_data"
    },
    {
     "name": "stderr",
     "output_type": "stream",
     "text": [
      "Epoch 51: 1.1s to complete\n",
      "    error(train)=2.13e-01, acc(train)=9.22e-01, error(valid)=6.67e-01, acc(valid)=8.19e-01\n"
     ]
    },
    {
     "data": {
      "text/plain": "  0%|          | 0/1000 [00:00<?, ?it/s]",
      "application/vnd.jupyter.widget-view+json": {
       "version_major": 2,
       "version_minor": 0,
       "model_id": "2c77a815d9cc4d50ad8f3f08ee315823"
      }
     },
     "metadata": {},
     "output_type": "display_data"
    },
    {
     "name": "stderr",
     "output_type": "stream",
     "text": [
      "Epoch 52: 0.8s to complete\n",
      "    error(train)=2.17e-01, acc(train)=9.19e-01, error(valid)=6.71e-01, acc(valid)=8.19e-01\n"
     ]
    },
    {
     "data": {
      "text/plain": "  0%|          | 0/1000 [00:00<?, ?it/s]",
      "application/vnd.jupyter.widget-view+json": {
       "version_major": 2,
       "version_minor": 0,
       "model_id": "a2a95f75e42141228d793eebd437030d"
      }
     },
     "metadata": {},
     "output_type": "display_data"
    },
    {
     "name": "stderr",
     "output_type": "stream",
     "text": [
      "Epoch 53: 1.0s to complete\n",
      "    error(train)=2.16e-01, acc(train)=9.20e-01, error(valid)=6.89e-01, acc(valid)=8.18e-01\n"
     ]
    },
    {
     "data": {
      "text/plain": "  0%|          | 0/1000 [00:00<?, ?it/s]",
      "application/vnd.jupyter.widget-view+json": {
       "version_major": 2,
       "version_minor": 0,
       "model_id": "3b20edff678240db8262d5195c961d44"
      }
     },
     "metadata": {},
     "output_type": "display_data"
    },
    {
     "name": "stderr",
     "output_type": "stream",
     "text": [
      "Epoch 54: 1.0s to complete\n",
      "    error(train)=2.18e-01, acc(train)=9.18e-01, error(valid)=6.94e-01, acc(valid)=8.20e-01\n"
     ]
    },
    {
     "data": {
      "text/plain": "  0%|          | 0/1000 [00:00<?, ?it/s]",
      "application/vnd.jupyter.widget-view+json": {
       "version_major": 2,
       "version_minor": 0,
       "model_id": "2f0ee603fead4b4084849ded11d2f02e"
      }
     },
     "metadata": {},
     "output_type": "display_data"
    },
    {
     "name": "stderr",
     "output_type": "stream",
     "text": [
      "Epoch 55: 0.8s to complete\n",
      "    error(train)=2.19e-01, acc(train)=9.18e-01, error(valid)=7.02e-01, acc(valid)=8.16e-01\n"
     ]
    },
    {
     "data": {
      "text/plain": "  0%|          | 0/1000 [00:00<?, ?it/s]",
      "application/vnd.jupyter.widget-view+json": {
       "version_major": 2,
       "version_minor": 0,
       "model_id": "c79e9719f1b546e0852c72d95db8bc2a"
      }
     },
     "metadata": {},
     "output_type": "display_data"
    },
    {
     "name": "stderr",
     "output_type": "stream",
     "text": [
      "Epoch 56: 0.8s to complete\n",
      "    error(train)=2.12e-01, acc(train)=9.21e-01, error(valid)=7.03e-01, acc(valid)=8.17e-01\n"
     ]
    },
    {
     "data": {
      "text/plain": "  0%|          | 0/1000 [00:00<?, ?it/s]",
      "application/vnd.jupyter.widget-view+json": {
       "version_major": 2,
       "version_minor": 0,
       "model_id": "f8fe713ee1f6476c82dd52b75187cdef"
      }
     },
     "metadata": {},
     "output_type": "display_data"
    },
    {
     "name": "stderr",
     "output_type": "stream",
     "text": [
      "Epoch 57: 0.8s to complete\n",
      "    error(train)=2.23e-01, acc(train)=9.15e-01, error(valid)=7.17e-01, acc(valid)=8.17e-01\n"
     ]
    },
    {
     "data": {
      "text/plain": "  0%|          | 0/1000 [00:00<?, ?it/s]",
      "application/vnd.jupyter.widget-view+json": {
       "version_major": 2,
       "version_minor": 0,
       "model_id": "25568359b88a4df2b8ff2ce44b29355a"
      }
     },
     "metadata": {},
     "output_type": "display_data"
    },
    {
     "name": "stderr",
     "output_type": "stream",
     "text": [
      "Epoch 58: 0.8s to complete\n",
      "    error(train)=2.08e-01, acc(train)=9.21e-01, error(valid)=7.06e-01, acc(valid)=8.19e-01\n"
     ]
    },
    {
     "data": {
      "text/plain": "  0%|          | 0/1000 [00:00<?, ?it/s]",
      "application/vnd.jupyter.widget-view+json": {
       "version_major": 2,
       "version_minor": 0,
       "model_id": "e3e59936dfec426fa7a0c7c98a2be233"
      }
     },
     "metadata": {},
     "output_type": "display_data"
    },
    {
     "name": "stderr",
     "output_type": "stream",
     "text": [
      "Epoch 59: 0.8s to complete\n",
      "    error(train)=2.08e-01, acc(train)=9.21e-01, error(valid)=7.18e-01, acc(valid)=8.18e-01\n"
     ]
    },
    {
     "data": {
      "text/plain": "  0%|          | 0/1000 [00:00<?, ?it/s]",
      "application/vnd.jupyter.widget-view+json": {
       "version_major": 2,
       "version_minor": 0,
       "model_id": "9f46896fbdd84e2199c1c5d5ecec4105"
      }
     },
     "metadata": {},
     "output_type": "display_data"
    },
    {
     "name": "stderr",
     "output_type": "stream",
     "text": [
      "Epoch 60: 0.8s to complete\n",
      "    error(train)=2.15e-01, acc(train)=9.17e-01, error(valid)=7.30e-01, acc(valid)=8.16e-01\n"
     ]
    },
    {
     "data": {
      "text/plain": "  0%|          | 0/1000 [00:00<?, ?it/s]",
      "application/vnd.jupyter.widget-view+json": {
       "version_major": 2,
       "version_minor": 0,
       "model_id": "ddf55fcfdf5d4de491e6d246a6e347ef"
      }
     },
     "metadata": {},
     "output_type": "display_data"
    },
    {
     "name": "stderr",
     "output_type": "stream",
     "text": [
      "Epoch 61: 0.8s to complete\n",
      "    error(train)=2.01e-01, acc(train)=9.24e-01, error(valid)=7.34e-01, acc(valid)=8.17e-01\n"
     ]
    },
    {
     "data": {
      "text/plain": "  0%|          | 0/1000 [00:00<?, ?it/s]",
      "application/vnd.jupyter.widget-view+json": {
       "version_major": 2,
       "version_minor": 0,
       "model_id": "c37232a9bbe9464b9cfe621af7a38adb"
      }
     },
     "metadata": {},
     "output_type": "display_data"
    },
    {
     "name": "stderr",
     "output_type": "stream",
     "text": [
      "Epoch 62: 0.8s to complete\n",
      "    error(train)=2.04e-01, acc(train)=9.23e-01, error(valid)=7.38e-01, acc(valid)=8.15e-01\n"
     ]
    },
    {
     "data": {
      "text/plain": "  0%|          | 0/1000 [00:00<?, ?it/s]",
      "application/vnd.jupyter.widget-view+json": {
       "version_major": 2,
       "version_minor": 0,
       "model_id": "5cd0859d9b5243e6a1f2d6aaaffb7eee"
      }
     },
     "metadata": {},
     "output_type": "display_data"
    },
    {
     "name": "stderr",
     "output_type": "stream",
     "text": [
      "Epoch 63: 0.8s to complete\n",
      "    error(train)=2.03e-01, acc(train)=9.24e-01, error(valid)=7.41e-01, acc(valid)=8.14e-01\n"
     ]
    },
    {
     "data": {
      "text/plain": "  0%|          | 0/1000 [00:00<?, ?it/s]",
      "application/vnd.jupyter.widget-view+json": {
       "version_major": 2,
       "version_minor": 0,
       "model_id": "6cff6cefc97d455ab6d7614d2150b191"
      }
     },
     "metadata": {},
     "output_type": "display_data"
    },
    {
     "name": "stderr",
     "output_type": "stream",
     "text": [
      "Epoch 64: 0.8s to complete\n",
      "    error(train)=1.97e-01, acc(train)=9.26e-01, error(valid)=7.44e-01, acc(valid)=8.17e-01\n"
     ]
    },
    {
     "data": {
      "text/plain": "  0%|          | 0/1000 [00:00<?, ?it/s]",
      "application/vnd.jupyter.widget-view+json": {
       "version_major": 2,
       "version_minor": 0,
       "model_id": "a4aa6494a79d4bbca4b67349251f402a"
      }
     },
     "metadata": {},
     "output_type": "display_data"
    },
    {
     "name": "stderr",
     "output_type": "stream",
     "text": [
      "Epoch 65: 0.8s to complete\n",
      "    error(train)=2.03e-01, acc(train)=9.24e-01, error(valid)=7.61e-01, acc(valid)=8.14e-01\n"
     ]
    },
    {
     "data": {
      "text/plain": "  0%|          | 0/1000 [00:00<?, ?it/s]",
      "application/vnd.jupyter.widget-view+json": {
       "version_major": 2,
       "version_minor": 0,
       "model_id": "90a8dc508177496f88a827dcedea8100"
      }
     },
     "metadata": {},
     "output_type": "display_data"
    },
    {
     "name": "stderr",
     "output_type": "stream",
     "text": [
      "Epoch 66: 0.8s to complete\n",
      "    error(train)=1.93e-01, acc(train)=9.28e-01, error(valid)=7.49e-01, acc(valid)=8.18e-01\n"
     ]
    },
    {
     "data": {
      "text/plain": "  0%|          | 0/1000 [00:00<?, ?it/s]",
      "application/vnd.jupyter.widget-view+json": {
       "version_major": 2,
       "version_minor": 0,
       "model_id": "5e041c854fe2423b8a71ede612e8b795"
      }
     },
     "metadata": {},
     "output_type": "display_data"
    },
    {
     "name": "stderr",
     "output_type": "stream",
     "text": [
      "Epoch 67: 0.9s to complete\n",
      "    error(train)=1.97e-01, acc(train)=9.25e-01, error(valid)=7.66e-01, acc(valid)=8.12e-01\n"
     ]
    },
    {
     "data": {
      "text/plain": "  0%|          | 0/1000 [00:00<?, ?it/s]",
      "application/vnd.jupyter.widget-view+json": {
       "version_major": 2,
       "version_minor": 0,
       "model_id": "56e274fd03b44248a80f1ed58fee73ac"
      }
     },
     "metadata": {},
     "output_type": "display_data"
    },
    {
     "name": "stderr",
     "output_type": "stream",
     "text": [
      "Epoch 68: 0.8s to complete\n",
      "    error(train)=1.97e-01, acc(train)=9.24e-01, error(valid)=7.65e-01, acc(valid)=8.13e-01\n"
     ]
    },
    {
     "data": {
      "text/plain": "  0%|          | 0/1000 [00:00<?, ?it/s]",
      "application/vnd.jupyter.widget-view+json": {
       "version_major": 2,
       "version_minor": 0,
       "model_id": "b484ba6852f74c12b703569e7e39f1fd"
      }
     },
     "metadata": {},
     "output_type": "display_data"
    },
    {
     "name": "stderr",
     "output_type": "stream",
     "text": [
      "Epoch 69: 0.8s to complete\n",
      "    error(train)=1.99e-01, acc(train)=9.25e-01, error(valid)=7.77e-01, acc(valid)=8.11e-01\n"
     ]
    },
    {
     "data": {
      "text/plain": "  0%|          | 0/1000 [00:00<?, ?it/s]",
      "application/vnd.jupyter.widget-view+json": {
       "version_major": 2,
       "version_minor": 0,
       "model_id": "35e08ca6fc3e4f8ea9fb4e9e0c34d37a"
      }
     },
     "metadata": {},
     "output_type": "display_data"
    },
    {
     "name": "stderr",
     "output_type": "stream",
     "text": [
      "Epoch 70: 0.8s to complete\n",
      "    error(train)=1.83e-01, acc(train)=9.31e-01, error(valid)=7.70e-01, acc(valid)=8.19e-01\n"
     ]
    },
    {
     "data": {
      "text/plain": "  0%|          | 0/1000 [00:00<?, ?it/s]",
      "application/vnd.jupyter.widget-view+json": {
       "version_major": 2,
       "version_minor": 0,
       "model_id": "ff2d53dd3f2948ad842fdb8e3c5f5b42"
      }
     },
     "metadata": {},
     "output_type": "display_data"
    },
    {
     "name": "stderr",
     "output_type": "stream",
     "text": [
      "Epoch 71: 0.8s to complete\n",
      "    error(train)=1.92e-01, acc(train)=9.26e-01, error(valid)=7.83e-01, acc(valid)=8.14e-01\n"
     ]
    },
    {
     "data": {
      "text/plain": "  0%|          | 0/1000 [00:00<?, ?it/s]",
      "application/vnd.jupyter.widget-view+json": {
       "version_major": 2,
       "version_minor": 0,
       "model_id": "297fceb34f1043ecb4c8d37686f66b43"
      }
     },
     "metadata": {},
     "output_type": "display_data"
    },
    {
     "name": "stderr",
     "output_type": "stream",
     "text": [
      "Epoch 72: 0.8s to complete\n",
      "    error(train)=1.90e-01, acc(train)=9.27e-01, error(valid)=7.93e-01, acc(valid)=8.12e-01\n"
     ]
    },
    {
     "data": {
      "text/plain": "  0%|          | 0/1000 [00:00<?, ?it/s]",
      "application/vnd.jupyter.widget-view+json": {
       "version_major": 2,
       "version_minor": 0,
       "model_id": "1abe39b741174f30ad9b71f2fe5bfd3e"
      }
     },
     "metadata": {},
     "output_type": "display_data"
    },
    {
     "name": "stderr",
     "output_type": "stream",
     "text": [
      "Epoch 73: 0.9s to complete\n",
      "    error(train)=1.94e-01, acc(train)=9.24e-01, error(valid)=8.03e-01, acc(valid)=8.10e-01\n"
     ]
    },
    {
     "data": {
      "text/plain": "  0%|          | 0/1000 [00:00<?, ?it/s]",
      "application/vnd.jupyter.widget-view+json": {
       "version_major": 2,
       "version_minor": 0,
       "model_id": "12760e682a6a4479acb0093d425b0b0a"
      }
     },
     "metadata": {},
     "output_type": "display_data"
    },
    {
     "name": "stderr",
     "output_type": "stream",
     "text": [
      "Epoch 74: 1.9s to complete\n",
      "    error(train)=1.86e-01, acc(train)=9.28e-01, error(valid)=7.98e-01, acc(valid)=8.13e-01\n"
     ]
    },
    {
     "data": {
      "text/plain": "  0%|          | 0/1000 [00:00<?, ?it/s]",
      "application/vnd.jupyter.widget-view+json": {
       "version_major": 2,
       "version_minor": 0,
       "model_id": "e0bbf31e0e0347c4a963edb4488daba6"
      }
     },
     "metadata": {},
     "output_type": "display_data"
    },
    {
     "name": "stderr",
     "output_type": "stream",
     "text": [
      "Epoch 75: 1.1s to complete\n",
      "    error(train)=1.81e-01, acc(train)=9.31e-01, error(valid)=8.06e-01, acc(valid)=8.12e-01\n"
     ]
    },
    {
     "data": {
      "text/plain": "  0%|          | 0/1000 [00:00<?, ?it/s]",
      "application/vnd.jupyter.widget-view+json": {
       "version_major": 2,
       "version_minor": 0,
       "model_id": "175f107837c44dac9eb35f527891b4cc"
      }
     },
     "metadata": {},
     "output_type": "display_data"
    },
    {
     "name": "stderr",
     "output_type": "stream",
     "text": [
      "Epoch 76: 1.0s to complete\n",
      "    error(train)=1.83e-01, acc(train)=9.30e-01, error(valid)=8.11e-01, acc(valid)=8.13e-01\n"
     ]
    },
    {
     "data": {
      "text/plain": "  0%|          | 0/1000 [00:00<?, ?it/s]",
      "application/vnd.jupyter.widget-view+json": {
       "version_major": 2,
       "version_minor": 0,
       "model_id": "998fe7476ce745f6ae10d6dcfe08d27d"
      }
     },
     "metadata": {},
     "output_type": "display_data"
    },
    {
     "name": "stderr",
     "output_type": "stream",
     "text": [
      "Epoch 77: 1.0s to complete\n",
      "    error(train)=1.78e-01, acc(train)=9.31e-01, error(valid)=8.22e-01, acc(valid)=8.14e-01\n"
     ]
    },
    {
     "data": {
      "text/plain": "  0%|          | 0/1000 [00:00<?, ?it/s]",
      "application/vnd.jupyter.widget-view+json": {
       "version_major": 2,
       "version_minor": 0,
       "model_id": "ff3c260f63eb4de299bb0dc4d0ee076b"
      }
     },
     "metadata": {},
     "output_type": "display_data"
    },
    {
     "name": "stderr",
     "output_type": "stream",
     "text": [
      "Epoch 78: 0.8s to complete\n",
      "    error(train)=1.87e-01, acc(train)=9.28e-01, error(valid)=8.23e-01, acc(valid)=8.12e-01\n"
     ]
    },
    {
     "data": {
      "text/plain": "  0%|          | 0/1000 [00:00<?, ?it/s]",
      "application/vnd.jupyter.widget-view+json": {
       "version_major": 2,
       "version_minor": 0,
       "model_id": "a9dc4700cd0840dc89c03fa3da948c70"
      }
     },
     "metadata": {},
     "output_type": "display_data"
    },
    {
     "name": "stderr",
     "output_type": "stream",
     "text": [
      "Epoch 79: 0.8s to complete\n",
      "    error(train)=1.81e-01, acc(train)=9.30e-01, error(valid)=8.22e-01, acc(valid)=8.12e-01\n"
     ]
    },
    {
     "data": {
      "text/plain": "  0%|          | 0/1000 [00:00<?, ?it/s]",
      "application/vnd.jupyter.widget-view+json": {
       "version_major": 2,
       "version_minor": 0,
       "model_id": "7725d4f05de24c218fca5a92bf53c3f2"
      }
     },
     "metadata": {},
     "output_type": "display_data"
    },
    {
     "name": "stderr",
     "output_type": "stream",
     "text": [
      "Epoch 80: 0.8s to complete\n",
      "    error(train)=1.78e-01, acc(train)=9.32e-01, error(valid)=8.24e-01, acc(valid)=8.13e-01\n"
     ]
    },
    {
     "data": {
      "text/plain": "  0%|          | 0/1000 [00:00<?, ?it/s]",
      "application/vnd.jupyter.widget-view+json": {
       "version_major": 2,
       "version_minor": 0,
       "model_id": "4f753caca9df44e78a49d084be1e84f8"
      }
     },
     "metadata": {},
     "output_type": "display_data"
    },
    {
     "name": "stderr",
     "output_type": "stream",
     "text": [
      "Epoch 81: 0.8s to complete\n",
      "    error(train)=1.76e-01, acc(train)=9.32e-01, error(valid)=8.44e-01, acc(valid)=8.10e-01\n"
     ]
    },
    {
     "data": {
      "text/plain": "  0%|          | 0/1000 [00:00<?, ?it/s]",
      "application/vnd.jupyter.widget-view+json": {
       "version_major": 2,
       "version_minor": 0,
       "model_id": "b51e72fe2a87426b951b15776b32d60d"
      }
     },
     "metadata": {},
     "output_type": "display_data"
    },
    {
     "name": "stderr",
     "output_type": "stream",
     "text": [
      "Epoch 82: 0.8s to complete\n",
      "    error(train)=1.79e-01, acc(train)=9.31e-01, error(valid)=8.59e-01, acc(valid)=8.10e-01\n"
     ]
    },
    {
     "data": {
      "text/plain": "  0%|          | 0/1000 [00:00<?, ?it/s]",
      "application/vnd.jupyter.widget-view+json": {
       "version_major": 2,
       "version_minor": 0,
       "model_id": "774fd8f53d05407584137f039ff39d42"
      }
     },
     "metadata": {},
     "output_type": "display_data"
    },
    {
     "name": "stderr",
     "output_type": "stream",
     "text": [
      "Epoch 83: 0.8s to complete\n",
      "    error(train)=1.73e-01, acc(train)=9.33e-01, error(valid)=8.58e-01, acc(valid)=8.09e-01\n"
     ]
    },
    {
     "data": {
      "text/plain": "  0%|          | 0/1000 [00:00<?, ?it/s]",
      "application/vnd.jupyter.widget-view+json": {
       "version_major": 2,
       "version_minor": 0,
       "model_id": "5ef35236237a46758843c37ea8c0a181"
      }
     },
     "metadata": {},
     "output_type": "display_data"
    },
    {
     "name": "stderr",
     "output_type": "stream",
     "text": [
      "Epoch 84: 0.8s to complete\n",
      "    error(train)=1.77e-01, acc(train)=9.31e-01, error(valid)=8.50e-01, acc(valid)=8.13e-01\n"
     ]
    },
    {
     "data": {
      "text/plain": "  0%|          | 0/1000 [00:00<?, ?it/s]",
      "application/vnd.jupyter.widget-view+json": {
       "version_major": 2,
       "version_minor": 0,
       "model_id": "eabba15192ce4f94a38943a3c6cfe1c0"
      }
     },
     "metadata": {},
     "output_type": "display_data"
    },
    {
     "name": "stderr",
     "output_type": "stream",
     "text": [
      "Epoch 85: 0.9s to complete\n",
      "    error(train)=1.77e-01, acc(train)=9.31e-01, error(valid)=8.74e-01, acc(valid)=8.07e-01\n"
     ]
    },
    {
     "data": {
      "text/plain": "  0%|          | 0/1000 [00:00<?, ?it/s]",
      "application/vnd.jupyter.widget-view+json": {
       "version_major": 2,
       "version_minor": 0,
       "model_id": "02d6219e136a481094aa0b464c8ed964"
      }
     },
     "metadata": {},
     "output_type": "display_data"
    },
    {
     "name": "stderr",
     "output_type": "stream",
     "text": [
      "Epoch 86: 0.8s to complete\n",
      "    error(train)=1.69e-01, acc(train)=9.35e-01, error(valid)=8.67e-01, acc(valid)=8.10e-01\n"
     ]
    },
    {
     "data": {
      "text/plain": "  0%|          | 0/1000 [00:00<?, ?it/s]",
      "application/vnd.jupyter.widget-view+json": {
       "version_major": 2,
       "version_minor": 0,
       "model_id": "830f5a86c60045c3b2dcc2d27527fa85"
      }
     },
     "metadata": {},
     "output_type": "display_data"
    },
    {
     "name": "stderr",
     "output_type": "stream",
     "text": [
      "Epoch 87: 0.8s to complete\n",
      "    error(train)=1.69e-01, acc(train)=9.35e-01, error(valid)=8.65e-01, acc(valid)=8.12e-01\n"
     ]
    },
    {
     "data": {
      "text/plain": "  0%|          | 0/1000 [00:00<?, ?it/s]",
      "application/vnd.jupyter.widget-view+json": {
       "version_major": 2,
       "version_minor": 0,
       "model_id": "f3a625b79c1f42a49f2cc0c4d55a19c3"
      }
     },
     "metadata": {},
     "output_type": "display_data"
    },
    {
     "name": "stderr",
     "output_type": "stream",
     "text": [
      "Epoch 88: 0.8s to complete\n",
      "    error(train)=1.75e-01, acc(train)=9.32e-01, error(valid)=8.81e-01, acc(valid)=8.11e-01\n"
     ]
    },
    {
     "data": {
      "text/plain": "  0%|          | 0/1000 [00:00<?, ?it/s]",
      "application/vnd.jupyter.widget-view+json": {
       "version_major": 2,
       "version_minor": 0,
       "model_id": "dd199974f61e48428a6dbf23a4089607"
      }
     },
     "metadata": {},
     "output_type": "display_data"
    },
    {
     "name": "stderr",
     "output_type": "stream",
     "text": [
      "Epoch 89: 0.9s to complete\n",
      "    error(train)=1.66e-01, acc(train)=9.37e-01, error(valid)=8.85e-01, acc(valid)=8.14e-01\n"
     ]
    },
    {
     "data": {
      "text/plain": "  0%|          | 0/1000 [00:00<?, ?it/s]",
      "application/vnd.jupyter.widget-view+json": {
       "version_major": 2,
       "version_minor": 0,
       "model_id": "4fe01bb0f28b4c10b51d38855fc6bc7d"
      }
     },
     "metadata": {},
     "output_type": "display_data"
    },
    {
     "name": "stderr",
     "output_type": "stream",
     "text": [
      "Epoch 90: 0.8s to complete\n",
      "    error(train)=1.67e-01, acc(train)=9.35e-01, error(valid)=9.06e-01, acc(valid)=8.08e-01\n"
     ]
    },
    {
     "data": {
      "text/plain": "  0%|          | 0/1000 [00:00<?, ?it/s]",
      "application/vnd.jupyter.widget-view+json": {
       "version_major": 2,
       "version_minor": 0,
       "model_id": "edf6737dad7945a4a3ac84103a8ad295"
      }
     },
     "metadata": {},
     "output_type": "display_data"
    },
    {
     "name": "stderr",
     "output_type": "stream",
     "text": [
      "Epoch 91: 0.8s to complete\n",
      "    error(train)=1.70e-01, acc(train)=9.34e-01, error(valid)=9.02e-01, acc(valid)=8.08e-01\n"
     ]
    },
    {
     "data": {
      "text/plain": "  0%|          | 0/1000 [00:00<?, ?it/s]",
      "application/vnd.jupyter.widget-view+json": {
       "version_major": 2,
       "version_minor": 0,
       "model_id": "284154a1cf434289aafce7ce4a6997a0"
      }
     },
     "metadata": {},
     "output_type": "display_data"
    },
    {
     "name": "stderr",
     "output_type": "stream",
     "text": [
      "Epoch 92: 0.8s to complete\n",
      "    error(train)=1.60e-01, acc(train)=9.38e-01, error(valid)=9.06e-01, acc(valid)=8.10e-01\n"
     ]
    },
    {
     "data": {
      "text/plain": "  0%|          | 0/1000 [00:00<?, ?it/s]",
      "application/vnd.jupyter.widget-view+json": {
       "version_major": 2,
       "version_minor": 0,
       "model_id": "9920aa093a384c639cce73c32ca48af6"
      }
     },
     "metadata": {},
     "output_type": "display_data"
    },
    {
     "name": "stderr",
     "output_type": "stream",
     "text": [
      "Epoch 93: 0.9s to complete\n",
      "    error(train)=1.61e-01, acc(train)=9.37e-01, error(valid)=9.10e-01, acc(valid)=8.10e-01\n"
     ]
    },
    {
     "data": {
      "text/plain": "  0%|          | 0/1000 [00:00<?, ?it/s]",
      "application/vnd.jupyter.widget-view+json": {
       "version_major": 2,
       "version_minor": 0,
       "model_id": "f145d4cc593f48feb187e6764ccf84da"
      }
     },
     "metadata": {},
     "output_type": "display_data"
    },
    {
     "name": "stderr",
     "output_type": "stream",
     "text": [
      "Epoch 94: 0.8s to complete\n",
      "    error(train)=1.65e-01, acc(train)=9.36e-01, error(valid)=9.20e-01, acc(valid)=8.09e-01\n"
     ]
    },
    {
     "data": {
      "text/plain": "  0%|          | 0/1000 [00:00<?, ?it/s]",
      "application/vnd.jupyter.widget-view+json": {
       "version_major": 2,
       "version_minor": 0,
       "model_id": "10d2bfcf820a4e51952e57dec8b35dd4"
      }
     },
     "metadata": {},
     "output_type": "display_data"
    },
    {
     "name": "stderr",
     "output_type": "stream",
     "text": [
      "Epoch 95: 0.8s to complete\n",
      "    error(train)=1.60e-01, acc(train)=9.38e-01, error(valid)=9.22e-01, acc(valid)=8.10e-01\n"
     ]
    },
    {
     "data": {
      "text/plain": "  0%|          | 0/1000 [00:00<?, ?it/s]",
      "application/vnd.jupyter.widget-view+json": {
       "version_major": 2,
       "version_minor": 0,
       "model_id": "f2f9f916978f464e9ab7614d77840f19"
      }
     },
     "metadata": {},
     "output_type": "display_data"
    },
    {
     "name": "stderr",
     "output_type": "stream",
     "text": [
      "Epoch 96: 0.8s to complete\n",
      "    error(train)=1.66e-01, acc(train)=9.35e-01, error(valid)=9.40e-01, acc(valid)=8.08e-01\n"
     ]
    },
    {
     "data": {
      "text/plain": "  0%|          | 0/1000 [00:00<?, ?it/s]",
      "application/vnd.jupyter.widget-view+json": {
       "version_major": 2,
       "version_minor": 0,
       "model_id": "1a854f37e3ee4fd584dcc62993d86b3b"
      }
     },
     "metadata": {},
     "output_type": "display_data"
    },
    {
     "name": "stderr",
     "output_type": "stream",
     "text": [
      "Epoch 97: 0.8s to complete\n",
      "    error(train)=1.59e-01, acc(train)=9.38e-01, error(valid)=9.35e-01, acc(valid)=8.10e-01\n"
     ]
    },
    {
     "data": {
      "text/plain": "  0%|          | 0/1000 [00:00<?, ?it/s]",
      "application/vnd.jupyter.widget-view+json": {
       "version_major": 2,
       "version_minor": 0,
       "model_id": "63938966d58f44dfa17c3aeececde672"
      }
     },
     "metadata": {},
     "output_type": "display_data"
    },
    {
     "name": "stderr",
     "output_type": "stream",
     "text": [
      "Epoch 98: 0.8s to complete\n",
      "    error(train)=1.55e-01, acc(train)=9.40e-01, error(valid)=9.19e-01, acc(valid)=8.13e-01\n"
     ]
    },
    {
     "data": {
      "text/plain": "  0%|          | 0/1000 [00:00<?, ?it/s]",
      "application/vnd.jupyter.widget-view+json": {
       "version_major": 2,
       "version_minor": 0,
       "model_id": "f5d6478a456540fead2368ce763c7cdb"
      }
     },
     "metadata": {},
     "output_type": "display_data"
    },
    {
     "name": "stderr",
     "output_type": "stream",
     "text": [
      "Epoch 99: 0.8s to complete\n",
      "    error(train)=1.59e-01, acc(train)=9.39e-01, error(valid)=9.38e-01, acc(valid)=8.10e-01\n"
     ]
    },
    {
     "data": {
      "text/plain": "  0%|          | 0/1000 [00:00<?, ?it/s]",
      "application/vnd.jupyter.widget-view+json": {
       "version_major": 2,
       "version_minor": 0,
       "model_id": "487e2335301b4972a099b12e6d0eb22c"
      }
     },
     "metadata": {},
     "output_type": "display_data"
    },
    {
     "name": "stderr",
     "output_type": "stream",
     "text": [
      "Epoch 100: 0.8s to complete\n",
      "    error(train)=1.52e-01, acc(train)=9.42e-01, error(valid)=9.36e-01, acc(valid)=8.12e-01\n"
     ]
    }
   ],
   "source": [
    "# Setup hyperparameters\n",
    "hidden_dims = [32, 64, 128]\n",
    "num_epochs = 100\n",
    "models = {\"stats\": [], \"keys\": [], \"times\": []}\n",
    "\n",
    "error = CrossEntropySoftmaxError()\n",
    "# Use a Adam learning rule\n",
    "learning_rule = AdamLearningRule(learning_rate=learning_rate)\n",
    "\n",
    "# Create models with ONE hidden layers and various hidden widths\n",
    "for h_dim in hidden_dims:\n",
    "    model = MultipleLayerModel([\n",
    "        AffineLayer(input_dim, h_dim, weights_init, biases_init), # first hidden layer\n",
    "        ReluLayer(),\n",
    "        AffineLayer(h_dim, output_dim, weights_init, biases_init) # output layer\n",
    "    ])\n",
    "    # Remember to use notebook=False when you write a script to be run in a terminal\n",
    "    stats, keys, time = train_model_and_plot_stats(\n",
    "        model, error, learning_rule, train_data, valid_data, num_epochs, stats_interval, notebook=True)\n",
    "    models['stats'].append(stats)\n",
    "    models['keys'].append(keys)\n",
    "    models['times'].append(time)"
   ],
   "metadata": {
    "collapsed": false,
    "ExecuteTime": {
     "end_time": "2024-10-16T16:36:41.167309Z",
     "start_time": "2024-10-16T16:32:06.595385Z"
    }
   }
  },
  {
   "cell_type": "code",
   "execution_count": 23,
   "outputs": [
    {
     "data": {
      "text/plain": "<Figure size 800x400 with 1 Axes>",
      "image/png": "[encoded data removed]"
     },
     "metadata": {},
     "output_type": "display_data"
    },
    {
     "data": {
      "text/plain": "<Figure size 800x400 with 1 Axes>",
      "image/png": "[encoded data removed]"
     },
     "metadata": {},
     "output_type": "display_data"
    }
   ],
   "source": [
    "# Plot all models' performance\n",
    "plot_err(models[\"stats\"], models[\"keys\"], stats_interval, ['width 32', 'width 64', 'width 128'])\n",
    "plot_acc(models[\"stats\"], models[\"keys\"], stats_interval, ['width 32', 'width 64', 'width 128'])"
   ],
   "metadata": {
    "collapsed": false,
    "ExecuteTime": {
     "end_time": "2024-10-16T16:37:45.302180Z",
     "start_time": "2024-10-16T16:37:45.166256Z"
    }
   }
  },
  {
   "cell_type": "code",
   "execution_count": 28,
   "outputs": [
    {
     "name": "stdout",
     "output_type": "stream",
     "text": [
      "32 Width - Val Acc: 0.7881645569620254, Train Err: 0.5464621686906217, Val Err: 0.6964715715471317\n",
      "64 Width - Val Acc: 0.8047468354430377, Train Err: 0.33963979663547283, Val Err: 0.6755326520931763\n",
      "128 Width - Val Acc: 0.8124683544303795, Train Err: 0.15210872327991123, Val Err: 0.9357506474815598\n"
     ]
    }
   ],
   "source": [
    "# Output final stats\n",
    "keys = models[\"keys\"][0]\n",
    "model_w32_stats = models[\"stats\"][0]\n",
    "model_w64_stats = models[\"stats\"][1]\n",
    "model_w128_stats = models[\"stats\"][2]\n",
    "print(\"32 Width - Val Acc: \" + str(model_w32_stats[-1, keys['acc(valid)']])  + \", Train Err: \" + str(model_w32_stats[-1, keys['error(train)']]) + \", Val Err: \" + str(model_w32_stats[-1, keys['error(valid)']]))\n",
    "\n",
    "print(\"64 Width - Val Acc: \" + str(model_w64_stats[-1, keys['acc(valid)']])  + \", Train Err: \" + str(model_w64_stats[-1, keys['error(train)']]) + \", Val Err: \" + str(model_w64_stats[-1, keys['error(valid)']]))\n",
    "\n",
    "print(\"128 Width - Val Acc: \" + str(model_w128_stats[-1, keys['acc(valid)']])  + \", Train Err: \" + str(model_w128_stats[-1, keys['error(train)']]) + \", Val Err: \" + str(model_w128_stats[-1, keys['error(valid)']]))\n"
   ],
   "metadata": {
    "collapsed": false,
    "ExecuteTime": {
     "end_time": "2024-10-16T16:47:59.247575Z",
     "start_time": "2024-10-16T16:47:59.209451Z"
    }
   }
  },
  {
   "cell_type": "markdown",
   "source": [
    "### Experimental Set 2 - Varying Number of Hidden Layer"
   ],
   "metadata": {
    "collapsed": false
   }
  },
  {
   "cell_type": "code",
   "execution_count": 38,
   "outputs": [
    {
     "data": {
      "text/plain": "  0%|          | 0/100 [00:00<?, ?it/s]",
      "application/vnd.jupyter.widget-view+json": {
       "version_major": 2,
       "version_minor": 0,
       "model_id": "692f7446afe841518f032a5e520355e3"
      }
     },
     "metadata": {},
     "output_type": "display_data"
    },
    {
     "data": {
      "text/plain": "  0%|          | 0/1000 [00:00<?, ?it/s]",
      "application/vnd.jupyter.widget-view+json": {
       "version_major": 2,
       "version_minor": 0,
       "model_id": "8baba98217da425aac71df91679b780c"
      }
     },
     "metadata": {},
     "output_type": "display_data"
    },
    {
     "name": "stderr",
     "output_type": "stream",
     "text": [
      "Epoch 1: 1.0s to complete\n",
      "    error(train)=9.19e-01, acc(train)=7.36e-01, error(valid)=9.36e-01, acc(valid)=7.34e-01\n"
     ]
    },
    {
     "data": {
      "text/plain": "  0%|          | 0/1000 [00:00<?, ?it/s]",
      "application/vnd.jupyter.widget-view+json": {
       "version_major": 2,
       "version_minor": 0,
       "model_id": "16ba051777df4986a2d15117d028d8f6"
      }
     },
     "metadata": {},
     "output_type": "display_data"
    },
    {
     "name": "stderr",
     "output_type": "stream",
     "text": [
      "Epoch 2: 1.0s to complete\n",
      "    error(train)=7.09e-01, acc(train)=7.88e-01, error(valid)=7.40e-01, acc(valid)=7.78e-01\n"
     ]
    },
    {
     "data": {
      "text/plain": "  0%|          | 0/1000 [00:00<?, ?it/s]",
      "application/vnd.jupyter.widget-view+json": {
       "version_major": 2,
       "version_minor": 0,
       "model_id": "c782c6084a2943afaf06475c1288e0f6"
      }
     },
     "metadata": {},
     "output_type": "display_data"
    },
    {
     "name": "stderr",
     "output_type": "stream",
     "text": [
      "Epoch 3: 1.0s to complete\n",
      "    error(train)=6.21e-01, acc(train)=8.07e-01, error(valid)=6.60e-01, acc(valid)=7.96e-01\n"
     ]
    },
    {
     "data": {
      "text/plain": "  0%|          | 0/1000 [00:00<?, ?it/s]",
      "application/vnd.jupyter.widget-view+json": {
       "version_major": 2,
       "version_minor": 0,
       "model_id": "8fbcc651177d459cbede07b5b0c96a60"
      }
     },
     "metadata": {},
     "output_type": "display_data"
    },
    {
     "name": "stderr",
     "output_type": "stream",
     "text": [
      "Epoch 4: 1.1s to complete\n",
      "    error(train)=5.71e-01, acc(train)=8.19e-01, error(valid)=6.34e-01, acc(valid)=7.99e-01\n"
     ]
    },
    {
     "data": {
      "text/plain": "  0%|          | 0/1000 [00:00<?, ?it/s]",
      "application/vnd.jupyter.widget-view+json": {
       "version_major": 2,
       "version_minor": 0,
       "model_id": "b62a61e9651b4a7893283a3710289832"
      }
     },
     "metadata": {},
     "output_type": "display_data"
    },
    {
     "name": "stderr",
     "output_type": "stream",
     "text": [
      "Epoch 5: 0.9s to complete\n",
      "    error(train)=5.11e-01, acc(train)=8.37e-01, error(valid)=5.74e-01, acc(valid)=8.18e-01\n"
     ]
    },
    {
     "data": {
      "text/plain": "  0%|          | 0/1000 [00:00<?, ?it/s]",
      "application/vnd.jupyter.widget-view+json": {
       "version_major": 2,
       "version_minor": 0,
       "model_id": "262a461eedab49d7af995e49c199f80e"
      }
     },
     "metadata": {},
     "output_type": "display_data"
    },
    {
     "name": "stderr",
     "output_type": "stream",
     "text": [
      "Epoch 6: 1.0s to complete\n",
      "    error(train)=4.80e-01, acc(train)=8.46e-01, error(valid)=5.61e-01, acc(valid)=8.20e-01\n"
     ]
    },
    {
     "data": {
      "text/plain": "  0%|          | 0/1000 [00:00<?, ?it/s]",
      "application/vnd.jupyter.widget-view+json": {
       "version_major": 2,
       "version_minor": 0,
       "model_id": "7f9240f8b8ef4445a28e7806800b40f0"
      }
     },
     "metadata": {},
     "output_type": "display_data"
    },
    {
     "name": "stderr",
     "output_type": "stream",
     "text": [
      "Epoch 7: 1.0s to complete\n",
      "    error(train)=4.55e-01, acc(train)=8.51e-01, error(valid)=5.41e-01, acc(valid)=8.26e-01\n"
     ]
    },
    {
     "data": {
      "text/plain": "  0%|          | 0/1000 [00:00<?, ?it/s]",
      "application/vnd.jupyter.widget-view+json": {
       "version_major": 2,
       "version_minor": 0,
       "model_id": "362604e5e7954de5be2d58fdf2a2cb8d"
      }
     },
     "metadata": {},
     "output_type": "display_data"
    },
    {
     "name": "stderr",
     "output_type": "stream",
     "text": [
      "Epoch 8: 0.9s to complete\n",
      "    error(train)=4.36e-01, acc(train)=8.57e-01, error(valid)=5.31e-01, acc(valid)=8.30e-01\n"
     ]
    },
    {
     "data": {
      "text/plain": "  0%|          | 0/1000 [00:00<?, ?it/s]",
      "application/vnd.jupyter.widget-view+json": {
       "version_major": 2,
       "version_minor": 0,
       "model_id": "595acb450fe84662b226b13f2e4fea72"
      }
     },
     "metadata": {},
     "output_type": "display_data"
    },
    {
     "name": "stderr",
     "output_type": "stream",
     "text": [
      "Epoch 9: 1.1s to complete\n",
      "    error(train)=4.17e-01, acc(train)=8.61e-01, error(valid)=5.23e-01, acc(valid)=8.31e-01\n"
     ]
    },
    {
     "data": {
      "text/plain": "  0%|          | 0/1000 [00:00<?, ?it/s]",
      "application/vnd.jupyter.widget-view+json": {
       "version_major": 2,
       "version_minor": 0,
       "model_id": "c8df019a422c4a79812cb3d9ae3d0c22"
      }
     },
     "metadata": {},
     "output_type": "display_data"
    },
    {
     "name": "stderr",
     "output_type": "stream",
     "text": [
      "Epoch 10: 0.8s to complete\n",
      "    error(train)=4.01e-01, acc(train)=8.67e-01, error(valid)=5.20e-01, acc(valid)=8.32e-01\n"
     ]
    },
    {
     "data": {
      "text/plain": "  0%|          | 0/1000 [00:00<?, ?it/s]",
      "application/vnd.jupyter.widget-view+json": {
       "version_major": 2,
       "version_minor": 0,
       "model_id": "19fd606589e64d03990d2740bea39b83"
      }
     },
     "metadata": {},
     "output_type": "display_data"
    },
    {
     "name": "stderr",
     "output_type": "stream",
     "text": [
      "Epoch 11: 1.2s to complete\n",
      "    error(train)=3.93e-01, acc(train)=8.67e-01, error(valid)=5.19e-01, acc(valid)=8.33e-01\n"
     ]
    },
    {
     "data": {
      "text/plain": "  0%|          | 0/1000 [00:00<?, ?it/s]",
      "application/vnd.jupyter.widget-view+json": {
       "version_major": 2,
       "version_minor": 0,
       "model_id": "9f94f5f1bae14225a5526b29a7902531"
      }
     },
     "metadata": {},
     "output_type": "display_data"
    },
    {
     "name": "stderr",
     "output_type": "stream",
     "text": [
      "Epoch 12: 0.8s to complete\n",
      "    error(train)=3.81e-01, acc(train)=8.70e-01, error(valid)=5.18e-01, acc(valid)=8.35e-01\n"
     ]
    },
    {
     "data": {
      "text/plain": "  0%|          | 0/1000 [00:00<?, ?it/s]",
      "application/vnd.jupyter.widget-view+json": {
       "version_major": 2,
       "version_minor": 0,
       "model_id": "b5594b03d6984cefa8b9667f2d83f654"
      }
     },
     "metadata": {},
     "output_type": "display_data"
    },
    {
     "name": "stderr",
     "output_type": "stream",
     "text": [
      "Epoch 13: 0.8s to complete\n",
      "    error(train)=3.72e-01, acc(train)=8.72e-01, error(valid)=5.18e-01, acc(valid)=8.31e-01\n"
     ]
    },
    {
     "data": {
      "text/plain": "  0%|          | 0/1000 [00:00<?, ?it/s]",
      "application/vnd.jupyter.widget-view+json": {
       "version_major": 2,
       "version_minor": 0,
       "model_id": "ce334c035c944a91b4b8a84059228cf1"
      }
     },
     "metadata": {},
     "output_type": "display_data"
    },
    {
     "name": "stderr",
     "output_type": "stream",
     "text": [
      "Epoch 14: 0.8s to complete\n",
      "    error(train)=3.61e-01, acc(train)=8.76e-01, error(valid)=5.19e-01, acc(valid)=8.34e-01\n"
     ]
    },
    {
     "data": {
      "text/plain": "  0%|          | 0/1000 [00:00<?, ?it/s]",
      "application/vnd.jupyter.widget-view+json": {
       "version_major": 2,
       "version_minor": 0,
       "model_id": "6178cae57f604869aec6f16e51aa0d99"
      }
     },
     "metadata": {},
     "output_type": "display_data"
    },
    {
     "name": "stderr",
     "output_type": "stream",
     "text": [
      "Epoch 15: 0.8s to complete\n",
      "    error(train)=3.61e-01, acc(train)=8.72e-01, error(valid)=5.28e-01, acc(valid)=8.26e-01\n"
     ]
    },
    {
     "data": {
      "text/plain": "  0%|          | 0/1000 [00:00<?, ?it/s]",
      "application/vnd.jupyter.widget-view+json": {
       "version_major": 2,
       "version_minor": 0,
       "model_id": "a404264cf6d0427abfa815ace931ad38"
      }
     },
     "metadata": {},
     "output_type": "display_data"
    },
    {
     "name": "stderr",
     "output_type": "stream",
     "text": [
      "Epoch 16: 0.8s to complete\n",
      "    error(train)=3.48e-01, acc(train)=8.82e-01, error(valid)=5.22e-01, acc(valid)=8.35e-01\n"
     ]
    },
    {
     "data": {
      "text/plain": "  0%|          | 0/1000 [00:00<?, ?it/s]",
      "application/vnd.jupyter.widget-view+json": {
       "version_major": 2,
       "version_minor": 0,
       "model_id": "6f01c6a135ba49608ac27e5788a08a1d"
      }
     },
     "metadata": {},
     "output_type": "display_data"
    },
    {
     "name": "stderr",
     "output_type": "stream",
     "text": [
      "Epoch 17: 0.8s to complete\n",
      "    error(train)=3.39e-01, acc(train)=8.82e-01, error(valid)=5.20e-01, acc(valid)=8.33e-01\n"
     ]
    },
    {
     "data": {
      "text/plain": "  0%|          | 0/1000 [00:00<?, ?it/s]",
      "application/vnd.jupyter.widget-view+json": {
       "version_major": 2,
       "version_minor": 0,
       "model_id": "a2fccbab1d16474dab666f635d011e4f"
      }
     },
     "metadata": {},
     "output_type": "display_data"
    },
    {
     "name": "stderr",
     "output_type": "stream",
     "text": [
      "Epoch 18: 0.8s to complete\n",
      "    error(train)=3.30e-01, acc(train)=8.86e-01, error(valid)=5.26e-01, acc(valid)=8.34e-01\n"
     ]
    },
    {
     "data": {
      "text/plain": "  0%|          | 0/1000 [00:00<?, ?it/s]",
      "application/vnd.jupyter.widget-view+json": {
       "version_major": 2,
       "version_minor": 0,
       "model_id": "b35025047c6744e9bae0711c3de47593"
      }
     },
     "metadata": {},
     "output_type": "display_data"
    },
    {
     "name": "stderr",
     "output_type": "stream",
     "text": [
      "Epoch 19: 0.9s to complete\n",
      "    error(train)=3.24e-01, acc(train)=8.87e-01, error(valid)=5.21e-01, acc(valid)=8.36e-01\n"
     ]
    },
    {
     "data": {
      "text/plain": "  0%|          | 0/1000 [00:00<?, ?it/s]",
      "application/vnd.jupyter.widget-view+json": {
       "version_major": 2,
       "version_minor": 0,
       "model_id": "12f0ce16535f418da503e45b7198a0bc"
      }
     },
     "metadata": {},
     "output_type": "display_data"
    },
    {
     "name": "stderr",
     "output_type": "stream",
     "text": [
      "Epoch 20: 1.0s to complete\n",
      "    error(train)=3.20e-01, acc(train)=8.88e-01, error(valid)=5.28e-01, acc(valid)=8.33e-01\n"
     ]
    },
    {
     "data": {
      "text/plain": "  0%|          | 0/1000 [00:00<?, ?it/s]",
      "application/vnd.jupyter.widget-view+json": {
       "version_major": 2,
       "version_minor": 0,
       "model_id": "803e2c8c8cd0418095fdf20b7c0aa5fc"
      }
     },
     "metadata": {},
     "output_type": "display_data"
    },
    {
     "name": "stderr",
     "output_type": "stream",
     "text": [
      "Epoch 21: 1.3s to complete\n",
      "    error(train)=3.16e-01, acc(train)=8.89e-01, error(valid)=5.29e-01, acc(valid)=8.32e-01\n"
     ]
    },
    {
     "data": {
      "text/plain": "  0%|          | 0/1000 [00:00<?, ?it/s]",
      "application/vnd.jupyter.widget-view+json": {
       "version_major": 2,
       "version_minor": 0,
       "model_id": "5ee6c0503ce44497bf1568107070fc5d"
      }
     },
     "metadata": {},
     "output_type": "display_data"
    },
    {
     "name": "stderr",
     "output_type": "stream",
     "text": [
      "Epoch 22: 0.8s to complete\n",
      "    error(train)=3.12e-01, acc(train)=8.90e-01, error(valid)=5.40e-01, acc(valid)=8.32e-01\n"
     ]
    },
    {
     "data": {
      "text/plain": "  0%|          | 0/1000 [00:00<?, ?it/s]",
      "application/vnd.jupyter.widget-view+json": {
       "version_major": 2,
       "version_minor": 0,
       "model_id": "f5605fa5f29c45aa8951c64584d0a8a1"
      }
     },
     "metadata": {},
     "output_type": "display_data"
    },
    {
     "name": "stderr",
     "output_type": "stream",
     "text": [
      "Epoch 23: 0.9s to complete\n",
      "    error(train)=3.10e-01, acc(train)=8.90e-01, error(valid)=5.42e-01, acc(valid)=8.30e-01\n"
     ]
    },
    {
     "data": {
      "text/plain": "  0%|          | 0/1000 [00:00<?, ?it/s]",
      "application/vnd.jupyter.widget-view+json": {
       "version_major": 2,
       "version_minor": 0,
       "model_id": "90c2abbc00ff444ab5faf59ded500957"
      }
     },
     "metadata": {},
     "output_type": "display_data"
    },
    {
     "name": "stderr",
     "output_type": "stream",
     "text": [
      "Epoch 24: 0.8s to complete\n",
      "    error(train)=2.99e-01, acc(train)=8.94e-01, error(valid)=5.40e-01, acc(valid)=8.31e-01\n"
     ]
    },
    {
     "data": {
      "text/plain": "  0%|          | 0/1000 [00:00<?, ?it/s]",
      "application/vnd.jupyter.widget-view+json": {
       "version_major": 2,
       "version_minor": 0,
       "model_id": "0fc47b9a0c944f3bacf53ebd8b88762e"
      }
     },
     "metadata": {},
     "output_type": "display_data"
    },
    {
     "name": "stderr",
     "output_type": "stream",
     "text": [
      "Epoch 25: 0.9s to complete\n",
      "    error(train)=2.89e-01, acc(train)=8.98e-01, error(valid)=5.37e-01, acc(valid)=8.34e-01\n"
     ]
    },
    {
     "data": {
      "text/plain": "  0%|          | 0/1000 [00:00<?, ?it/s]",
      "application/vnd.jupyter.widget-view+json": {
       "version_major": 2,
       "version_minor": 0,
       "model_id": "adfcc7d066bf4f4f9fe20c3f6e7a0dac"
      }
     },
     "metadata": {},
     "output_type": "display_data"
    },
    {
     "name": "stderr",
     "output_type": "stream",
     "text": [
      "Epoch 26: 0.8s to complete\n",
      "    error(train)=2.85e-01, acc(train)=8.99e-01, error(valid)=5.47e-01, acc(valid)=8.36e-01\n"
     ]
    },
    {
     "data": {
      "text/plain": "  0%|          | 0/1000 [00:00<?, ?it/s]",
      "application/vnd.jupyter.widget-view+json": {
       "version_major": 2,
       "version_minor": 0,
       "model_id": "6b929dbcf22c4d0ca19e54830714875a"
      }
     },
     "metadata": {},
     "output_type": "display_data"
    },
    {
     "name": "stderr",
     "output_type": "stream",
     "text": [
      "Epoch 27: 1.0s to complete\n",
      "    error(train)=2.83e-01, acc(train)=9.00e-01, error(valid)=5.50e-01, acc(valid)=8.32e-01\n"
     ]
    },
    {
     "data": {
      "text/plain": "  0%|          | 0/1000 [00:00<?, ?it/s]",
      "application/vnd.jupyter.widget-view+json": {
       "version_major": 2,
       "version_minor": 0,
       "model_id": "cab4025753504e5993e702acde4d99f8"
      }
     },
     "metadata": {},
     "output_type": "display_data"
    },
    {
     "name": "stderr",
     "output_type": "stream",
     "text": [
      "Epoch 28: 0.8s to complete\n",
      "    error(train)=2.82e-01, acc(train)=8.99e-01, error(valid)=5.60e-01, acc(valid)=8.32e-01\n"
     ]
    },
    {
     "data": {
      "text/plain": "  0%|          | 0/1000 [00:00<?, ?it/s]",
      "application/vnd.jupyter.widget-view+json": {
       "version_major": 2,
       "version_minor": 0,
       "model_id": "585f288222a748889d5b4568677953ff"
      }
     },
     "metadata": {},
     "output_type": "display_data"
    },
    {
     "name": "stderr",
     "output_type": "stream",
     "text": [
      "Epoch 29: 0.9s to complete\n",
      "    error(train)=2.73e-01, acc(train)=9.01e-01, error(valid)=5.59e-01, acc(valid)=8.31e-01\n"
     ]
    },
    {
     "data": {
      "text/plain": "  0%|          | 0/1000 [00:00<?, ?it/s]",
      "application/vnd.jupyter.widget-view+json": {
       "version_major": 2,
       "version_minor": 0,
       "model_id": "075854322dd345ff892830f7135e8eef"
      }
     },
     "metadata": {},
     "output_type": "display_data"
    },
    {
     "name": "stderr",
     "output_type": "stream",
     "text": [
      "Epoch 30: 0.8s to complete\n",
      "    error(train)=2.73e-01, acc(train)=9.02e-01, error(valid)=5.60e-01, acc(valid)=8.31e-01\n"
     ]
    },
    {
     "data": {
      "text/plain": "  0%|          | 0/1000 [00:00<?, ?it/s]",
      "application/vnd.jupyter.widget-view+json": {
       "version_major": 2,
       "version_minor": 0,
       "model_id": "26f003283b734022b267c62831a91278"
      }
     },
     "metadata": {},
     "output_type": "display_data"
    },
    {
     "name": "stderr",
     "output_type": "stream",
     "text": [
      "Epoch 31: 0.9s to complete\n",
      "    error(train)=2.74e-01, acc(train)=9.02e-01, error(valid)=5.74e-01, acc(valid)=8.31e-01\n"
     ]
    },
    {
     "data": {
      "text/plain": "  0%|          | 0/1000 [00:00<?, ?it/s]",
      "application/vnd.jupyter.widget-view+json": {
       "version_major": 2,
       "version_minor": 0,
       "model_id": "d7e38223730f4eeaa53e3a37537a6ec6"
      }
     },
     "metadata": {},
     "output_type": "display_data"
    },
    {
     "name": "stderr",
     "output_type": "stream",
     "text": [
      "Epoch 32: 0.9s to complete\n",
      "    error(train)=2.61e-01, acc(train)=9.07e-01, error(valid)=5.69e-01, acc(valid)=8.31e-01\n"
     ]
    },
    {
     "data": {
      "text/plain": "  0%|          | 0/1000 [00:00<?, ?it/s]",
      "application/vnd.jupyter.widget-view+json": {
       "version_major": 2,
       "version_minor": 0,
       "model_id": "441f1a3e135c426b8a9bc53391a1099c"
      }
     },
     "metadata": {},
     "output_type": "display_data"
    },
    {
     "name": "stderr",
     "output_type": "stream",
     "text": [
      "Epoch 33: 1.0s to complete\n",
      "    error(train)=2.68e-01, acc(train)=9.02e-01, error(valid)=5.84e-01, acc(valid)=8.26e-01\n"
     ]
    },
    {
     "data": {
      "text/plain": "  0%|          | 0/1000 [00:00<?, ?it/s]",
      "application/vnd.jupyter.widget-view+json": {
       "version_major": 2,
       "version_minor": 0,
       "model_id": "4bc72cf71f4444a2b2402d6994087d97"
      }
     },
     "metadata": {},
     "output_type": "display_data"
    },
    {
     "name": "stderr",
     "output_type": "stream",
     "text": [
      "Epoch 34: 0.8s to complete\n",
      "    error(train)=2.60e-01, acc(train)=9.06e-01, error(valid)=5.83e-01, acc(valid)=8.27e-01\n"
     ]
    },
    {
     "data": {
      "text/plain": "  0%|          | 0/1000 [00:00<?, ?it/s]",
      "application/vnd.jupyter.widget-view+json": {
       "version_major": 2,
       "version_minor": 0,
       "model_id": "dd03e05dcc9349b9926084b11aacfe81"
      }
     },
     "metadata": {},
     "output_type": "display_data"
    },
    {
     "name": "stderr",
     "output_type": "stream",
     "text": [
      "Epoch 35: 1.0s to complete\n",
      "    error(train)=2.64e-01, acc(train)=9.03e-01, error(valid)=5.95e-01, acc(valid)=8.26e-01\n"
     ]
    },
    {
     "data": {
      "text/plain": "  0%|          | 0/1000 [00:00<?, ?it/s]",
      "application/vnd.jupyter.widget-view+json": {
       "version_major": 2,
       "version_minor": 0,
       "model_id": "36441cddf60d41c08ad4867c24286111"
      }
     },
     "metadata": {},
     "output_type": "display_data"
    },
    {
     "name": "stderr",
     "output_type": "stream",
     "text": [
      "Epoch 36: 0.8s to complete\n",
      "    error(train)=2.57e-01, acc(train)=9.06e-01, error(valid)=5.97e-01, acc(valid)=8.30e-01\n"
     ]
    },
    {
     "data": {
      "text/plain": "  0%|          | 0/1000 [00:00<?, ?it/s]",
      "application/vnd.jupyter.widget-view+json": {
       "version_major": 2,
       "version_minor": 0,
       "model_id": "65a044732b774920b26e13bd5076c8cc"
      }
     },
     "metadata": {},
     "output_type": "display_data"
    },
    {
     "name": "stderr",
     "output_type": "stream",
     "text": [
      "Epoch 37: 0.9s to complete\n",
      "    error(train)=2.53e-01, acc(train)=9.08e-01, error(valid)=5.99e-01, acc(valid)=8.28e-01\n"
     ]
    },
    {
     "data": {
      "text/plain": "  0%|          | 0/1000 [00:00<?, ?it/s]",
      "application/vnd.jupyter.widget-view+json": {
       "version_major": 2,
       "version_minor": 0,
       "model_id": "cbb5a2be04824159b4b79b84c60f4954"
      }
     },
     "metadata": {},
     "output_type": "display_data"
    },
    {
     "name": "stderr",
     "output_type": "stream",
     "text": [
      "Epoch 38: 1.0s to complete\n",
      "    error(train)=2.48e-01, acc(train)=9.10e-01, error(valid)=6.05e-01, acc(valid)=8.28e-01\n"
     ]
    },
    {
     "data": {
      "text/plain": "  0%|          | 0/1000 [00:00<?, ?it/s]",
      "application/vnd.jupyter.widget-view+json": {
       "version_major": 2,
       "version_minor": 0,
       "model_id": "e91c1be968dc4b70ad77bd6647d59370"
      }
     },
     "metadata": {},
     "output_type": "display_data"
    },
    {
     "name": "stderr",
     "output_type": "stream",
     "text": [
      "Epoch 39: 0.8s to complete\n",
      "    error(train)=2.51e-01, acc(train)=9.07e-01, error(valid)=6.14e-01, acc(valid)=8.24e-01\n"
     ]
    },
    {
     "data": {
      "text/plain": "  0%|          | 0/1000 [00:00<?, ?it/s]",
      "application/vnd.jupyter.widget-view+json": {
       "version_major": 2,
       "version_minor": 0,
       "model_id": "67e35dfddbbb4a0892fed58d72fbba14"
      }
     },
     "metadata": {},
     "output_type": "display_data"
    },
    {
     "name": "stderr",
     "output_type": "stream",
     "text": [
      "Epoch 40: 0.8s to complete\n",
      "    error(train)=2.46e-01, acc(train)=9.09e-01, error(valid)=6.16e-01, acc(valid)=8.24e-01\n"
     ]
    },
    {
     "data": {
      "text/plain": "  0%|          | 0/1000 [00:00<?, ?it/s]",
      "application/vnd.jupyter.widget-view+json": {
       "version_major": 2,
       "version_minor": 0,
       "model_id": "56e1ee3ee89d4752a5b24465c7d3dfbf"
      }
     },
     "metadata": {},
     "output_type": "display_data"
    },
    {
     "name": "stderr",
     "output_type": "stream",
     "text": [
      "Epoch 41: 0.9s to complete\n",
      "    error(train)=2.47e-01, acc(train)=9.10e-01, error(valid)=6.21e-01, acc(valid)=8.22e-01\n"
     ]
    },
    {
     "data": {
      "text/plain": "  0%|          | 0/1000 [00:00<?, ?it/s]",
      "application/vnd.jupyter.widget-view+json": {
       "version_major": 2,
       "version_minor": 0,
       "model_id": "5cd20f49732b4e409c34f0a485827d44"
      }
     },
     "metadata": {},
     "output_type": "display_data"
    },
    {
     "name": "stderr",
     "output_type": "stream",
     "text": [
      "Epoch 42: 0.8s to complete\n",
      "    error(train)=2.46e-01, acc(train)=9.08e-01, error(valid)=6.31e-01, acc(valid)=8.22e-01\n"
     ]
    },
    {
     "data": {
      "text/plain": "  0%|          | 0/1000 [00:00<?, ?it/s]",
      "application/vnd.jupyter.widget-view+json": {
       "version_major": 2,
       "version_minor": 0,
       "model_id": "c2e341f7a8a648378de7f029ccab9bb0"
      }
     },
     "metadata": {},
     "output_type": "display_data"
    },
    {
     "name": "stderr",
     "output_type": "stream",
     "text": [
      "Epoch 43: 0.8s to complete\n",
      "    error(train)=2.40e-01, acc(train)=9.11e-01, error(valid)=6.28e-01, acc(valid)=8.24e-01\n"
     ]
    },
    {
     "data": {
      "text/plain": "  0%|          | 0/1000 [00:00<?, ?it/s]",
      "application/vnd.jupyter.widget-view+json": {
       "version_major": 2,
       "version_minor": 0,
       "model_id": "24f8559a1b504a58833b79a6ad133feb"
      }
     },
     "metadata": {},
     "output_type": "display_data"
    },
    {
     "name": "stderr",
     "output_type": "stream",
     "text": [
      "Epoch 44: 0.8s to complete\n",
      "    error(train)=2.36e-01, acc(train)=9.15e-01, error(valid)=6.37e-01, acc(valid)=8.23e-01\n"
     ]
    },
    {
     "data": {
      "text/plain": "  0%|          | 0/1000 [00:00<?, ?it/s]",
      "application/vnd.jupyter.widget-view+json": {
       "version_major": 2,
       "version_minor": 0,
       "model_id": "c359790e15e34453930e507f2088be84"
      }
     },
     "metadata": {},
     "output_type": "display_data"
    },
    {
     "name": "stderr",
     "output_type": "stream",
     "text": [
      "Epoch 45: 0.8s to complete\n",
      "    error(train)=2.33e-01, acc(train)=9.13e-01, error(valid)=6.42e-01, acc(valid)=8.22e-01\n"
     ]
    },
    {
     "data": {
      "text/plain": "  0%|          | 0/1000 [00:00<?, ?it/s]",
      "application/vnd.jupyter.widget-view+json": {
       "version_major": 2,
       "version_minor": 0,
       "model_id": "487f8aac34a948bca1852311626a396c"
      }
     },
     "metadata": {},
     "output_type": "display_data"
    },
    {
     "name": "stderr",
     "output_type": "stream",
     "text": [
      "Epoch 46: 0.8s to complete\n",
      "    error(train)=2.29e-01, acc(train)=9.16e-01, error(valid)=6.46e-01, acc(valid)=8.26e-01\n"
     ]
    },
    {
     "data": {
      "text/plain": "  0%|          | 0/1000 [00:00<?, ?it/s]",
      "application/vnd.jupyter.widget-view+json": {
       "version_major": 2,
       "version_minor": 0,
       "model_id": "a91a732ab20b49d0b244e91dfbbebac3"
      }
     },
     "metadata": {},
     "output_type": "display_data"
    },
    {
     "name": "stderr",
     "output_type": "stream",
     "text": [
      "Epoch 47: 0.9s to complete\n",
      "    error(train)=2.28e-01, acc(train)=9.16e-01, error(valid)=6.45e-01, acc(valid)=8.23e-01\n"
     ]
    },
    {
     "data": {
      "text/plain": "  0%|          | 0/1000 [00:00<?, ?it/s]",
      "application/vnd.jupyter.widget-view+json": {
       "version_major": 2,
       "version_minor": 0,
       "model_id": "549854ded7f24f15a3374b78b2f5c0ad"
      }
     },
     "metadata": {},
     "output_type": "display_data"
    },
    {
     "name": "stderr",
     "output_type": "stream",
     "text": [
      "Epoch 48: 0.9s to complete\n",
      "    error(train)=2.31e-01, acc(train)=9.14e-01, error(valid)=6.64e-01, acc(valid)=8.20e-01\n"
     ]
    },
    {
     "data": {
      "text/plain": "  0%|          | 0/1000 [00:00<?, ?it/s]",
      "application/vnd.jupyter.widget-view+json": {
       "version_major": 2,
       "version_minor": 0,
       "model_id": "25831a12ecda4e85b11df5079d3022d4"
      }
     },
     "metadata": {},
     "output_type": "display_data"
    },
    {
     "name": "stderr",
     "output_type": "stream",
     "text": [
      "Epoch 49: 0.8s to complete\n",
      "    error(train)=2.31e-01, acc(train)=9.15e-01, error(valid)=6.67e-01, acc(valid)=8.20e-01\n"
     ]
    },
    {
     "data": {
      "text/plain": "  0%|          | 0/1000 [00:00<?, ?it/s]",
      "application/vnd.jupyter.widget-view+json": {
       "version_major": 2,
       "version_minor": 0,
       "model_id": "3d73347b2eb14066903eac4143bf310a"
      }
     },
     "metadata": {},
     "output_type": "display_data"
    },
    {
     "name": "stderr",
     "output_type": "stream",
     "text": [
      "Epoch 50: 0.9s to complete\n",
      "    error(train)=2.23e-01, acc(train)=9.18e-01, error(valid)=6.72e-01, acc(valid)=8.23e-01\n"
     ]
    },
    {
     "data": {
      "text/plain": "  0%|          | 0/1000 [00:00<?, ?it/s]",
      "application/vnd.jupyter.widget-view+json": {
       "version_major": 2,
       "version_minor": 0,
       "model_id": "8bed9ef2fc634721ad078cca9b314730"
      }
     },
     "metadata": {},
     "output_type": "display_data"
    },
    {
     "name": "stderr",
     "output_type": "stream",
     "text": [
      "Epoch 51: 1.0s to complete\n",
      "    error(train)=2.17e-01, acc(train)=9.20e-01, error(valid)=6.77e-01, acc(valid)=8.20e-01\n"
     ]
    },
    {
     "data": {
      "text/plain": "  0%|          | 0/1000 [00:00<?, ?it/s]",
      "application/vnd.jupyter.widget-view+json": {
       "version_major": 2,
       "version_minor": 0,
       "model_id": "c569caf39cf04a90abd5bd676a2ce07d"
      }
     },
     "metadata": {},
     "output_type": "display_data"
    },
    {
     "name": "stderr",
     "output_type": "stream",
     "text": [
      "Epoch 52: 0.8s to complete\n",
      "    error(train)=2.20e-01, acc(train)=9.19e-01, error(valid)=6.82e-01, acc(valid)=8.22e-01\n"
     ]
    },
    {
     "data": {
      "text/plain": "  0%|          | 0/1000 [00:00<?, ?it/s]",
      "application/vnd.jupyter.widget-view+json": {
       "version_major": 2,
       "version_minor": 0,
       "model_id": "5816f2ab7830432794f042538095bf90"
      }
     },
     "metadata": {},
     "output_type": "display_data"
    },
    {
     "name": "stderr",
     "output_type": "stream",
     "text": [
      "Epoch 53: 0.8s to complete\n",
      "    error(train)=2.18e-01, acc(train)=9.20e-01, error(valid)=6.89e-01, acc(valid)=8.21e-01\n"
     ]
    },
    {
     "data": {
      "text/plain": "  0%|          | 0/1000 [00:00<?, ?it/s]",
      "application/vnd.jupyter.widget-view+json": {
       "version_major": 2,
       "version_minor": 0,
       "model_id": "ba6f717696414ad8a5cf56f84473bfe6"
      }
     },
     "metadata": {},
     "output_type": "display_data"
    },
    {
     "name": "stderr",
     "output_type": "stream",
     "text": [
      "Epoch 54: 0.8s to complete\n",
      "    error(train)=2.14e-01, acc(train)=9.20e-01, error(valid)=6.89e-01, acc(valid)=8.21e-01\n"
     ]
    },
    {
     "data": {
      "text/plain": "  0%|          | 0/1000 [00:00<?, ?it/s]",
      "application/vnd.jupyter.widget-view+json": {
       "version_major": 2,
       "version_minor": 0,
       "model_id": "9f7018eb5ad147fcb1a61093f1b00f3c"
      }
     },
     "metadata": {},
     "output_type": "display_data"
    },
    {
     "name": "stderr",
     "output_type": "stream",
     "text": [
      "Epoch 55: 0.8s to complete\n",
      "    error(train)=2.17e-01, acc(train)=9.19e-01, error(valid)=7.01e-01, acc(valid)=8.19e-01\n"
     ]
    },
    {
     "data": {
      "text/plain": "  0%|          | 0/1000 [00:00<?, ?it/s]",
      "application/vnd.jupyter.widget-view+json": {
       "version_major": 2,
       "version_minor": 0,
       "model_id": "dc119d0058214e4b97ccd7356c98093b"
      }
     },
     "metadata": {},
     "output_type": "display_data"
    },
    {
     "name": "stderr",
     "output_type": "stream",
     "text": [
      "Epoch 56: 1.0s to complete\n",
      "    error(train)=2.09e-01, acc(train)=9.22e-01, error(valid)=6.94e-01, acc(valid)=8.20e-01\n"
     ]
    },
    {
     "data": {
      "text/plain": "  0%|          | 0/1000 [00:00<?, ?it/s]",
      "application/vnd.jupyter.widget-view+json": {
       "version_major": 2,
       "version_minor": 0,
       "model_id": "a32d3ae08997496e8e6047d4d7bdadf7"
      }
     },
     "metadata": {},
     "output_type": "display_data"
    },
    {
     "name": "stderr",
     "output_type": "stream",
     "text": [
      "Epoch 57: 0.8s to complete\n",
      "    error(train)=2.05e-01, acc(train)=9.24e-01, error(valid)=6.98e-01, acc(valid)=8.21e-01\n"
     ]
    },
    {
     "data": {
      "text/plain": "  0%|          | 0/1000 [00:00<?, ?it/s]",
      "application/vnd.jupyter.widget-view+json": {
       "version_major": 2,
       "version_minor": 0,
       "model_id": "38b459bc71bf4d4d83afb14ea99dbe0c"
      }
     },
     "metadata": {},
     "output_type": "display_data"
    },
    {
     "name": "stderr",
     "output_type": "stream",
     "text": [
      "Epoch 58: 0.8s to complete\n",
      "    error(train)=2.23e-01, acc(train)=9.14e-01, error(valid)=7.21e-01, acc(valid)=8.19e-01\n"
     ]
    },
    {
     "data": {
      "text/plain": "  0%|          | 0/1000 [00:00<?, ?it/s]",
      "application/vnd.jupyter.widget-view+json": {
       "version_major": 2,
       "version_minor": 0,
       "model_id": "bce65d8cb3db4df58ad4438ed621d413"
      }
     },
     "metadata": {},
     "output_type": "display_data"
    },
    {
     "name": "stderr",
     "output_type": "stream",
     "text": [
      "Epoch 59: 0.8s to complete\n",
      "    error(train)=2.04e-01, acc(train)=9.24e-01, error(valid)=7.14e-01, acc(valid)=8.19e-01\n"
     ]
    },
    {
     "data": {
      "text/plain": "  0%|          | 0/1000 [00:00<?, ?it/s]",
      "application/vnd.jupyter.widget-view+json": {
       "version_major": 2,
       "version_minor": 0,
       "model_id": "424abca8c9904e51b9313ffc29136a33"
      }
     },
     "metadata": {},
     "output_type": "display_data"
    },
    {
     "name": "stderr",
     "output_type": "stream",
     "text": [
      "Epoch 60: 0.8s to complete\n",
      "    error(train)=2.02e-01, acc(train)=9.24e-01, error(valid)=7.25e-01, acc(valid)=8.22e-01\n"
     ]
    },
    {
     "data": {
      "text/plain": "  0%|          | 0/1000 [00:00<?, ?it/s]",
      "application/vnd.jupyter.widget-view+json": {
       "version_major": 2,
       "version_minor": 0,
       "model_id": "2124ebf3373042039e9fdc63ad5e644c"
      }
     },
     "metadata": {},
     "output_type": "display_data"
    },
    {
     "name": "stderr",
     "output_type": "stream",
     "text": [
      "Epoch 61: 1.0s to complete\n",
      "    error(train)=1.99e-01, acc(train)=9.24e-01, error(valid)=7.30e-01, acc(valid)=8.20e-01\n"
     ]
    },
    {
     "data": {
      "text/plain": "  0%|          | 0/1000 [00:00<?, ?it/s]",
      "application/vnd.jupyter.widget-view+json": {
       "version_major": 2,
       "version_minor": 0,
       "model_id": "afbfc63d8e69441e94421d14342e84d4"
      }
     },
     "metadata": {},
     "output_type": "display_data"
    },
    {
     "name": "stderr",
     "output_type": "stream",
     "text": [
      "Epoch 62: 0.9s to complete\n",
      "    error(train)=1.99e-01, acc(train)=9.25e-01, error(valid)=7.27e-01, acc(valid)=8.18e-01\n"
     ]
    },
    {
     "data": {
      "text/plain": "  0%|          | 0/1000 [00:00<?, ?it/s]",
      "application/vnd.jupyter.widget-view+json": {
       "version_major": 2,
       "version_minor": 0,
       "model_id": "7b653fd02b17438f9f2f024445e4f0da"
      }
     },
     "metadata": {},
     "output_type": "display_data"
    },
    {
     "name": "stderr",
     "output_type": "stream",
     "text": [
      "Epoch 63: 0.8s to complete\n",
      "    error(train)=1.99e-01, acc(train)=9.25e-01, error(valid)=7.40e-01, acc(valid)=8.22e-01\n"
     ]
    },
    {
     "data": {
      "text/plain": "  0%|          | 0/1000 [00:00<?, ?it/s]",
      "application/vnd.jupyter.widget-view+json": {
       "version_major": 2,
       "version_minor": 0,
       "model_id": "d4b87f3ba05443ee863827c451ff10df"
      }
     },
     "metadata": {},
     "output_type": "display_data"
    },
    {
     "name": "stderr",
     "output_type": "stream",
     "text": [
      "Epoch 64: 0.8s to complete\n",
      "    error(train)=1.99e-01, acc(train)=9.24e-01, error(valid)=7.47e-01, acc(valid)=8.20e-01\n"
     ]
    },
    {
     "data": {
      "text/plain": "  0%|          | 0/1000 [00:00<?, ?it/s]",
      "application/vnd.jupyter.widget-view+json": {
       "version_major": 2,
       "version_minor": 0,
       "model_id": "0456f9ec08ea4f368a8ddca2d7deb1f4"
      }
     },
     "metadata": {},
     "output_type": "display_data"
    },
    {
     "name": "stderr",
     "output_type": "stream",
     "text": [
      "Epoch 65: 0.8s to complete\n",
      "    error(train)=1.92e-01, acc(train)=9.28e-01, error(valid)=7.47e-01, acc(valid)=8.20e-01\n"
     ]
    },
    {
     "data": {
      "text/plain": "  0%|          | 0/1000 [00:00<?, ?it/s]",
      "application/vnd.jupyter.widget-view+json": {
       "version_major": 2,
       "version_minor": 0,
       "model_id": "d416418a6a934139bd3852f9cc2740aa"
      }
     },
     "metadata": {},
     "output_type": "display_data"
    },
    {
     "name": "stderr",
     "output_type": "stream",
     "text": [
      "Epoch 66: 0.9s to complete\n",
      "    error(train)=1.95e-01, acc(train)=9.24e-01, error(valid)=7.58e-01, acc(valid)=8.15e-01\n"
     ]
    },
    {
     "data": {
      "text/plain": "  0%|          | 0/1000 [00:00<?, ?it/s]",
      "application/vnd.jupyter.widget-view+json": {
       "version_major": 2,
       "version_minor": 0,
       "model_id": "99a24d7e67014453849821e780890411"
      }
     },
     "metadata": {},
     "output_type": "display_data"
    },
    {
     "name": "stderr",
     "output_type": "stream",
     "text": [
      "Epoch 67: 0.8s to complete\n",
      "    error(train)=1.97e-01, acc(train)=9.25e-01, error(valid)=7.70e-01, acc(valid)=8.23e-01\n"
     ]
    },
    {
     "data": {
      "text/plain": "  0%|          | 0/1000 [00:00<?, ?it/s]",
      "application/vnd.jupyter.widget-view+json": {
       "version_major": 2,
       "version_minor": 0,
       "model_id": "d75423e8c18b469c95b24c671c75ca68"
      }
     },
     "metadata": {},
     "output_type": "display_data"
    },
    {
     "name": "stderr",
     "output_type": "stream",
     "text": [
      "Epoch 68: 0.9s to complete\n",
      "    error(train)=1.91e-01, acc(train)=9.28e-01, error(valid)=7.67e-01, acc(valid)=8.20e-01\n"
     ]
    },
    {
     "data": {
      "text/plain": "  0%|          | 0/1000 [00:00<?, ?it/s]",
      "application/vnd.jupyter.widget-view+json": {
       "version_major": 2,
       "version_minor": 0,
       "model_id": "bbde7c16930b40238f99053c4a6db1e0"
      }
     },
     "metadata": {},
     "output_type": "display_data"
    },
    {
     "name": "stderr",
     "output_type": "stream",
     "text": [
      "Epoch 69: 0.8s to complete\n",
      "    error(train)=1.93e-01, acc(train)=9.27e-01, error(valid)=7.78e-01, acc(valid)=8.19e-01\n"
     ]
    },
    {
     "data": {
      "text/plain": "  0%|          | 0/1000 [00:00<?, ?it/s]",
      "application/vnd.jupyter.widget-view+json": {
       "version_major": 2,
       "version_minor": 0,
       "model_id": "c7fddf852fe146c6b0ae6d1fe6755c7a"
      }
     },
     "metadata": {},
     "output_type": "display_data"
    },
    {
     "name": "stderr",
     "output_type": "stream",
     "text": [
      "Epoch 70: 0.8s to complete\n",
      "    error(train)=1.91e-01, acc(train)=9.27e-01, error(valid)=7.82e-01, acc(valid)=8.18e-01\n"
     ]
    },
    {
     "data": {
      "text/plain": "  0%|          | 0/1000 [00:00<?, ?it/s]",
      "application/vnd.jupyter.widget-view+json": {
       "version_major": 2,
       "version_minor": 0,
       "model_id": "63cc3e449b5c482b9f812dc65fe974a0"
      }
     },
     "metadata": {},
     "output_type": "display_data"
    },
    {
     "name": "stderr",
     "output_type": "stream",
     "text": [
      "Epoch 71: 0.9s to complete\n",
      "    error(train)=2.00e-01, acc(train)=9.23e-01, error(valid)=8.02e-01, acc(valid)=8.15e-01\n"
     ]
    },
    {
     "data": {
      "text/plain": "  0%|          | 0/1000 [00:00<?, ?it/s]",
      "application/vnd.jupyter.widget-view+json": {
       "version_major": 2,
       "version_minor": 0,
       "model_id": "2424527528c34efb8159459c28d0686c"
      }
     },
     "metadata": {},
     "output_type": "display_data"
    },
    {
     "name": "stderr",
     "output_type": "stream",
     "text": [
      "Epoch 72: 1.0s to complete\n",
      "    error(train)=1.80e-01, acc(train)=9.33e-01, error(valid)=7.87e-01, acc(valid)=8.20e-01\n"
     ]
    },
    {
     "data": {
      "text/plain": "  0%|          | 0/1000 [00:00<?, ?it/s]",
      "application/vnd.jupyter.widget-view+json": {
       "version_major": 2,
       "version_minor": 0,
       "model_id": "5f07ff67fe6a4f6994374b78136474d5"
      }
     },
     "metadata": {},
     "output_type": "display_data"
    },
    {
     "name": "stderr",
     "output_type": "stream",
     "text": [
      "Epoch 73: 0.8s to complete\n",
      "    error(train)=1.85e-01, acc(train)=9.29e-01, error(valid)=7.96e-01, acc(valid)=8.19e-01\n"
     ]
    },
    {
     "data": {
      "text/plain": "  0%|          | 0/1000 [00:00<?, ?it/s]",
      "application/vnd.jupyter.widget-view+json": {
       "version_major": 2,
       "version_minor": 0,
       "model_id": "d024c25242194af3818649d0f64c0359"
      }
     },
     "metadata": {},
     "output_type": "display_data"
    },
    {
     "name": "stderr",
     "output_type": "stream",
     "text": [
      "Epoch 74: 0.8s to complete\n",
      "    error(train)=1.84e-01, acc(train)=9.29e-01, error(valid)=8.00e-01, acc(valid)=8.18e-01\n"
     ]
    },
    {
     "data": {
      "text/plain": "  0%|          | 0/1000 [00:00<?, ?it/s]",
      "application/vnd.jupyter.widget-view+json": {
       "version_major": 2,
       "version_minor": 0,
       "model_id": "811b158016644c3ab94113503f290763"
      }
     },
     "metadata": {},
     "output_type": "display_data"
    },
    {
     "name": "stderr",
     "output_type": "stream",
     "text": [
      "Epoch 75: 0.8s to complete\n",
      "    error(train)=1.92e-01, acc(train)=9.26e-01, error(valid)=8.27e-01, acc(valid)=8.14e-01\n"
     ]
    },
    {
     "data": {
      "text/plain": "  0%|          | 0/1000 [00:00<?, ?it/s]",
      "application/vnd.jupyter.widget-view+json": {
       "version_major": 2,
       "version_minor": 0,
       "model_id": "d20b591686a543128374564156476257"
      }
     },
     "metadata": {},
     "output_type": "display_data"
    },
    {
     "name": "stderr",
     "output_type": "stream",
     "text": [
      "Epoch 76: 0.9s to complete\n",
      "    error(train)=1.81e-01, acc(train)=9.31e-01, error(valid)=8.15e-01, acc(valid)=8.18e-01\n"
     ]
    },
    {
     "data": {
      "text/plain": "  0%|          | 0/1000 [00:00<?, ?it/s]",
      "application/vnd.jupyter.widget-view+json": {
       "version_major": 2,
       "version_minor": 0,
       "model_id": "5ab4f779acd44c349d313933320b0017"
      }
     },
     "metadata": {},
     "output_type": "display_data"
    },
    {
     "name": "stderr",
     "output_type": "stream",
     "text": [
      "Epoch 77: 0.8s to complete\n",
      "    error(train)=1.78e-01, acc(train)=9.32e-01, error(valid)=8.21e-01, acc(valid)=8.17e-01\n"
     ]
    },
    {
     "data": {
      "text/plain": "  0%|          | 0/1000 [00:00<?, ?it/s]",
      "application/vnd.jupyter.widget-view+json": {
       "version_major": 2,
       "version_minor": 0,
       "model_id": "67bc81298a9246ddb2dbe16f08a6e4f3"
      }
     },
     "metadata": {},
     "output_type": "display_data"
    },
    {
     "name": "stderr",
     "output_type": "stream",
     "text": [
      "Epoch 78: 0.9s to complete\n",
      "    error(train)=1.86e-01, acc(train)=9.29e-01, error(valid)=8.40e-01, acc(valid)=8.15e-01\n"
     ]
    },
    {
     "data": {
      "text/plain": "  0%|          | 0/1000 [00:00<?, ?it/s]",
      "application/vnd.jupyter.widget-view+json": {
       "version_major": 2,
       "version_minor": 0,
       "model_id": "32e4ca54f28744e2b9f292e63203e76b"
      }
     },
     "metadata": {},
     "output_type": "display_data"
    },
    {
     "name": "stderr",
     "output_type": "stream",
     "text": [
      "Epoch 79: 0.8s to complete\n",
      "    error(train)=1.86e-01, acc(train)=9.29e-01, error(valid)=8.48e-01, acc(valid)=8.15e-01\n"
     ]
    },
    {
     "data": {
      "text/plain": "  0%|          | 0/1000 [00:00<?, ?it/s]",
      "application/vnd.jupyter.widget-view+json": {
       "version_major": 2,
       "version_minor": 0,
       "model_id": "d1cda6a26cd54617a451a72ec1f36f04"
      }
     },
     "metadata": {},
     "output_type": "display_data"
    },
    {
     "name": "stderr",
     "output_type": "stream",
     "text": [
      "Epoch 80: 0.9s to complete\n",
      "    error(train)=1.77e-01, acc(train)=9.31e-01, error(valid)=8.37e-01, acc(valid)=8.12e-01\n"
     ]
    },
    {
     "data": {
      "text/plain": "  0%|          | 0/1000 [00:00<?, ?it/s]",
      "application/vnd.jupyter.widget-view+json": {
       "version_major": 2,
       "version_minor": 0,
       "model_id": "42973a13b1d44cd79dbf4252e180f6d2"
      }
     },
     "metadata": {},
     "output_type": "display_data"
    },
    {
     "name": "stderr",
     "output_type": "stream",
     "text": [
      "Epoch 81: 1.0s to complete\n",
      "    error(train)=1.82e-01, acc(train)=9.30e-01, error(valid)=8.56e-01, acc(valid)=8.14e-01\n"
     ]
    },
    {
     "data": {
      "text/plain": "  0%|          | 0/1000 [00:00<?, ?it/s]",
      "application/vnd.jupyter.widget-view+json": {
       "version_major": 2,
       "version_minor": 0,
       "model_id": "216f855c68944855b9b2389b8c0293d6"
      }
     },
     "metadata": {},
     "output_type": "display_data"
    },
    {
     "name": "stderr",
     "output_type": "stream",
     "text": [
      "Epoch 82: 0.8s to complete\n",
      "    error(train)=1.71e-01, acc(train)=9.35e-01, error(valid)=8.54e-01, acc(valid)=8.15e-01\n"
     ]
    },
    {
     "data": {
      "text/plain": "  0%|          | 0/1000 [00:00<?, ?it/s]",
      "application/vnd.jupyter.widget-view+json": {
       "version_major": 2,
       "version_minor": 0,
       "model_id": "a8eef6a8eb5640578bd68259e461337b"
      }
     },
     "metadata": {},
     "output_type": "display_data"
    },
    {
     "name": "stderr",
     "output_type": "stream",
     "text": [
      "Epoch 83: 0.8s to complete\n",
      "    error(train)=1.74e-01, acc(train)=9.34e-01, error(valid)=8.61e-01, acc(valid)=8.12e-01\n"
     ]
    },
    {
     "data": {
      "text/plain": "  0%|          | 0/1000 [00:00<?, ?it/s]",
      "application/vnd.jupyter.widget-view+json": {
       "version_major": 2,
       "version_minor": 0,
       "model_id": "fe6b43500b6a4a498dc143fab2009a1b"
      }
     },
     "metadata": {},
     "output_type": "display_data"
    },
    {
     "name": "stderr",
     "output_type": "stream",
     "text": [
      "Epoch 84: 0.8s to complete\n",
      "    error(train)=1.75e-01, acc(train)=9.31e-01, error(valid)=8.70e-01, acc(valid)=8.12e-01\n"
     ]
    },
    {
     "data": {
      "text/plain": "  0%|          | 0/1000 [00:00<?, ?it/s]",
      "application/vnd.jupyter.widget-view+json": {
       "version_major": 2,
       "version_minor": 0,
       "model_id": "877fb24eada74710a155bf500432d643"
      }
     },
     "metadata": {},
     "output_type": "display_data"
    },
    {
     "name": "stderr",
     "output_type": "stream",
     "text": [
      "Epoch 85: 0.8s to complete\n",
      "    error(train)=1.70e-01, acc(train)=9.35e-01, error(valid)=8.73e-01, acc(valid)=8.14e-01\n"
     ]
    },
    {
     "data": {
      "text/plain": "  0%|          | 0/1000 [00:00<?, ?it/s]",
      "application/vnd.jupyter.widget-view+json": {
       "version_major": 2,
       "version_minor": 0,
       "model_id": "e033fac17dd4437ab9bb66a30b1768bf"
      }
     },
     "metadata": {},
     "output_type": "display_data"
    },
    {
     "name": "stderr",
     "output_type": "stream",
     "text": [
      "Epoch 86: 1.0s to complete\n",
      "    error(train)=1.66e-01, acc(train)=9.37e-01, error(valid)=8.71e-01, acc(valid)=8.15e-01\n"
     ]
    },
    {
     "data": {
      "text/plain": "  0%|          | 0/1000 [00:00<?, ?it/s]",
      "application/vnd.jupyter.widget-view+json": {
       "version_major": 2,
       "version_minor": 0,
       "model_id": "c00bfc4022114d6c8a9aa8c0b6067f47"
      }
     },
     "metadata": {},
     "output_type": "display_data"
    },
    {
     "name": "stderr",
     "output_type": "stream",
     "text": [
      "Epoch 87: 0.9s to complete\n",
      "    error(train)=1.74e-01, acc(train)=9.33e-01, error(valid)=8.98e-01, acc(valid)=8.11e-01\n"
     ]
    },
    {
     "data": {
      "text/plain": "  0%|          | 0/1000 [00:00<?, ?it/s]",
      "application/vnd.jupyter.widget-view+json": {
       "version_major": 2,
       "version_minor": 0,
       "model_id": "3b1b0bdcea974f8aae87397c3910e1df"
      }
     },
     "metadata": {},
     "output_type": "display_data"
    },
    {
     "name": "stderr",
     "output_type": "stream",
     "text": [
      "Epoch 88: 0.9s to complete\n",
      "    error(train)=1.72e-01, acc(train)=9.33e-01, error(valid)=8.98e-01, acc(valid)=8.11e-01\n"
     ]
    },
    {
     "data": {
      "text/plain": "  0%|          | 0/1000 [00:00<?, ?it/s]",
      "application/vnd.jupyter.widget-view+json": {
       "version_major": 2,
       "version_minor": 0,
       "model_id": "21ec29172e33499e9b8c48e9c9215f8f"
      }
     },
     "metadata": {},
     "output_type": "display_data"
    },
    {
     "name": "stderr",
     "output_type": "stream",
     "text": [
      "Epoch 89: 0.8s to complete\n",
      "    error(train)=1.70e-01, acc(train)=9.35e-01, error(valid)=8.97e-01, acc(valid)=8.13e-01\n"
     ]
    },
    {
     "data": {
      "text/plain": "  0%|          | 0/1000 [00:00<?, ?it/s]",
      "application/vnd.jupyter.widget-view+json": {
       "version_major": 2,
       "version_minor": 0,
       "model_id": "27425a19980b4158a0928662d24d99ed"
      }
     },
     "metadata": {},
     "output_type": "display_data"
    },
    {
     "name": "stderr",
     "output_type": "stream",
     "text": [
      "Epoch 90: 0.9s to complete\n",
      "    error(train)=1.62e-01, acc(train)=9.38e-01, error(valid)=8.92e-01, acc(valid)=8.12e-01\n"
     ]
    },
    {
     "data": {
      "text/plain": "  0%|          | 0/1000 [00:00<?, ?it/s]",
      "application/vnd.jupyter.widget-view+json": {
       "version_major": 2,
       "version_minor": 0,
       "model_id": "ab46937a180940c68e9157164ff87aa8"
      }
     },
     "metadata": {},
     "output_type": "display_data"
    },
    {
     "name": "stderr",
     "output_type": "stream",
     "text": [
      "Epoch 91: 0.8s to complete\n",
      "    error(train)=1.64e-01, acc(train)=9.37e-01, error(valid)=9.17e-01, acc(valid)=8.11e-01\n"
     ]
    },
    {
     "data": {
      "text/plain": "  0%|          | 0/1000 [00:00<?, ?it/s]",
      "application/vnd.jupyter.widget-view+json": {
       "version_major": 2,
       "version_minor": 0,
       "model_id": "77a301aecadf478fa31847bc66511c73"
      }
     },
     "metadata": {},
     "output_type": "display_data"
    },
    {
     "name": "stderr",
     "output_type": "stream",
     "text": [
      "Epoch 92: 0.8s to complete\n",
      "    error(train)=1.60e-01, acc(train)=9.38e-01, error(valid)=9.10e-01, acc(valid)=8.13e-01\n"
     ]
    },
    {
     "data": {
      "text/plain": "  0%|          | 0/1000 [00:00<?, ?it/s]",
      "application/vnd.jupyter.widget-view+json": {
       "version_major": 2,
       "version_minor": 0,
       "model_id": "a2797f7f99dd4b64a00816c475fd8e80"
      }
     },
     "metadata": {},
     "output_type": "display_data"
    },
    {
     "name": "stderr",
     "output_type": "stream",
     "text": [
      "Epoch 93: 0.8s to complete\n",
      "    error(train)=1.65e-01, acc(train)=9.35e-01, error(valid)=9.28e-01, acc(valid)=8.10e-01\n"
     ]
    },
    {
     "data": {
      "text/plain": "  0%|          | 0/1000 [00:00<?, ?it/s]",
      "application/vnd.jupyter.widget-view+json": {
       "version_major": 2,
       "version_minor": 0,
       "model_id": "65513143bb644f32bbe823fbf044ac94"
      }
     },
     "metadata": {},
     "output_type": "display_data"
    },
    {
     "name": "stderr",
     "output_type": "stream",
     "text": [
      "Epoch 94: 0.8s to complete\n",
      "    error(train)=1.54e-01, acc(train)=9.41e-01, error(valid)=9.16e-01, acc(valid)=8.14e-01\n"
     ]
    },
    {
     "data": {
      "text/plain": "  0%|          | 0/1000 [00:00<?, ?it/s]",
      "application/vnd.jupyter.widget-view+json": {
       "version_major": 2,
       "version_minor": 0,
       "model_id": "2af231a5e8e44cf88622ec25f10fa45a"
      }
     },
     "metadata": {},
     "output_type": "display_data"
    },
    {
     "name": "stderr",
     "output_type": "stream",
     "text": [
      "Epoch 95: 0.9s to complete\n",
      "    error(train)=1.57e-01, acc(train)=9.39e-01, error(valid)=9.34e-01, acc(valid)=8.09e-01\n"
     ]
    },
    {
     "data": {
      "text/plain": "  0%|          | 0/1000 [00:00<?, ?it/s]",
      "application/vnd.jupyter.widget-view+json": {
       "version_major": 2,
       "version_minor": 0,
       "model_id": "4a273cdf5bef4e60b9f168a88babda5f"
      }
     },
     "metadata": {},
     "output_type": "display_data"
    },
    {
     "name": "stderr",
     "output_type": "stream",
     "text": [
      "Epoch 96: 0.9s to complete\n",
      "    error(train)=1.54e-01, acc(train)=9.41e-01, error(valid)=9.34e-01, acc(valid)=8.11e-01\n"
     ]
    },
    {
     "data": {
      "text/plain": "  0%|          | 0/1000 [00:00<?, ?it/s]",
      "application/vnd.jupyter.widget-view+json": {
       "version_major": 2,
       "version_minor": 0,
       "model_id": "49a50959031f42dbbc7102e6af33a967"
      }
     },
     "metadata": {},
     "output_type": "display_data"
    },
    {
     "name": "stderr",
     "output_type": "stream",
     "text": [
      "Epoch 97: 0.9s to complete\n",
      "    error(train)=1.58e-01, acc(train)=9.39e-01, error(valid)=9.45e-01, acc(valid)=8.11e-01\n"
     ]
    },
    {
     "data": {
      "text/plain": "  0%|          | 0/1000 [00:00<?, ?it/s]",
      "application/vnd.jupyter.widget-view+json": {
       "version_major": 2,
       "version_minor": 0,
       "model_id": "c8883e5786264cb3a14752f1c07ab978"
      }
     },
     "metadata": {},
     "output_type": "display_data"
    },
    {
     "name": "stderr",
     "output_type": "stream",
     "text": [
      "Epoch 98: 0.8s to complete\n",
      "    error(train)=1.63e-01, acc(train)=9.36e-01, error(valid)=9.57e-01, acc(valid)=8.09e-01\n"
     ]
    },
    {
     "data": {
      "text/plain": "  0%|          | 0/1000 [00:00<?, ?it/s]",
      "application/vnd.jupyter.widget-view+json": {
       "version_major": 2,
       "version_minor": 0,
       "model_id": "5288f04f22c549c3a1dc0a1433007bea"
      }
     },
     "metadata": {},
     "output_type": "display_data"
    },
    {
     "name": "stderr",
     "output_type": "stream",
     "text": [
      "Epoch 99: 0.9s to complete\n",
      "    error(train)=1.61e-01, acc(train)=9.37e-01, error(valid)=9.64e-01, acc(valid)=8.13e-01\n"
     ]
    },
    {
     "data": {
      "text/plain": "  0%|          | 0/1000 [00:00<?, ?it/s]",
      "application/vnd.jupyter.widget-view+json": {
       "version_major": 2,
       "version_minor": 0,
       "model_id": "a1dfdca025b546d295930bfbc63b3a9f"
      }
     },
     "metadata": {},
     "output_type": "display_data"
    },
    {
     "name": "stderr",
     "output_type": "stream",
     "text": [
      "Epoch 100: 0.9s to complete\n",
      "    error(train)=1.56e-01, acc(train)=9.39e-01, error(valid)=9.68e-01, acc(valid)=8.12e-01\n"
     ]
    },
    {
     "data": {
      "text/plain": "  0%|          | 0/100 [00:00<?, ?it/s]",
      "application/vnd.jupyter.widget-view+json": {
       "version_major": 2,
       "version_minor": 0,
       "model_id": "7dadc6085ad3414197c188f7efe248f6"
      }
     },
     "metadata": {},
     "output_type": "display_data"
    },
    {
     "data": {
      "text/plain": "  0%|          | 0/1000 [00:00<?, ?it/s]",
      "application/vnd.jupyter.widget-view+json": {
       "version_major": 2,
       "version_minor": 0,
       "model_id": "78d7ab31a89b4351a76f942654bea3ee"
      }
     },
     "metadata": {},
     "output_type": "display_data"
    },
    {
     "name": "stderr",
     "output_type": "stream",
     "text": [
      "Epoch 1: 0.9s to complete\n",
      "    error(train)=7.48e-01, acc(train)=7.70e-01, error(valid)=7.73e-01, acc(valid)=7.63e-01\n"
     ]
    },
    {
     "data": {
      "text/plain": "  0%|          | 0/1000 [00:00<?, ?it/s]",
      "application/vnd.jupyter.widget-view+json": {
       "version_major": 2,
       "version_minor": 0,
       "model_id": "ca9b5bf7810c43e2b736217fca073b5b"
      }
     },
     "metadata": {},
     "output_type": "display_data"
    },
    {
     "name": "stderr",
     "output_type": "stream",
     "text": [
      "Epoch 2: 1.0s to complete\n",
      "    error(train)=5.88e-01, acc(train)=8.13e-01, error(valid)=6.29e-01, acc(valid)=8.02e-01\n"
     ]
    },
    {
     "data": {
      "text/plain": "  0%|          | 0/1000 [00:00<?, ?it/s]",
      "application/vnd.jupyter.widget-view+json": {
       "version_major": 2,
       "version_minor": 0,
       "model_id": "f2cf01519e044556a1743fca4205b2cc"
      }
     },
     "metadata": {},
     "output_type": "display_data"
    },
    {
     "name": "stderr",
     "output_type": "stream",
     "text": [
      "Epoch 3: 1.1s to complete\n",
      "    error(train)=5.16e-01, acc(train)=8.31e-01, error(valid)=5.80e-01, acc(valid)=8.11e-01\n"
     ]
    },
    {
     "data": {
      "text/plain": "  0%|          | 0/1000 [00:00<?, ?it/s]",
      "application/vnd.jupyter.widget-view+json": {
       "version_major": 2,
       "version_minor": 0,
       "model_id": "e84b0b60747349ccb9bc29881565bd25"
      }
     },
     "metadata": {},
     "output_type": "display_data"
    },
    {
     "name": "stderr",
     "output_type": "stream",
     "text": [
      "Epoch 4: 0.9s to complete\n",
      "    error(train)=4.75e-01, acc(train)=8.41e-01, error(valid)=5.51e-01, acc(valid)=8.18e-01\n"
     ]
    },
    {
     "data": {
      "text/plain": "  0%|          | 0/1000 [00:00<?, ?it/s]",
      "application/vnd.jupyter.widget-view+json": {
       "version_major": 2,
       "version_minor": 0,
       "model_id": "bd47f3be34a14f21a7d5a55fc900d6b6"
      }
     },
     "metadata": {},
     "output_type": "display_data"
    },
    {
     "name": "stderr",
     "output_type": "stream",
     "text": [
      "Epoch 5: 0.9s to complete\n",
      "    error(train)=4.26e-01, acc(train)=8.55e-01, error(valid)=5.21e-01, acc(valid)=8.28e-01\n"
     ]
    },
    {
     "data": {
      "text/plain": "  0%|          | 0/1000 [00:00<?, ?it/s]",
      "application/vnd.jupyter.widget-view+json": {
       "version_major": 2,
       "version_minor": 0,
       "model_id": "f70ac2e8672a426cababd714874e6e53"
      }
     },
     "metadata": {},
     "output_type": "display_data"
    },
    {
     "name": "stderr",
     "output_type": "stream",
     "text": [
      "Epoch 6: 0.9s to complete\n",
      "    error(train)=4.13e-01, acc(train)=8.55e-01, error(valid)=5.21e-01, acc(valid)=8.27e-01\n"
     ]
    },
    {
     "data": {
      "text/plain": "  0%|          | 0/1000 [00:00<?, ?it/s]",
      "application/vnd.jupyter.widget-view+json": {
       "version_major": 2,
       "version_minor": 0,
       "model_id": "04ba96114b44417ca0ab6f2d629eaf4d"
      }
     },
     "metadata": {},
     "output_type": "display_data"
    },
    {
     "name": "stderr",
     "output_type": "stream",
     "text": [
      "Epoch 7: 0.9s to complete\n",
      "    error(train)=3.92e-01, acc(train)=8.64e-01, error(valid)=5.22e-01, acc(valid)=8.32e-01\n"
     ]
    },
    {
     "data": {
      "text/plain": "  0%|          | 0/1000 [00:00<?, ?it/s]",
      "application/vnd.jupyter.widget-view+json": {
       "version_major": 2,
       "version_minor": 0,
       "model_id": "8981ad7752334f4e886e94944f3cccae"
      }
     },
     "metadata": {},
     "output_type": "display_data"
    },
    {
     "name": "stderr",
     "output_type": "stream",
     "text": [
      "Epoch 8: 1.0s to complete\n",
      "    error(train)=3.57e-01, acc(train)=8.73e-01, error(valid)=4.99e-01, acc(valid)=8.35e-01\n"
     ]
    },
    {
     "data": {
      "text/plain": "  0%|          | 0/1000 [00:00<?, ?it/s]",
      "application/vnd.jupyter.widget-view+json": {
       "version_major": 2,
       "version_minor": 0,
       "model_id": "a43446327da840328e76992aa3e26230"
      }
     },
     "metadata": {},
     "output_type": "display_data"
    },
    {
     "name": "stderr",
     "output_type": "stream",
     "text": [
      "Epoch 9: 1.1s to complete\n",
      "    error(train)=3.50e-01, acc(train)=8.75e-01, error(valid)=5.03e-01, acc(valid)=8.37e-01\n"
     ]
    },
    {
     "data": {
      "text/plain": "  0%|          | 0/1000 [00:00<?, ?it/s]",
      "application/vnd.jupyter.widget-view+json": {
       "version_major": 2,
       "version_minor": 0,
       "model_id": "ffda6ba68d5b4022a7f3caf3773a5bff"
      }
     },
     "metadata": {},
     "output_type": "display_data"
    },
    {
     "name": "stderr",
     "output_type": "stream",
     "text": [
      "Epoch 10: 0.9s to complete\n",
      "    error(train)=3.27e-01, acc(train)=8.82e-01, error(valid)=5.00e-01, acc(valid)=8.39e-01\n"
     ]
    },
    {
     "data": {
      "text/plain": "  0%|          | 0/1000 [00:00<?, ?it/s]",
      "application/vnd.jupyter.widget-view+json": {
       "version_major": 2,
       "version_minor": 0,
       "model_id": "8cdfa6a9ba804a2e854955214abd92b6"
      }
     },
     "metadata": {},
     "output_type": "display_data"
    },
    {
     "name": "stderr",
     "output_type": "stream",
     "text": [
      "Epoch 11: 0.9s to complete\n",
      "    error(train)=3.27e-01, acc(train)=8.81e-01, error(valid)=5.10e-01, acc(valid)=8.37e-01\n"
     ]
    },
    {
     "data": {
      "text/plain": "  0%|          | 0/1000 [00:00<?, ?it/s]",
      "application/vnd.jupyter.widget-view+json": {
       "version_major": 2,
       "version_minor": 0,
       "model_id": "c5f4d4413ab14f288d43858e752541c4"
      }
     },
     "metadata": {},
     "output_type": "display_data"
    },
    {
     "name": "stderr",
     "output_type": "stream",
     "text": [
      "Epoch 12: 0.9s to complete\n",
      "    error(train)=3.13e-01, acc(train)=8.85e-01, error(valid)=5.09e-01, acc(valid)=8.36e-01\n"
     ]
    },
    {
     "data": {
      "text/plain": "  0%|          | 0/1000 [00:00<?, ?it/s]",
      "application/vnd.jupyter.widget-view+json": {
       "version_major": 2,
       "version_minor": 0,
       "model_id": "a9cf3ce995c74b55a833cff2f55274c8"
      }
     },
     "metadata": {},
     "output_type": "display_data"
    },
    {
     "name": "stderr",
     "output_type": "stream",
     "text": [
      "Epoch 13: 0.9s to complete\n",
      "    error(train)=3.03e-01, acc(train)=8.90e-01, error(valid)=5.14e-01, acc(valid)=8.37e-01\n"
     ]
    },
    {
     "data": {
      "text/plain": "  0%|          | 0/1000 [00:00<?, ?it/s]",
      "application/vnd.jupyter.widget-view+json": {
       "version_major": 2,
       "version_minor": 0,
       "model_id": "7edc23d60daa4c0caa2ae0ed1e1190ce"
      }
     },
     "metadata": {},
     "output_type": "display_data"
    },
    {
     "name": "stderr",
     "output_type": "stream",
     "text": [
      "Epoch 14: 0.9s to complete\n",
      "    error(train)=2.94e-01, acc(train)=8.93e-01, error(valid)=5.24e-01, acc(valid)=8.35e-01\n"
     ]
    },
    {
     "data": {
      "text/plain": "  0%|          | 0/1000 [00:00<?, ?it/s]",
      "application/vnd.jupyter.widget-view+json": {
       "version_major": 2,
       "version_minor": 0,
       "model_id": "7662fdec8122418bace3dd8536fe7992"
      }
     },
     "metadata": {},
     "output_type": "display_data"
    },
    {
     "name": "stderr",
     "output_type": "stream",
     "text": [
      "Epoch 15: 0.9s to complete\n",
      "    error(train)=2.84e-01, acc(train)=8.95e-01, error(valid)=5.26e-01, acc(valid)=8.38e-01\n"
     ]
    },
    {
     "data": {
      "text/plain": "  0%|          | 0/1000 [00:00<?, ?it/s]",
      "application/vnd.jupyter.widget-view+json": {
       "version_major": 2,
       "version_minor": 0,
       "model_id": "70ea7d4f79014e7eb22642ebe3588e70"
      }
     },
     "metadata": {},
     "output_type": "display_data"
    },
    {
     "name": "stderr",
     "output_type": "stream",
     "text": [
      "Epoch 16: 1.0s to complete\n",
      "    error(train)=2.69e-01, acc(train)=9.00e-01, error(valid)=5.29e-01, acc(valid)=8.36e-01\n"
     ]
    },
    {
     "data": {
      "text/plain": "  0%|          | 0/1000 [00:00<?, ?it/s]",
      "application/vnd.jupyter.widget-view+json": {
       "version_major": 2,
       "version_minor": 0,
       "model_id": "b8eb1059fff545f281c5cecc4ac05c49"
      }
     },
     "metadata": {},
     "output_type": "display_data"
    },
    {
     "name": "stderr",
     "output_type": "stream",
     "text": [
      "Epoch 17: 1.0s to complete\n",
      "    error(train)=2.69e-01, acc(train)=8.99e-01, error(valid)=5.48e-01, acc(valid)=8.33e-01\n"
     ]
    },
    {
     "data": {
      "text/plain": "  0%|          | 0/1000 [00:00<?, ?it/s]",
      "application/vnd.jupyter.widget-view+json": {
       "version_major": 2,
       "version_minor": 0,
       "model_id": "340e032952324ea6a34641ab063ad98a"
      }
     },
     "metadata": {},
     "output_type": "display_data"
    },
    {
     "name": "stderr",
     "output_type": "stream",
     "text": [
      "Epoch 18: 0.9s to complete\n",
      "    error(train)=2.57e-01, acc(train)=9.01e-01, error(valid)=5.40e-01, acc(valid)=8.35e-01\n"
     ]
    },
    {
     "data": {
      "text/plain": "  0%|          | 0/1000 [00:00<?, ?it/s]",
      "application/vnd.jupyter.widget-view+json": {
       "version_major": 2,
       "version_minor": 0,
       "model_id": "c59c4dedde004e058748026c35e93b0d"
      }
     },
     "metadata": {},
     "output_type": "display_data"
    },
    {
     "name": "stderr",
     "output_type": "stream",
     "text": [
      "Epoch 19: 0.9s to complete\n",
      "    error(train)=2.41e-01, acc(train)=9.08e-01, error(valid)=5.42e-01, acc(valid)=8.38e-01\n"
     ]
    },
    {
     "data": {
      "text/plain": "  0%|          | 0/1000 [00:00<?, ?it/s]",
      "application/vnd.jupyter.widget-view+json": {
       "version_major": 2,
       "version_minor": 0,
       "model_id": "847aac52f3d8453ba187c9f600ab8690"
      }
     },
     "metadata": {},
     "output_type": "display_data"
    },
    {
     "name": "stderr",
     "output_type": "stream",
     "text": [
      "Epoch 20: 0.9s to complete\n",
      "    error(train)=2.38e-01, acc(train)=9.10e-01, error(valid)=5.59e-01, acc(valid)=8.39e-01\n"
     ]
    },
    {
     "data": {
      "text/plain": "  0%|          | 0/1000 [00:00<?, ?it/s]",
      "application/vnd.jupyter.widget-view+json": {
       "version_major": 2,
       "version_minor": 0,
       "model_id": "68f8562e0ac947c7bbd737dbbc128458"
      }
     },
     "metadata": {},
     "output_type": "display_data"
    },
    {
     "name": "stderr",
     "output_type": "stream",
     "text": [
      "Epoch 21: 0.9s to complete\n",
      "    error(train)=2.32e-01, acc(train)=9.10e-01, error(valid)=5.63e-01, acc(valid)=8.35e-01\n"
     ]
    },
    {
     "data": {
      "text/plain": "  0%|          | 0/1000 [00:00<?, ?it/s]",
      "application/vnd.jupyter.widget-view+json": {
       "version_major": 2,
       "version_minor": 0,
       "model_id": "b22d4a10fbbc408f9bcb14766933295c"
      }
     },
     "metadata": {},
     "output_type": "display_data"
    },
    {
     "name": "stderr",
     "output_type": "stream",
     "text": [
      "Epoch 22: 0.9s to complete\n",
      "    error(train)=2.24e-01, acc(train)=9.14e-01, error(valid)=5.77e-01, acc(valid)=8.37e-01\n"
     ]
    },
    {
     "data": {
      "text/plain": "  0%|          | 0/1000 [00:00<?, ?it/s]",
      "application/vnd.jupyter.widget-view+json": {
       "version_major": 2,
       "version_minor": 0,
       "model_id": "d51c2fdef4f84d6caccf4717368ed941"
      }
     },
     "metadata": {},
     "output_type": "display_data"
    },
    {
     "name": "stderr",
     "output_type": "stream",
     "text": [
      "Epoch 23: 1.0s to complete\n",
      "    error(train)=2.25e-01, acc(train)=9.13e-01, error(valid)=5.90e-01, acc(valid)=8.36e-01\n"
     ]
    },
    {
     "data": {
      "text/plain": "  0%|          | 0/1000 [00:00<?, ?it/s]",
      "application/vnd.jupyter.widget-view+json": {
       "version_major": 2,
       "version_minor": 0,
       "model_id": "47ea2307b8974fc9bb794faaa09dac5e"
      }
     },
     "metadata": {},
     "output_type": "display_data"
    },
    {
     "name": "stderr",
     "output_type": "stream",
     "text": [
      "Epoch 24: 0.9s to complete\n",
      "    error(train)=2.17e-01, acc(train)=9.15e-01, error(valid)=5.92e-01, acc(valid)=8.38e-01\n"
     ]
    },
    {
     "data": {
      "text/plain": "  0%|          | 0/1000 [00:00<?, ?it/s]",
      "application/vnd.jupyter.widget-view+json": {
       "version_major": 2,
       "version_minor": 0,
       "model_id": "09a0b495d95c4ef0aff34cfc0289cfb5"
      }
     },
     "metadata": {},
     "output_type": "display_data"
    },
    {
     "name": "stderr",
     "output_type": "stream",
     "text": [
      "Epoch 25: 1.0s to complete\n",
      "    error(train)=2.15e-01, acc(train)=9.17e-01, error(valid)=6.09e-01, acc(valid)=8.32e-01\n"
     ]
    },
    {
     "data": {
      "text/plain": "  0%|          | 0/1000 [00:00<?, ?it/s]",
      "application/vnd.jupyter.widget-view+json": {
       "version_major": 2,
       "version_minor": 0,
       "model_id": "b48958e2d856413fa114c74bba30cb5b"
      }
     },
     "metadata": {},
     "output_type": "display_data"
    },
    {
     "name": "stderr",
     "output_type": "stream",
     "text": [
      "Epoch 26: 0.9s to complete\n",
      "    error(train)=2.12e-01, acc(train)=9.17e-01, error(valid)=6.11e-01, acc(valid)=8.31e-01\n"
     ]
    },
    {
     "data": {
      "text/plain": "  0%|          | 0/1000 [00:00<?, ?it/s]",
      "application/vnd.jupyter.widget-view+json": {
       "version_major": 2,
       "version_minor": 0,
       "model_id": "8b72b4b7f90b481998e1b2ceb499ea94"
      }
     },
     "metadata": {},
     "output_type": "display_data"
    },
    {
     "name": "stderr",
     "output_type": "stream",
     "text": [
      "Epoch 27: 0.9s to complete\n",
      "    error(train)=2.04e-01, acc(train)=9.20e-01, error(valid)=6.30e-01, acc(valid)=8.33e-01\n"
     ]
    },
    {
     "data": {
      "text/plain": "  0%|          | 0/1000 [00:00<?, ?it/s]",
      "application/vnd.jupyter.widget-view+json": {
       "version_major": 2,
       "version_minor": 0,
       "model_id": "8fef42774bed4639911738d3e0561d9a"
      }
     },
     "metadata": {},
     "output_type": "display_data"
    },
    {
     "name": "stderr",
     "output_type": "stream",
     "text": [
      "Epoch 28: 1.0s to complete\n",
      "    error(train)=1.98e-01, acc(train)=9.22e-01, error(valid)=6.35e-01, acc(valid)=8.36e-01\n"
     ]
    },
    {
     "data": {
      "text/plain": "  0%|          | 0/1000 [00:00<?, ?it/s]",
      "application/vnd.jupyter.widget-view+json": {
       "version_major": 2,
       "version_minor": 0,
       "model_id": "33248fcd0ccc4ad39ce77dd5b47cc740"
      }
     },
     "metadata": {},
     "output_type": "display_data"
    },
    {
     "name": "stderr",
     "output_type": "stream",
     "text": [
      "Epoch 29: 1.1s to complete\n",
      "    error(train)=1.99e-01, acc(train)=9.21e-01, error(valid)=6.53e-01, acc(valid)=8.33e-01\n"
     ]
    },
    {
     "data": {
      "text/plain": "  0%|          | 0/1000 [00:00<?, ?it/s]",
      "application/vnd.jupyter.widget-view+json": {
       "version_major": 2,
       "version_minor": 0,
       "model_id": "f38161e351b1437b85ccf5d00cbebb54"
      }
     },
     "metadata": {},
     "output_type": "display_data"
    },
    {
     "name": "stderr",
     "output_type": "stream",
     "text": [
      "Epoch 30: 0.9s to complete\n",
      "    error(train)=1.88e-01, acc(train)=9.26e-01, error(valid)=6.54e-01, acc(valid)=8.31e-01\n"
     ]
    },
    {
     "data": {
      "text/plain": "  0%|          | 0/1000 [00:00<?, ?it/s]",
      "application/vnd.jupyter.widget-view+json": {
       "version_major": 2,
       "version_minor": 0,
       "model_id": "2e848506fff44e42b9e19d91b0dd2505"
      }
     },
     "metadata": {},
     "output_type": "display_data"
    },
    {
     "name": "stderr",
     "output_type": "stream",
     "text": [
      "Epoch 31: 0.9s to complete\n",
      "    error(train)=1.92e-01, acc(train)=9.21e-01, error(valid)=6.68e-01, acc(valid)=8.32e-01\n"
     ]
    },
    {
     "data": {
      "text/plain": "  0%|          | 0/1000 [00:00<?, ?it/s]",
      "application/vnd.jupyter.widget-view+json": {
       "version_major": 2,
       "version_minor": 0,
       "model_id": "bf37cd7297a44d729f63bad2a6a9b7f8"
      }
     },
     "metadata": {},
     "output_type": "display_data"
    },
    {
     "name": "stderr",
     "output_type": "stream",
     "text": [
      "Epoch 32: 1.0s to complete\n",
      "    error(train)=1.91e-01, acc(train)=9.24e-01, error(valid)=6.84e-01, acc(valid)=8.29e-01\n"
     ]
    },
    {
     "data": {
      "text/plain": "  0%|          | 0/1000 [00:00<?, ?it/s]",
      "application/vnd.jupyter.widget-view+json": {
       "version_major": 2,
       "version_minor": 0,
       "model_id": "c4c2e14c0f8147c79b54c4bbeb82f721"
      }
     },
     "metadata": {},
     "output_type": "display_data"
    },
    {
     "name": "stderr",
     "output_type": "stream",
     "text": [
      "Epoch 33: 1.0s to complete\n",
      "    error(train)=1.80e-01, acc(train)=9.27e-01, error(valid)=7.04e-01, acc(valid)=8.26e-01\n"
     ]
    },
    {
     "data": {
      "text/plain": "  0%|          | 0/1000 [00:00<?, ?it/s]",
      "application/vnd.jupyter.widget-view+json": {
       "version_major": 2,
       "version_minor": 0,
       "model_id": "28b2971da3044a36997fa6d8d54709bd"
      }
     },
     "metadata": {},
     "output_type": "display_data"
    },
    {
     "name": "stderr",
     "output_type": "stream",
     "text": [
      "Epoch 34: 1.0s to complete\n",
      "    error(train)=1.71e-01, acc(train)=9.31e-01, error(valid)=6.97e-01, acc(valid)=8.31e-01\n"
     ]
    },
    {
     "data": {
      "text/plain": "  0%|          | 0/1000 [00:00<?, ?it/s]",
      "application/vnd.jupyter.widget-view+json": {
       "version_major": 2,
       "version_minor": 0,
       "model_id": "88c849134a0b429787fd71d72f892c2b"
      }
     },
     "metadata": {},
     "output_type": "display_data"
    },
    {
     "name": "stderr",
     "output_type": "stream",
     "text": [
      "Epoch 35: 0.9s to complete\n",
      "    error(train)=1.76e-01, acc(train)=9.30e-01, error(valid)=7.25e-01, acc(valid)=8.31e-01\n"
     ]
    },
    {
     "data": {
      "text/plain": "  0%|          | 0/1000 [00:00<?, ?it/s]",
      "application/vnd.jupyter.widget-view+json": {
       "version_major": 2,
       "version_minor": 0,
       "model_id": "971f95fb17164681b267cfd5ccddf677"
      }
     },
     "metadata": {},
     "output_type": "display_data"
    },
    {
     "name": "stderr",
     "output_type": "stream",
     "text": [
      "Epoch 36: 1.0s to complete\n",
      "    error(train)=1.75e-01, acc(train)=9.29e-01, error(valid)=7.43e-01, acc(valid)=8.25e-01\n"
     ]
    },
    {
     "data": {
      "text/plain": "  0%|          | 0/1000 [00:00<?, ?it/s]",
      "application/vnd.jupyter.widget-view+json": {
       "version_major": 2,
       "version_minor": 0,
       "model_id": "2721adf2982e48f58417eb7b03700706"
      }
     },
     "metadata": {},
     "output_type": "display_data"
    },
    {
     "name": "stderr",
     "output_type": "stream",
     "text": [
      "Epoch 37: 0.9s to complete\n",
      "    error(train)=1.61e-01, acc(train)=9.35e-01, error(valid)=7.48e-01, acc(valid)=8.29e-01\n"
     ]
    },
    {
     "data": {
      "text/plain": "  0%|          | 0/1000 [00:00<?, ?it/s]",
      "application/vnd.jupyter.widget-view+json": {
       "version_major": 2,
       "version_minor": 0,
       "model_id": "041cd40b70504677b2edd344831ee7aa"
      }
     },
     "metadata": {},
     "output_type": "display_data"
    },
    {
     "name": "stderr",
     "output_type": "stream",
     "text": [
      "Epoch 38: 1.0s to complete\n",
      "    error(train)=1.76e-01, acc(train)=9.29e-01, error(valid)=7.71e-01, acc(valid)=8.25e-01\n"
     ]
    },
    {
     "data": {
      "text/plain": "  0%|          | 0/1000 [00:00<?, ?it/s]",
      "application/vnd.jupyter.widget-view+json": {
       "version_major": 2,
       "version_minor": 0,
       "model_id": "88aaf3c7631b43cdab88feb90f6f7352"
      }
     },
     "metadata": {},
     "output_type": "display_data"
    },
    {
     "name": "stderr",
     "output_type": "stream",
     "text": [
      "Epoch 39: 0.9s to complete\n",
      "    error(train)=1.79e-01, acc(train)=9.27e-01, error(valid)=7.89e-01, acc(valid)=8.24e-01\n"
     ]
    },
    {
     "data": {
      "text/plain": "  0%|          | 0/1000 [00:00<?, ?it/s]",
      "application/vnd.jupyter.widget-view+json": {
       "version_major": 2,
       "version_minor": 0,
       "model_id": "98d67f643f7d44f6945e9c2c08e4d6b9"
      }
     },
     "metadata": {},
     "output_type": "display_data"
    },
    {
     "name": "stderr",
     "output_type": "stream",
     "text": [
      "Epoch 40: 1.0s to complete\n",
      "    error(train)=1.56e-01, acc(train)=9.36e-01, error(valid)=7.72e-01, acc(valid)=8.26e-01\n"
     ]
    },
    {
     "data": {
      "text/plain": "  0%|          | 0/1000 [00:00<?, ?it/s]",
      "application/vnd.jupyter.widget-view+json": {
       "version_major": 2,
       "version_minor": 0,
       "model_id": "eccf0f2340a64819838a1ce5014ce20b"
      }
     },
     "metadata": {},
     "output_type": "display_data"
    },
    {
     "name": "stderr",
     "output_type": "stream",
     "text": [
      "Epoch 41: 0.9s to complete\n",
      "    error(train)=1.53e-01, acc(train)=9.37e-01, error(valid)=7.86e-01, acc(valid)=8.29e-01\n"
     ]
    },
    {
     "data": {
      "text/plain": "  0%|          | 0/1000 [00:00<?, ?it/s]",
      "application/vnd.jupyter.widget-view+json": {
       "version_major": 2,
       "version_minor": 0,
       "model_id": "fef1ccaeafd44f3f8ccd8fc27d590e16"
      }
     },
     "metadata": {},
     "output_type": "display_data"
    },
    {
     "name": "stderr",
     "output_type": "stream",
     "text": [
      "Epoch 42: 1.1s to complete\n",
      "    error(train)=1.55e-01, acc(train)=9.35e-01, error(valid)=8.08e-01, acc(valid)=8.26e-01\n"
     ]
    },
    {
     "data": {
      "text/plain": "  0%|          | 0/1000 [00:00<?, ?it/s]",
      "application/vnd.jupyter.widget-view+json": {
       "version_major": 2,
       "version_minor": 0,
       "model_id": "cb3180a1b43247d1bc802c30d900de49"
      }
     },
     "metadata": {},
     "output_type": "display_data"
    },
    {
     "name": "stderr",
     "output_type": "stream",
     "text": [
      "Epoch 43: 0.9s to complete\n",
      "    error(train)=1.58e-01, acc(train)=9.35e-01, error(valid)=8.21e-01, acc(valid)=8.24e-01\n"
     ]
    },
    {
     "data": {
      "text/plain": "  0%|          | 0/1000 [00:00<?, ?it/s]",
      "application/vnd.jupyter.widget-view+json": {
       "version_major": 2,
       "version_minor": 0,
       "model_id": "0a52d2c6a1f94e3fa21216225947627c"
      }
     },
     "metadata": {},
     "output_type": "display_data"
    },
    {
     "name": "stderr",
     "output_type": "stream",
     "text": [
      "Epoch 44: 0.9s to complete\n",
      "    error(train)=1.52e-01, acc(train)=9.38e-01, error(valid)=8.18e-01, acc(valid)=8.22e-01\n"
     ]
    },
    {
     "data": {
      "text/plain": "  0%|          | 0/1000 [00:00<?, ?it/s]",
      "application/vnd.jupyter.widget-view+json": {
       "version_major": 2,
       "version_minor": 0,
       "model_id": "7fe31c0f681046bebf2c6691aa46bd4d"
      }
     },
     "metadata": {},
     "output_type": "display_data"
    },
    {
     "name": "stderr",
     "output_type": "stream",
     "text": [
      "Epoch 45: 0.9s to complete\n",
      "    error(train)=1.55e-01, acc(train)=9.36e-01, error(valid)=8.70e-01, acc(valid)=8.25e-01\n"
     ]
    },
    {
     "data": {
      "text/plain": "  0%|          | 0/1000 [00:00<?, ?it/s]",
      "application/vnd.jupyter.widget-view+json": {
       "version_major": 2,
       "version_minor": 0,
       "model_id": "2864aff8fc7e4169b5a122fe4f4b0869"
      }
     },
     "metadata": {},
     "output_type": "display_data"
    },
    {
     "name": "stderr",
     "output_type": "stream",
     "text": [
      "Epoch 46: 1.1s to complete\n",
      "    error(train)=1.60e-01, acc(train)=9.34e-01, error(valid)=8.88e-01, acc(valid)=8.20e-01\n"
     ]
    },
    {
     "data": {
      "text/plain": "  0%|          | 0/1000 [00:00<?, ?it/s]",
      "application/vnd.jupyter.widget-view+json": {
       "version_major": 2,
       "version_minor": 0,
       "model_id": "920a237c77a94434b71820c383d51a3f"
      }
     },
     "metadata": {},
     "output_type": "display_data"
    },
    {
     "name": "stderr",
     "output_type": "stream",
     "text": [
      "Epoch 47: 0.9s to complete\n",
      "    error(train)=1.55e-01, acc(train)=9.36e-01, error(valid)=9.05e-01, acc(valid)=8.21e-01\n"
     ]
    },
    {
     "data": {
      "text/plain": "  0%|          | 0/1000 [00:00<?, ?it/s]",
      "application/vnd.jupyter.widget-view+json": {
       "version_major": 2,
       "version_minor": 0,
       "model_id": "9fbc9713fc1a4a99b55ff5f6c6c54882"
      }
     },
     "metadata": {},
     "output_type": "display_data"
    },
    {
     "name": "stderr",
     "output_type": "stream",
     "text": [
      "Epoch 48: 0.9s to complete\n",
      "    error(train)=1.47e-01, acc(train)=9.40e-01, error(valid)=8.88e-01, acc(valid)=8.24e-01\n"
     ]
    },
    {
     "data": {
      "text/plain": "  0%|          | 0/1000 [00:00<?, ?it/s]",
      "application/vnd.jupyter.widget-view+json": {
       "version_major": 2,
       "version_minor": 0,
       "model_id": "fc16ddd0794c46949de92da2ab9613c3"
      }
     },
     "metadata": {},
     "output_type": "display_data"
    },
    {
     "name": "stderr",
     "output_type": "stream",
     "text": [
      "Epoch 49: 0.9s to complete\n",
      "    error(train)=1.53e-01, acc(train)=9.37e-01, error(valid)=9.22e-01, acc(valid)=8.20e-01\n"
     ]
    },
    {
     "data": {
      "text/plain": "  0%|          | 0/1000 [00:00<?, ?it/s]",
      "application/vnd.jupyter.widget-view+json": {
       "version_major": 2,
       "version_minor": 0,
       "model_id": "8c082ecfbb9142a88d33ce788bea3249"
      }
     },
     "metadata": {},
     "output_type": "display_data"
    },
    {
     "name": "stderr",
     "output_type": "stream",
     "text": [
      "Epoch 50: 0.9s to complete\n",
      "    error(train)=1.40e-01, acc(train)=9.42e-01, error(valid)=9.04e-01, acc(valid)=8.22e-01\n"
     ]
    },
    {
     "data": {
      "text/plain": "  0%|          | 0/1000 [00:00<?, ?it/s]",
      "application/vnd.jupyter.widget-view+json": {
       "version_major": 2,
       "version_minor": 0,
       "model_id": "291d90aa8a76444aa1388848d29b91a4"
      }
     },
     "metadata": {},
     "output_type": "display_data"
    },
    {
     "name": "stderr",
     "output_type": "stream",
     "text": [
      "Epoch 51: 0.9s to complete\n",
      "    error(train)=1.36e-01, acc(train)=9.43e-01, error(valid)=9.37e-01, acc(valid)=8.25e-01\n"
     ]
    },
    {
     "data": {
      "text/plain": "  0%|          | 0/1000 [00:00<?, ?it/s]",
      "application/vnd.jupyter.widget-view+json": {
       "version_major": 2,
       "version_minor": 0,
       "model_id": "4639fdcc811a42dab171880b6c6ec170"
      }
     },
     "metadata": {},
     "output_type": "display_data"
    },
    {
     "name": "stderr",
     "output_type": "stream",
     "text": [
      "Epoch 52: 1.0s to complete\n",
      "    error(train)=1.42e-01, acc(train)=9.42e-01, error(valid)=9.60e-01, acc(valid)=8.26e-01\n"
     ]
    },
    {
     "data": {
      "text/plain": "  0%|          | 0/1000 [00:00<?, ?it/s]",
      "application/vnd.jupyter.widget-view+json": {
       "version_major": 2,
       "version_minor": 0,
       "model_id": "b472ab425a4c4f31a8a6f29fc61a13f0"
      }
     },
     "metadata": {},
     "output_type": "display_data"
    },
    {
     "name": "stderr",
     "output_type": "stream",
     "text": [
      "Epoch 53: 0.9s to complete\n",
      "    error(train)=1.36e-01, acc(train)=9.44e-01, error(valid)=9.51e-01, acc(valid)=8.25e-01\n"
     ]
    },
    {
     "data": {
      "text/plain": "  0%|          | 0/1000 [00:00<?, ?it/s]",
      "application/vnd.jupyter.widget-view+json": {
       "version_major": 2,
       "version_minor": 0,
       "model_id": "412e67e3c9b5461eaca22545349b30e7"
      }
     },
     "metadata": {},
     "output_type": "display_data"
    },
    {
     "name": "stderr",
     "output_type": "stream",
     "text": [
      "Epoch 54: 0.9s to complete\n",
      "    error(train)=1.38e-01, acc(train)=9.43e-01, error(valid)=9.72e-01, acc(valid)=8.23e-01\n"
     ]
    },
    {
     "data": {
      "text/plain": "  0%|          | 0/1000 [00:00<?, ?it/s]",
      "application/vnd.jupyter.widget-view+json": {
       "version_major": 2,
       "version_minor": 0,
       "model_id": "fc331ef5ad8740ea821fc69e61285f98"
      }
     },
     "metadata": {},
     "output_type": "display_data"
    },
    {
     "name": "stderr",
     "output_type": "stream",
     "text": [
      "Epoch 55: 0.9s to complete\n",
      "    error(train)=1.40e-01, acc(train)=9.43e-01, error(valid)=9.90e-01, acc(valid)=8.19e-01\n"
     ]
    },
    {
     "data": {
      "text/plain": "  0%|          | 0/1000 [00:00<?, ?it/s]",
      "application/vnd.jupyter.widget-view+json": {
       "version_major": 2,
       "version_minor": 0,
       "model_id": "005fc63acd5348ad85f319e431280a41"
      }
     },
     "metadata": {},
     "output_type": "display_data"
    },
    {
     "name": "stderr",
     "output_type": "stream",
     "text": [
      "Epoch 56: 0.9s to complete\n",
      "    error(train)=1.31e-01, acc(train)=9.47e-01, error(valid)=9.91e-01, acc(valid)=8.21e-01\n"
     ]
    },
    {
     "data": {
      "text/plain": "  0%|          | 0/1000 [00:00<?, ?it/s]",
      "application/vnd.jupyter.widget-view+json": {
       "version_major": 2,
       "version_minor": 0,
       "model_id": "41155b769fcd4f0785a466ae6cc25a2b"
      }
     },
     "metadata": {},
     "output_type": "display_data"
    },
    {
     "name": "stderr",
     "output_type": "stream",
     "text": [
      "Epoch 57: 0.9s to complete\n",
      "    error(train)=1.26e-01, acc(train)=9.48e-01, error(valid)=1.02e+00, acc(valid)=8.23e-01\n"
     ]
    },
    {
     "data": {
      "text/plain": "  0%|          | 0/1000 [00:00<?, ?it/s]",
      "application/vnd.jupyter.widget-view+json": {
       "version_major": 2,
       "version_minor": 0,
       "model_id": "0c9338f58cb44324b9e0f08d555cd848"
      }
     },
     "metadata": {},
     "output_type": "display_data"
    },
    {
     "name": "stderr",
     "output_type": "stream",
     "text": [
      "Epoch 58: 1.0s to complete\n",
      "    error(train)=1.33e-01, acc(train)=9.45e-01, error(valid)=1.04e+00, acc(valid)=8.20e-01\n"
     ]
    },
    {
     "data": {
      "text/plain": "  0%|          | 0/1000 [00:00<?, ?it/s]",
      "application/vnd.jupyter.widget-view+json": {
       "version_major": 2,
       "version_minor": 0,
       "model_id": "8e6a4546388d421ab5998750d79c8a99"
      }
     },
     "metadata": {},
     "output_type": "display_data"
    },
    {
     "name": "stderr",
     "output_type": "stream",
     "text": [
      "Epoch 59: 0.9s to complete\n",
      "    error(train)=1.30e-01, acc(train)=9.46e-01, error(valid)=1.05e+00, acc(valid)=8.25e-01\n"
     ]
    },
    {
     "data": {
      "text/plain": "  0%|          | 0/1000 [00:00<?, ?it/s]",
      "application/vnd.jupyter.widget-view+json": {
       "version_major": 2,
       "version_minor": 0,
       "model_id": "142c2c7c222d41d28d59ee844a3224ce"
      }
     },
     "metadata": {},
     "output_type": "display_data"
    },
    {
     "name": "stderr",
     "output_type": "stream",
     "text": [
      "Epoch 60: 0.9s to complete\n",
      "    error(train)=1.33e-01, acc(train)=9.45e-01, error(valid)=1.06e+00, acc(valid)=8.21e-01\n"
     ]
    },
    {
     "data": {
      "text/plain": "  0%|          | 0/1000 [00:00<?, ?it/s]",
      "application/vnd.jupyter.widget-view+json": {
       "version_major": 2,
       "version_minor": 0,
       "model_id": "11a0691df14c4a7584a7827763aa094c"
      }
     },
     "metadata": {},
     "output_type": "display_data"
    },
    {
     "name": "stderr",
     "output_type": "stream",
     "text": [
      "Epoch 61: 1.0s to complete\n",
      "    error(train)=1.20e-01, acc(train)=9.49e-01, error(valid)=1.08e+00, acc(valid)=8.22e-01\n"
     ]
    },
    {
     "data": {
      "text/plain": "  0%|          | 0/1000 [00:00<?, ?it/s]",
      "application/vnd.jupyter.widget-view+json": {
       "version_major": 2,
       "version_minor": 0,
       "model_id": "978ac16718e34d898624b55c988064c4"
      }
     },
     "metadata": {},
     "output_type": "display_data"
    },
    {
     "name": "stderr",
     "output_type": "stream",
     "text": [
      "Epoch 62: 0.9s to complete\n",
      "    error(train)=1.26e-01, acc(train)=9.48e-01, error(valid)=1.10e+00, acc(valid)=8.20e-01\n"
     ]
    },
    {
     "data": {
      "text/plain": "  0%|          | 0/1000 [00:00<?, ?it/s]",
      "application/vnd.jupyter.widget-view+json": {
       "version_major": 2,
       "version_minor": 0,
       "model_id": "543caabe790243c89616ed439a1e81cd"
      }
     },
     "metadata": {},
     "output_type": "display_data"
    },
    {
     "name": "stderr",
     "output_type": "stream",
     "text": [
      "Epoch 63: 1.0s to complete\n",
      "    error(train)=1.30e-01, acc(train)=9.45e-01, error(valid)=1.10e+00, acc(valid)=8.17e-01\n"
     ]
    },
    {
     "data": {
      "text/plain": "  0%|          | 0/1000 [00:00<?, ?it/s]",
      "application/vnd.jupyter.widget-view+json": {
       "version_major": 2,
       "version_minor": 0,
       "model_id": "41fcbd63a4d84d23b8cef8ab175a3588"
      }
     },
     "metadata": {},
     "output_type": "display_data"
    },
    {
     "name": "stderr",
     "output_type": "stream",
     "text": [
      "Epoch 64: 1.3s to complete\n",
      "    error(train)=1.34e-01, acc(train)=9.45e-01, error(valid)=1.13e+00, acc(valid)=8.18e-01\n"
     ]
    },
    {
     "data": {
      "text/plain": "  0%|          | 0/1000 [00:00<?, ?it/s]",
      "application/vnd.jupyter.widget-view+json": {
       "version_major": 2,
       "version_minor": 0,
       "model_id": "23009ff431ee4dccb479e31db0554f56"
      }
     },
     "metadata": {},
     "output_type": "display_data"
    },
    {
     "name": "stderr",
     "output_type": "stream",
     "text": [
      "Epoch 65: 1.0s to complete\n",
      "    error(train)=1.25e-01, acc(train)=9.48e-01, error(valid)=1.13e+00, acc(valid)=8.18e-01\n"
     ]
    },
    {
     "data": {
      "text/plain": "  0%|          | 0/1000 [00:00<?, ?it/s]",
      "application/vnd.jupyter.widget-view+json": {
       "version_major": 2,
       "version_minor": 0,
       "model_id": "683160c0b1454e9bb1902844d225d06a"
      }
     },
     "metadata": {},
     "output_type": "display_data"
    },
    {
     "name": "stderr",
     "output_type": "stream",
     "text": [
      "Epoch 66: 1.0s to complete\n",
      "    error(train)=1.26e-01, acc(train)=9.48e-01, error(valid)=1.14e+00, acc(valid)=8.17e-01\n"
     ]
    },
    {
     "data": {
      "text/plain": "  0%|          | 0/1000 [00:00<?, ?it/s]",
      "application/vnd.jupyter.widget-view+json": {
       "version_major": 2,
       "version_minor": 0,
       "model_id": "4f0ee0474eae4437b357c8ed1e400311"
      }
     },
     "metadata": {},
     "output_type": "display_data"
    },
    {
     "name": "stderr",
     "output_type": "stream",
     "text": [
      "Epoch 67: 0.9s to complete\n",
      "    error(train)=1.37e-01, acc(train)=9.44e-01, error(valid)=1.15e+00, acc(valid)=8.15e-01\n"
     ]
    },
    {
     "data": {
      "text/plain": "  0%|          | 0/1000 [00:00<?, ?it/s]",
      "application/vnd.jupyter.widget-view+json": {
       "version_major": 2,
       "version_minor": 0,
       "model_id": "fc227705825947109a457a2e337c045d"
      }
     },
     "metadata": {},
     "output_type": "display_data"
    },
    {
     "name": "stderr",
     "output_type": "stream",
     "text": [
      "Epoch 68: 0.9s to complete\n",
      "    error(train)=1.15e-01, acc(train)=9.53e-01, error(valid)=1.16e+00, acc(valid)=8.21e-01\n"
     ]
    },
    {
     "data": {
      "text/plain": "  0%|          | 0/1000 [00:00<?, ?it/s]",
      "application/vnd.jupyter.widget-view+json": {
       "version_major": 2,
       "version_minor": 0,
       "model_id": "44b0091fde0a428cae9685057d22ad6d"
      }
     },
     "metadata": {},
     "output_type": "display_data"
    },
    {
     "name": "stderr",
     "output_type": "stream",
     "text": [
      "Epoch 69: 1.0s to complete\n",
      "    error(train)=1.19e-01, acc(train)=9.50e-01, error(valid)=1.20e+00, acc(valid)=8.18e-01\n"
     ]
    },
    {
     "data": {
      "text/plain": "  0%|          | 0/1000 [00:00<?, ?it/s]",
      "application/vnd.jupyter.widget-view+json": {
       "version_major": 2,
       "version_minor": 0,
       "model_id": "7aa77a4394f94c18940a711404605508"
      }
     },
     "metadata": {},
     "output_type": "display_data"
    },
    {
     "name": "stderr",
     "output_type": "stream",
     "text": [
      "Epoch 70: 1.0s to complete\n",
      "    error(train)=1.33e-01, acc(train)=9.47e-01, error(valid)=1.21e+00, acc(valid)=8.16e-01\n"
     ]
    },
    {
     "data": {
      "text/plain": "  0%|          | 0/1000 [00:00<?, ?it/s]",
      "application/vnd.jupyter.widget-view+json": {
       "version_major": 2,
       "version_minor": 0,
       "model_id": "64261874ad194c9bbce8ea5c7ff77122"
      }
     },
     "metadata": {},
     "output_type": "display_data"
    },
    {
     "name": "stderr",
     "output_type": "stream",
     "text": [
      "Epoch 71: 0.9s to complete\n",
      "    error(train)=1.19e-01, acc(train)=9.51e-01, error(valid)=1.20e+00, acc(valid)=8.22e-01\n"
     ]
    },
    {
     "data": {
      "text/plain": "  0%|          | 0/1000 [00:00<?, ?it/s]",
      "application/vnd.jupyter.widget-view+json": {
       "version_major": 2,
       "version_minor": 0,
       "model_id": "4cb8dcd26f1d44489a745a771225101d"
      }
     },
     "metadata": {},
     "output_type": "display_data"
    },
    {
     "name": "stderr",
     "output_type": "stream",
     "text": [
      "Epoch 72: 1.1s to complete\n",
      "    error(train)=1.19e-01, acc(train)=9.51e-01, error(valid)=1.21e+00, acc(valid)=8.15e-01\n"
     ]
    },
    {
     "data": {
      "text/plain": "  0%|          | 0/1000 [00:00<?, ?it/s]",
      "application/vnd.jupyter.widget-view+json": {
       "version_major": 2,
       "version_minor": 0,
       "model_id": "56366c8ed02543bfb8a7be4cf8d14fe6"
      }
     },
     "metadata": {},
     "output_type": "display_data"
    },
    {
     "name": "stderr",
     "output_type": "stream",
     "text": [
      "Epoch 73: 0.9s to complete\n",
      "    error(train)=1.24e-01, acc(train)=9.48e-01, error(valid)=1.29e+00, acc(valid)=8.15e-01\n"
     ]
    },
    {
     "data": {
      "text/plain": "  0%|          | 0/1000 [00:00<?, ?it/s]",
      "application/vnd.jupyter.widget-view+json": {
       "version_major": 2,
       "version_minor": 0,
       "model_id": "49126e7ca5c7434ca50cb1ce5fd53040"
      }
     },
     "metadata": {},
     "output_type": "display_data"
    },
    {
     "name": "stderr",
     "output_type": "stream",
     "text": [
      "Epoch 74: 1.0s to complete\n",
      "    error(train)=1.24e-01, acc(train)=9.49e-01, error(valid)=1.27e+00, acc(valid)=8.18e-01\n"
     ]
    },
    {
     "data": {
      "text/plain": "  0%|          | 0/1000 [00:00<?, ?it/s]",
      "application/vnd.jupyter.widget-view+json": {
       "version_major": 2,
       "version_minor": 0,
       "model_id": "180e555306934e749ffabee487fb4e1d"
      }
     },
     "metadata": {},
     "output_type": "display_data"
    },
    {
     "name": "stderr",
     "output_type": "stream",
     "text": [
      "Epoch 75: 0.9s to complete\n",
      "    error(train)=1.20e-01, acc(train)=9.51e-01, error(valid)=1.26e+00, acc(valid)=8.16e-01\n"
     ]
    },
    {
     "data": {
      "text/plain": "  0%|          | 0/1000 [00:00<?, ?it/s]",
      "application/vnd.jupyter.widget-view+json": {
       "version_major": 2,
       "version_minor": 0,
       "model_id": "6891a94f7e3e442aa5a64e28cd625833"
      }
     },
     "metadata": {},
     "output_type": "display_data"
    },
    {
     "name": "stderr",
     "output_type": "stream",
     "text": [
      "Epoch 76: 0.9s to complete\n",
      "    error(train)=1.19e-01, acc(train)=9.51e-01, error(valid)=1.27e+00, acc(valid)=8.21e-01\n"
     ]
    },
    {
     "data": {
      "text/plain": "  0%|          | 0/1000 [00:00<?, ?it/s]",
      "application/vnd.jupyter.widget-view+json": {
       "version_major": 2,
       "version_minor": 0,
       "model_id": "6a33e6d4498b40aebae80f6f08c7aeb2"
      }
     },
     "metadata": {},
     "output_type": "display_data"
    },
    {
     "name": "stderr",
     "output_type": "stream",
     "text": [
      "Epoch 77: 0.9s to complete\n",
      "    error(train)=1.14e-01, acc(train)=9.54e-01, error(valid)=1.29e+00, acc(valid)=8.19e-01\n"
     ]
    },
    {
     "data": {
      "text/plain": "  0%|          | 0/1000 [00:00<?, ?it/s]",
      "application/vnd.jupyter.widget-view+json": {
       "version_major": 2,
       "version_minor": 0,
       "model_id": "5cd8ac87cb8a4060ab190fe93c21e907"
      }
     },
     "metadata": {},
     "output_type": "display_data"
    },
    {
     "name": "stderr",
     "output_type": "stream",
     "text": [
      "Epoch 78: 0.9s to complete\n",
      "    error(train)=1.17e-01, acc(train)=9.52e-01, error(valid)=1.29e+00, acc(valid)=8.18e-01\n"
     ]
    },
    {
     "data": {
      "text/plain": "  0%|          | 0/1000 [00:00<?, ?it/s]",
      "application/vnd.jupyter.widget-view+json": {
       "version_major": 2,
       "version_minor": 0,
       "model_id": "6851a5e667d04a8780987de77bbee72e"
      }
     },
     "metadata": {},
     "output_type": "display_data"
    },
    {
     "name": "stderr",
     "output_type": "stream",
     "text": [
      "Epoch 79: 0.9s to complete\n",
      "    error(train)=1.08e-01, acc(train)=9.56e-01, error(valid)=1.31e+00, acc(valid)=8.19e-01\n"
     ]
    },
    {
     "data": {
      "text/plain": "  0%|          | 0/1000 [00:00<?, ?it/s]",
      "application/vnd.jupyter.widget-view+json": {
       "version_major": 2,
       "version_minor": 0,
       "model_id": "5bb10865d5244edabeda19a3e66badb5"
      }
     },
     "metadata": {},
     "output_type": "display_data"
    },
    {
     "name": "stderr",
     "output_type": "stream",
     "text": [
      "Epoch 80: 0.9s to complete\n",
      "    error(train)=1.17e-01, acc(train)=9.52e-01, error(valid)=1.35e+00, acc(valid)=8.16e-01\n"
     ]
    },
    {
     "data": {
      "text/plain": "  0%|          | 0/1000 [00:00<?, ?it/s]",
      "application/vnd.jupyter.widget-view+json": {
       "version_major": 2,
       "version_minor": 0,
       "model_id": "a29cabea5d76473289bdd64d15e10a97"
      }
     },
     "metadata": {},
     "output_type": "display_data"
    },
    {
     "name": "stderr",
     "output_type": "stream",
     "text": [
      "Epoch 81: 0.9s to complete\n",
      "    error(train)=1.12e-01, acc(train)=9.54e-01, error(valid)=1.35e+00, acc(valid)=8.18e-01\n"
     ]
    },
    {
     "data": {
      "text/plain": "  0%|          | 0/1000 [00:00<?, ?it/s]",
      "application/vnd.jupyter.widget-view+json": {
       "version_major": 2,
       "version_minor": 0,
       "model_id": "4c527038a1934496a020a18cdf299cde"
      }
     },
     "metadata": {},
     "output_type": "display_data"
    },
    {
     "name": "stderr",
     "output_type": "stream",
     "text": [
      "Epoch 82: 1.0s to complete\n",
      "    error(train)=1.20e-01, acc(train)=9.50e-01, error(valid)=1.35e+00, acc(valid)=8.14e-01\n"
     ]
    },
    {
     "data": {
      "text/plain": "  0%|          | 0/1000 [00:00<?, ?it/s]",
      "application/vnd.jupyter.widget-view+json": {
       "version_major": 2,
       "version_minor": 0,
       "model_id": "3a491b7597644ad0be1feb11a4e55742"
      }
     },
     "metadata": {},
     "output_type": "display_data"
    },
    {
     "name": "stderr",
     "output_type": "stream",
     "text": [
      "Epoch 83: 1.0s to complete\n",
      "    error(train)=1.20e-01, acc(train)=9.50e-01, error(valid)=1.36e+00, acc(valid)=8.11e-01\n"
     ]
    },
    {
     "data": {
      "text/plain": "  0%|          | 0/1000 [00:00<?, ?it/s]",
      "application/vnd.jupyter.widget-view+json": {
       "version_major": 2,
       "version_minor": 0,
       "model_id": "398a4101eb684b008e70cbc51c571e5b"
      }
     },
     "metadata": {},
     "output_type": "display_data"
    },
    {
     "name": "stderr",
     "output_type": "stream",
     "text": [
      "Epoch 84: 0.9s to complete\n",
      "    error(train)=1.07e-01, acc(train)=9.56e-01, error(valid)=1.39e+00, acc(valid)=8.21e-01\n"
     ]
    },
    {
     "data": {
      "text/plain": "  0%|          | 0/1000 [00:00<?, ?it/s]",
      "application/vnd.jupyter.widget-view+json": {
       "version_major": 2,
       "version_minor": 0,
       "model_id": "1bfac4ffbbf9476b9e6f5b37d1524112"
      }
     },
     "metadata": {},
     "output_type": "display_data"
    },
    {
     "name": "stderr",
     "output_type": "stream",
     "text": [
      "Epoch 85: 0.9s to complete\n",
      "    error(train)=1.14e-01, acc(train)=9.53e-01, error(valid)=1.41e+00, acc(valid)=8.15e-01\n"
     ]
    },
    {
     "data": {
      "text/plain": "  0%|          | 0/1000 [00:00<?, ?it/s]",
      "application/vnd.jupyter.widget-view+json": {
       "version_major": 2,
       "version_minor": 0,
       "model_id": "2503d33cfa6a42b58993115d140fd89e"
      }
     },
     "metadata": {},
     "output_type": "display_data"
    },
    {
     "name": "stderr",
     "output_type": "stream",
     "text": [
      "Epoch 86: 1.0s to complete\n",
      "    error(train)=9.86e-02, acc(train)=9.59e-01, error(valid)=1.40e+00, acc(valid)=8.17e-01\n"
     ]
    },
    {
     "data": {
      "text/plain": "  0%|          | 0/1000 [00:00<?, ?it/s]",
      "application/vnd.jupyter.widget-view+json": {
       "version_major": 2,
       "version_minor": 0,
       "model_id": "58a3aa33f8084e2cac728d8f21dc3e8f"
      }
     },
     "metadata": {},
     "output_type": "display_data"
    },
    {
     "name": "stderr",
     "output_type": "stream",
     "text": [
      "Epoch 87: 1.0s to complete\n",
      "    error(train)=1.16e-01, acc(train)=9.53e-01, error(valid)=1.42e+00, acc(valid)=8.15e-01\n"
     ]
    },
    {
     "data": {
      "text/plain": "  0%|          | 0/1000 [00:00<?, ?it/s]",
      "application/vnd.jupyter.widget-view+json": {
       "version_major": 2,
       "version_minor": 0,
       "model_id": "52bb340fc1de4da9a72dd20ad323c132"
      }
     },
     "metadata": {},
     "output_type": "display_data"
    },
    {
     "name": "stderr",
     "output_type": "stream",
     "text": [
      "Epoch 88: 1.0s to complete\n",
      "    error(train)=9.12e-02, acc(train)=9.62e-01, error(valid)=1.42e+00, acc(valid)=8.20e-01\n"
     ]
    },
    {
     "data": {
      "text/plain": "  0%|          | 0/1000 [00:00<?, ?it/s]",
      "application/vnd.jupyter.widget-view+json": {
       "version_major": 2,
       "version_minor": 0,
       "model_id": "1096c956406f4e4aacd15484a0b5036d"
      }
     },
     "metadata": {},
     "output_type": "display_data"
    },
    {
     "name": "stderr",
     "output_type": "stream",
     "text": [
      "Epoch 89: 1.0s to complete\n",
      "    error(train)=1.19e-01, acc(train)=9.51e-01, error(valid)=1.47e+00, acc(valid)=8.16e-01\n"
     ]
    },
    {
     "data": {
      "text/plain": "  0%|          | 0/1000 [00:00<?, ?it/s]",
      "application/vnd.jupyter.widget-view+json": {
       "version_major": 2,
       "version_minor": 0,
       "model_id": "c56d0956f0e34e72bdabab24bb1d3cc3"
      }
     },
     "metadata": {},
     "output_type": "display_data"
    },
    {
     "name": "stderr",
     "output_type": "stream",
     "text": [
      "Epoch 90: 1.0s to complete\n",
      "    error(train)=1.08e-01, acc(train)=9.57e-01, error(valid)=1.46e+00, acc(valid)=8.20e-01\n"
     ]
    },
    {
     "data": {
      "text/plain": "  0%|          | 0/1000 [00:00<?, ?it/s]",
      "application/vnd.jupyter.widget-view+json": {
       "version_major": 2,
       "version_minor": 0,
       "model_id": "4b134ce2f2f349a8b478e1bbb5f21f25"
      }
     },
     "metadata": {},
     "output_type": "display_data"
    },
    {
     "name": "stderr",
     "output_type": "stream",
     "text": [
      "Epoch 91: 1.1s to complete\n",
      "    error(train)=9.71e-02, acc(train)=9.60e-01, error(valid)=1.45e+00, acc(valid)=8.17e-01\n"
     ]
    },
    {
     "data": {
      "text/plain": "  0%|          | 0/1000 [00:00<?, ?it/s]",
      "application/vnd.jupyter.widget-view+json": {
       "version_major": 2,
       "version_minor": 0,
       "model_id": "12d4cb0576f543539e15d6219f71059c"
      }
     },
     "metadata": {},
     "output_type": "display_data"
    },
    {
     "name": "stderr",
     "output_type": "stream",
     "text": [
      "Epoch 92: 0.9s to complete\n",
      "    error(train)=9.98e-02, acc(train)=9.59e-01, error(valid)=1.48e+00, acc(valid)=8.17e-01\n"
     ]
    },
    {
     "data": {
      "text/plain": "  0%|          | 0/1000 [00:00<?, ?it/s]",
      "application/vnd.jupyter.widget-view+json": {
       "version_major": 2,
       "version_minor": 0,
       "model_id": "5c7bae6f13d44438a50ddccae4c3bf7b"
      }
     },
     "metadata": {},
     "output_type": "display_data"
    },
    {
     "name": "stderr",
     "output_type": "stream",
     "text": [
      "Epoch 93: 0.9s to complete\n",
      "    error(train)=1.10e-01, acc(train)=9.55e-01, error(valid)=1.51e+00, acc(valid)=8.11e-01\n"
     ]
    },
    {
     "data": {
      "text/plain": "  0%|          | 0/1000 [00:00<?, ?it/s]",
      "application/vnd.jupyter.widget-view+json": {
       "version_major": 2,
       "version_minor": 0,
       "model_id": "fb68211abb3748de93bd9ac0f2db5b82"
      }
     },
     "metadata": {},
     "output_type": "display_data"
    },
    {
     "name": "stderr",
     "output_type": "stream",
     "text": [
      "Epoch 94: 0.9s to complete\n",
      "    error(train)=9.72e-02, acc(train)=9.61e-01, error(valid)=1.52e+00, acc(valid)=8.14e-01\n"
     ]
    },
    {
     "data": {
      "text/plain": "  0%|          | 0/1000 [00:00<?, ?it/s]",
      "application/vnd.jupyter.widget-view+json": {
       "version_major": 2,
       "version_minor": 0,
       "model_id": "31bcc3d03f50410bbc9b2c6c7103bbd5"
      }
     },
     "metadata": {},
     "output_type": "display_data"
    },
    {
     "name": "stderr",
     "output_type": "stream",
     "text": [
      "Epoch 95: 0.9s to complete\n",
      "    error(train)=1.02e-01, acc(train)=9.59e-01, error(valid)=1.50e+00, acc(valid)=8.16e-01\n"
     ]
    },
    {
     "data": {
      "text/plain": "  0%|          | 0/1000 [00:00<?, ?it/s]",
      "application/vnd.jupyter.widget-view+json": {
       "version_major": 2,
       "version_minor": 0,
       "model_id": "79b82dea98c54652a08711ef128bb0a9"
      }
     },
     "metadata": {},
     "output_type": "display_data"
    },
    {
     "name": "stderr",
     "output_type": "stream",
     "text": [
      "Epoch 96: 1.0s to complete\n",
      "    error(train)=9.63e-02, acc(train)=9.61e-01, error(valid)=1.53e+00, acc(valid)=8.16e-01\n"
     ]
    },
    {
     "data": {
      "text/plain": "  0%|          | 0/1000 [00:00<?, ?it/s]",
      "application/vnd.jupyter.widget-view+json": {
       "version_major": 2,
       "version_minor": 0,
       "model_id": "491c001646114173be461a4b0f051935"
      }
     },
     "metadata": {},
     "output_type": "display_data"
    },
    {
     "name": "stderr",
     "output_type": "stream",
     "text": [
      "Epoch 97: 0.9s to complete\n",
      "    error(train)=9.95e-02, acc(train)=9.59e-01, error(valid)=1.57e+00, acc(valid)=8.17e-01\n"
     ]
    },
    {
     "data": {
      "text/plain": "  0%|          | 0/1000 [00:00<?, ?it/s]",
      "application/vnd.jupyter.widget-view+json": {
       "version_major": 2,
       "version_minor": 0,
       "model_id": "fc022d85badf4b9b8909f3dff37943a2"
      }
     },
     "metadata": {},
     "output_type": "display_data"
    },
    {
     "name": "stderr",
     "output_type": "stream",
     "text": [
      "Epoch 98: 0.9s to complete\n",
      "    error(train)=9.45e-02, acc(train)=9.61e-01, error(valid)=1.54e+00, acc(valid)=8.20e-01\n"
     ]
    },
    {
     "data": {
      "text/plain": "  0%|          | 0/1000 [00:00<?, ?it/s]",
      "application/vnd.jupyter.widget-view+json": {
       "version_major": 2,
       "version_minor": 0,
       "model_id": "6b9bfd8c174149fe8c74786cb62b2857"
      }
     },
     "metadata": {},
     "output_type": "display_data"
    },
    {
     "name": "stderr",
     "output_type": "stream",
     "text": [
      "Epoch 99: 1.0s to complete\n",
      "    error(train)=1.03e-01, acc(train)=9.59e-01, error(valid)=1.58e+00, acc(valid)=8.17e-01\n"
     ]
    },
    {
     "data": {
      "text/plain": "  0%|          | 0/1000 [00:00<?, ?it/s]",
      "application/vnd.jupyter.widget-view+json": {
       "version_major": 2,
       "version_minor": 0,
       "model_id": "db828b40a5af43e0a7a3da3b405b5726"
      }
     },
     "metadata": {},
     "output_type": "display_data"
    },
    {
     "name": "stderr",
     "output_type": "stream",
     "text": [
      "Epoch 100: 1.0s to complete\n",
      "    error(train)=1.03e-01, acc(train)=9.59e-01, error(valid)=1.59e+00, acc(valid)=8.24e-01\n"
     ]
    },
    {
     "data": {
      "text/plain": "  0%|          | 0/100 [00:00<?, ?it/s]",
      "application/vnd.jupyter.widget-view+json": {
       "version_major": 2,
       "version_minor": 0,
       "model_id": "3338f881782e4ef08aa8e11f03c01a3f"
      }
     },
     "metadata": {},
     "output_type": "display_data"
    },
    {
     "data": {
      "text/plain": "  0%|          | 0/1000 [00:00<?, ?it/s]",
      "application/vnd.jupyter.widget-view+json": {
       "version_major": 2,
       "version_minor": 0,
       "model_id": "11d3fae989db48528a177785e5e5dcb4"
      }
     },
     "metadata": {},
     "output_type": "display_data"
    },
    {
     "name": "stderr",
     "output_type": "stream",
     "text": [
      "Epoch 1: 1.2s to complete\n",
      "    error(train)=6.93e-01, acc(train)=7.83e-01, error(valid)=7.21e-01, acc(valid)=7.76e-01\n"
     ]
    },
    {
     "data": {
      "text/plain": "  0%|          | 0/1000 [00:00<?, ?it/s]",
      "application/vnd.jupyter.widget-view+json": {
       "version_major": 2,
       "version_minor": 0,
       "model_id": "837782a1262d4540acba1584fc0c81ab"
      }
     },
     "metadata": {},
     "output_type": "display_data"
    },
    {
     "name": "stderr",
     "output_type": "stream",
     "text": [
      "Epoch 2: 1.0s to complete\n",
      "    error(train)=5.77e-01, acc(train)=8.10e-01, error(valid)=6.27e-01, acc(valid)=7.96e-01\n"
     ]
    },
    {
     "data": {
      "text/plain": "  0%|          | 0/1000 [00:00<?, ?it/s]",
      "application/vnd.jupyter.widget-view+json": {
       "version_major": 2,
       "version_minor": 0,
       "model_id": "38737a65184248a0a52ea0ac1a7b5491"
      }
     },
     "metadata": {},
     "output_type": "display_data"
    },
    {
     "name": "stderr",
     "output_type": "stream",
     "text": [
      "Epoch 3: 1.1s to complete\n",
      "    error(train)=4.84e-01, acc(train)=8.35e-01, error(valid)=5.47e-01, acc(valid)=8.19e-01\n"
     ]
    },
    {
     "data": {
      "text/plain": "  0%|          | 0/1000 [00:00<?, ?it/s]",
      "application/vnd.jupyter.widget-view+json": {
       "version_major": 2,
       "version_minor": 0,
       "model_id": "ea9ebe3f32d1467c9e1d6ec9051a95f2"
      }
     },
     "metadata": {},
     "output_type": "display_data"
    },
    {
     "name": "stderr",
     "output_type": "stream",
     "text": [
      "Epoch 4: 1.0s to complete\n",
      "    error(train)=4.45e-01, acc(train)=8.48e-01, error(valid)=5.29e-01, acc(valid)=8.25e-01\n"
     ]
    },
    {
     "data": {
      "text/plain": "  0%|          | 0/1000 [00:00<?, ?it/s]",
      "application/vnd.jupyter.widget-view+json": {
       "version_major": 2,
       "version_minor": 0,
       "model_id": "2b969d586548457591b76733c06142d5"
      }
     },
     "metadata": {},
     "output_type": "display_data"
    },
    {
     "name": "stderr",
     "output_type": "stream",
     "text": [
      "Epoch 5: 1.1s to complete\n",
      "    error(train)=4.08e-01, acc(train)=8.58e-01, error(valid)=5.10e-01, acc(valid)=8.32e-01\n"
     ]
    },
    {
     "data": {
      "text/plain": "  0%|          | 0/1000 [00:00<?, ?it/s]",
      "application/vnd.jupyter.widget-view+json": {
       "version_major": 2,
       "version_minor": 0,
       "model_id": "b853d592d81d40868d0af43a41939bb5"
      }
     },
     "metadata": {},
     "output_type": "display_data"
    },
    {
     "name": "stderr",
     "output_type": "stream",
     "text": [
      "Epoch 6: 1.0s to complete\n",
      "    error(train)=3.82e-01, acc(train)=8.65e-01, error(valid)=5.01e-01, acc(valid)=8.33e-01\n"
     ]
    },
    {
     "data": {
      "text/plain": "  0%|          | 0/1000 [00:00<?, ?it/s]",
      "application/vnd.jupyter.widget-view+json": {
       "version_major": 2,
       "version_minor": 0,
       "model_id": "daf995949e1b4b9eb353317e7b749b04"
      }
     },
     "metadata": {},
     "output_type": "display_data"
    },
    {
     "name": "stderr",
     "output_type": "stream",
     "text": [
      "Epoch 7: 1.2s to complete\n",
      "    error(train)=3.58e-01, acc(train)=8.73e-01, error(valid)=4.87e-01, acc(valid)=8.39e-01\n"
     ]
    },
    {
     "data": {
      "text/plain": "  0%|          | 0/1000 [00:00<?, ?it/s]",
      "application/vnd.jupyter.widget-view+json": {
       "version_major": 2,
       "version_minor": 0,
       "model_id": "99a44b4a14d945abb5f9a2a0eea6515a"
      }
     },
     "metadata": {},
     "output_type": "display_data"
    },
    {
     "name": "stderr",
     "output_type": "stream",
     "text": [
      "Epoch 8: 1.0s to complete\n",
      "    error(train)=3.42e-01, acc(train)=8.76e-01, error(valid)=4.82e-01, acc(valid)=8.39e-01\n"
     ]
    },
    {
     "data": {
      "text/plain": "  0%|          | 0/1000 [00:00<?, ?it/s]",
      "application/vnd.jupyter.widget-view+json": {
       "version_major": 2,
       "version_minor": 0,
       "model_id": "bb24e10f5ebd4bc587f80864afbd1060"
      }
     },
     "metadata": {},
     "output_type": "display_data"
    },
    {
     "name": "stderr",
     "output_type": "stream",
     "text": [
      "Epoch 9: 1.1s to complete\n",
      "    error(train)=3.22e-01, acc(train)=8.82e-01, error(valid)=4.80e-01, acc(valid)=8.43e-01\n"
     ]
    },
    {
     "data": {
      "text/plain": "  0%|          | 0/1000 [00:00<?, ?it/s]",
      "application/vnd.jupyter.widget-view+json": {
       "version_major": 2,
       "version_minor": 0,
       "model_id": "f7c296446a754f72b7f6ff0a4969f15c"
      }
     },
     "metadata": {},
     "output_type": "display_data"
    },
    {
     "name": "stderr",
     "output_type": "stream",
     "text": [
      "Epoch 10: 1.0s to complete\n",
      "    error(train)=3.08e-01, acc(train)=8.86e-01, error(valid)=4.88e-01, acc(valid)=8.42e-01\n"
     ]
    },
    {
     "data": {
      "text/plain": "  0%|          | 0/1000 [00:00<?, ?it/s]",
      "application/vnd.jupyter.widget-view+json": {
       "version_major": 2,
       "version_minor": 0,
       "model_id": "c33b01df6beb4f00b3ce26df4972951b"
      }
     },
     "metadata": {},
     "output_type": "display_data"
    },
    {
     "name": "stderr",
     "output_type": "stream",
     "text": [
      "Epoch 11: 1.1s to complete\n",
      "    error(train)=3.01e-01, acc(train)=8.87e-01, error(valid)=4.97e-01, acc(valid)=8.42e-01\n"
     ]
    },
    {
     "data": {
      "text/plain": "  0%|          | 0/1000 [00:00<?, ?it/s]",
      "application/vnd.jupyter.widget-view+json": {
       "version_major": 2,
       "version_minor": 0,
       "model_id": "333aa64b5ee4411895e0595430508c6d"
      }
     },
     "metadata": {},
     "output_type": "display_data"
    },
    {
     "name": "stderr",
     "output_type": "stream",
     "text": [
      "Epoch 12: 1.1s to complete\n",
      "    error(train)=2.84e-01, acc(train)=8.92e-01, error(valid)=5.00e-01, acc(valid)=8.42e-01\n"
     ]
    },
    {
     "data": {
      "text/plain": "  0%|          | 0/1000 [00:00<?, ?it/s]",
      "application/vnd.jupyter.widget-view+json": {
       "version_major": 2,
       "version_minor": 0,
       "model_id": "e7b0dd9471144ac4a1fc839bda51e3f3"
      }
     },
     "metadata": {},
     "output_type": "display_data"
    },
    {
     "name": "stderr",
     "output_type": "stream",
     "text": [
      "Epoch 13: 1.1s to complete\n",
      "    error(train)=2.85e-01, acc(train)=8.92e-01, error(valid)=5.08e-01, acc(valid)=8.36e-01\n"
     ]
    },
    {
     "data": {
      "text/plain": "  0%|          | 0/1000 [00:00<?, ?it/s]",
      "application/vnd.jupyter.widget-view+json": {
       "version_major": 2,
       "version_minor": 0,
       "model_id": "0bb7d10c83ed49b4bf650f50fdffa503"
      }
     },
     "metadata": {},
     "output_type": "display_data"
    },
    {
     "name": "stderr",
     "output_type": "stream",
     "text": [
      "Epoch 14: 1.0s to complete\n",
      "    error(train)=2.74e-01, acc(train)=8.95e-01, error(valid)=5.21e-01, acc(valid)=8.41e-01\n"
     ]
    },
    {
     "data": {
      "text/plain": "  0%|          | 0/1000 [00:00<?, ?it/s]",
      "application/vnd.jupyter.widget-view+json": {
       "version_major": 2,
       "version_minor": 0,
       "model_id": "4a42ce5565dd48148859c307ce20a52d"
      }
     },
     "metadata": {},
     "output_type": "display_data"
    },
    {
     "name": "stderr",
     "output_type": "stream",
     "text": [
      "Epoch 15: 1.3s to complete\n",
      "    error(train)=2.61e-01, acc(train)=8.99e-01, error(valid)=5.37e-01, acc(valid)=8.39e-01\n"
     ]
    },
    {
     "data": {
      "text/plain": "  0%|          | 0/1000 [00:00<?, ?it/s]",
      "application/vnd.jupyter.widget-view+json": {
       "version_major": 2,
       "version_minor": 0,
       "model_id": "f971b3364658480381ee36fc8b608971"
      }
     },
     "metadata": {},
     "output_type": "display_data"
    },
    {
     "name": "stderr",
     "output_type": "stream",
     "text": [
      "Epoch 16: 1.1s to complete\n",
      "    error(train)=2.55e-01, acc(train)=9.02e-01, error(valid)=5.42e-01, acc(valid)=8.37e-01\n"
     ]
    },
    {
     "data": {
      "text/plain": "  0%|          | 0/1000 [00:00<?, ?it/s]",
      "application/vnd.jupyter.widget-view+json": {
       "version_major": 2,
       "version_minor": 0,
       "model_id": "761cfbcaf230446294e3a496401cf48f"
      }
     },
     "metadata": {},
     "output_type": "display_data"
    },
    {
     "name": "stderr",
     "output_type": "stream",
     "text": [
      "Epoch 17: 1.1s to complete\n",
      "    error(train)=2.36e-01, acc(train)=9.08e-01, error(valid)=5.31e-01, acc(valid)=8.43e-01\n"
     ]
    },
    {
     "data": {
      "text/plain": "  0%|          | 0/1000 [00:00<?, ?it/s]",
      "application/vnd.jupyter.widget-view+json": {
       "version_major": 2,
       "version_minor": 0,
       "model_id": "ce15e44c8f3544bb8d25d340e82accb6"
      }
     },
     "metadata": {},
     "output_type": "display_data"
    },
    {
     "name": "stderr",
     "output_type": "stream",
     "text": [
      "Epoch 18: 1.0s to complete\n",
      "    error(train)=2.34e-01, acc(train)=9.08e-01, error(valid)=5.44e-01, acc(valid)=8.43e-01\n"
     ]
    },
    {
     "data": {
      "text/plain": "  0%|          | 0/1000 [00:00<?, ?it/s]",
      "application/vnd.jupyter.widget-view+json": {
       "version_major": 2,
       "version_minor": 0,
       "model_id": "c75f264adf624cb9a47a38ae546cd3d3"
      }
     },
     "metadata": {},
     "output_type": "display_data"
    },
    {
     "name": "stderr",
     "output_type": "stream",
     "text": [
      "Epoch 19: 1.1s to complete\n",
      "    error(train)=2.33e-01, acc(train)=9.08e-01, error(valid)=5.58e-01, acc(valid)=8.37e-01\n"
     ]
    },
    {
     "data": {
      "text/plain": "  0%|          | 0/1000 [00:00<?, ?it/s]",
      "application/vnd.jupyter.widget-view+json": {
       "version_major": 2,
       "version_minor": 0,
       "model_id": "32634a6d493e4d32ae19d3fdac8d6fa4"
      }
     },
     "metadata": {},
     "output_type": "display_data"
    },
    {
     "name": "stderr",
     "output_type": "stream",
     "text": [
      "Epoch 20: 1.1s to complete\n",
      "    error(train)=2.34e-01, acc(train)=9.07e-01, error(valid)=5.83e-01, acc(valid)=8.33e-01\n"
     ]
    },
    {
     "data": {
      "text/plain": "  0%|          | 0/1000 [00:00<?, ?it/s]",
      "application/vnd.jupyter.widget-view+json": {
       "version_major": 2,
       "version_minor": 0,
       "model_id": "711d53ad185742e98b931e1a44267d7e"
      }
     },
     "metadata": {},
     "output_type": "display_data"
    },
    {
     "name": "stderr",
     "output_type": "stream",
     "text": [
      "Epoch 21: 1.1s to complete\n",
      "    error(train)=2.43e-01, acc(train)=9.03e-01, error(valid)=6.10e-01, acc(valid)=8.33e-01\n"
     ]
    },
    {
     "data": {
      "text/plain": "  0%|          | 0/1000 [00:00<?, ?it/s]",
      "application/vnd.jupyter.widget-view+json": {
       "version_major": 2,
       "version_minor": 0,
       "model_id": "fd940e180dfd40f7abfd12ff3e498dd0"
      }
     },
     "metadata": {},
     "output_type": "display_data"
    },
    {
     "name": "stderr",
     "output_type": "stream",
     "text": [
      "Epoch 22: 1.1s to complete\n",
      "    error(train)=2.26e-01, acc(train)=9.09e-01, error(valid)=6.13e-01, acc(valid)=8.29e-01\n"
     ]
    },
    {
     "data": {
      "text/plain": "  0%|          | 0/1000 [00:00<?, ?it/s]",
      "application/vnd.jupyter.widget-view+json": {
       "version_major": 2,
       "version_minor": 0,
       "model_id": "5ec4b6610a5a43ad9c0b49e21b341d51"
      }
     },
     "metadata": {},
     "output_type": "display_data"
    },
    {
     "name": "stderr",
     "output_type": "stream",
     "text": [
      "Epoch 23: 1.3s to complete\n",
      "    error(train)=2.07e-01, acc(train)=9.16e-01, error(valid)=6.18e-01, acc(valid)=8.37e-01\n"
     ]
    },
    {
     "data": {
      "text/plain": "  0%|          | 0/1000 [00:00<?, ?it/s]",
      "application/vnd.jupyter.widget-view+json": {
       "version_major": 2,
       "version_minor": 0,
       "model_id": "6b2ddb89e4024963b7b80db5fc220d55"
      }
     },
     "metadata": {},
     "output_type": "display_data"
    },
    {
     "name": "stderr",
     "output_type": "stream",
     "text": [
      "Epoch 24: 1.1s to complete\n",
      "    error(train)=2.03e-01, acc(train)=9.17e-01, error(valid)=6.34e-01, acc(valid)=8.33e-01\n"
     ]
    },
    {
     "data": {
      "text/plain": "  0%|          | 0/1000 [00:00<?, ?it/s]",
      "application/vnd.jupyter.widget-view+json": {
       "version_major": 2,
       "version_minor": 0,
       "model_id": "f8e9e9d250b04f8098e85bc32580058c"
      }
     },
     "metadata": {},
     "output_type": "display_data"
    },
    {
     "name": "stderr",
     "output_type": "stream",
     "text": [
      "Epoch 25: 1.1s to complete\n",
      "    error(train)=1.99e-01, acc(train)=9.19e-01, error(valid)=6.43e-01, acc(valid)=8.32e-01\n"
     ]
    },
    {
     "data": {
      "text/plain": "  0%|          | 0/1000 [00:00<?, ?it/s]",
      "application/vnd.jupyter.widget-view+json": {
       "version_major": 2,
       "version_minor": 0,
       "model_id": "beaac41e21944e8ca6520094ebd45948"
      }
     },
     "metadata": {},
     "output_type": "display_data"
    },
    {
     "name": "stderr",
     "output_type": "stream",
     "text": [
      "Epoch 26: 1.0s to complete\n",
      "    error(train)=1.95e-01, acc(train)=9.21e-01, error(valid)=6.48e-01, acc(valid)=8.36e-01\n"
     ]
    },
    {
     "data": {
      "text/plain": "  0%|          | 0/1000 [00:00<?, ?it/s]",
      "application/vnd.jupyter.widget-view+json": {
       "version_major": 2,
       "version_minor": 0,
       "model_id": "f6a68c3e51d742a0af488a15853553e9"
      }
     },
     "metadata": {},
     "output_type": "display_data"
    },
    {
     "name": "stderr",
     "output_type": "stream",
     "text": [
      "Epoch 27: 1.1s to complete\n",
      "    error(train)=2.00e-01, acc(train)=9.18e-01, error(valid)=6.64e-01, acc(valid)=8.30e-01\n"
     ]
    },
    {
     "data": {
      "text/plain": "  0%|          | 0/1000 [00:00<?, ?it/s]",
      "application/vnd.jupyter.widget-view+json": {
       "version_major": 2,
       "version_minor": 0,
       "model_id": "19028929fe1c4831b8ad929b62a12331"
      }
     },
     "metadata": {},
     "output_type": "display_data"
    },
    {
     "name": "stderr",
     "output_type": "stream",
     "text": [
      "Epoch 28: 1.1s to complete\n",
      "    error(train)=1.85e-01, acc(train)=9.24e-01, error(valid)=6.81e-01, acc(valid)=8.33e-01\n"
     ]
    },
    {
     "data": {
      "text/plain": "  0%|          | 0/1000 [00:00<?, ?it/s]",
      "application/vnd.jupyter.widget-view+json": {
       "version_major": 2,
       "version_minor": 0,
       "model_id": "03c74fce208443c7a35bfa186d326cfc"
      }
     },
     "metadata": {},
     "output_type": "display_data"
    },
    {
     "name": "stderr",
     "output_type": "stream",
     "text": [
      "Epoch 29: 1.1s to complete\n",
      "    error(train)=1.90e-01, acc(train)=9.23e-01, error(valid)=7.14e-01, acc(valid)=8.31e-01\n"
     ]
    },
    {
     "data": {
      "text/plain": "  0%|          | 0/1000 [00:00<?, ?it/s]",
      "application/vnd.jupyter.widget-view+json": {
       "version_major": 2,
       "version_minor": 0,
       "model_id": "3cd10bd8d69c42e3bf9b7989c1fc2b5c"
      }
     },
     "metadata": {},
     "output_type": "display_data"
    },
    {
     "name": "stderr",
     "output_type": "stream",
     "text": [
      "Epoch 30: 1.1s to complete\n",
      "    error(train)=1.78e-01, acc(train)=9.27e-01, error(valid)=6.91e-01, acc(valid)=8.34e-01\n"
     ]
    },
    {
     "data": {
      "text/plain": "  0%|          | 0/1000 [00:00<?, ?it/s]",
      "application/vnd.jupyter.widget-view+json": {
       "version_major": 2,
       "version_minor": 0,
       "model_id": "6b572baa9306440ba173a9c69191fb68"
      }
     },
     "metadata": {},
     "output_type": "display_data"
    },
    {
     "name": "stderr",
     "output_type": "stream",
     "text": [
      "Epoch 31: 1.2s to complete\n",
      "    error(train)=1.78e-01, acc(train)=9.27e-01, error(valid)=7.10e-01, acc(valid)=8.34e-01\n"
     ]
    },
    {
     "data": {
      "text/plain": "  0%|          | 0/1000 [00:00<?, ?it/s]",
      "application/vnd.jupyter.widget-view+json": {
       "version_major": 2,
       "version_minor": 0,
       "model_id": "03c509312f5d4b8fa7fb2dbc5725245d"
      }
     },
     "metadata": {},
     "output_type": "display_data"
    },
    {
     "name": "stderr",
     "output_type": "stream",
     "text": [
      "Epoch 32: 1.0s to complete\n",
      "    error(train)=1.76e-01, acc(train)=9.28e-01, error(valid)=7.27e-01, acc(valid)=8.32e-01\n"
     ]
    },
    {
     "data": {
      "text/plain": "  0%|          | 0/1000 [00:00<?, ?it/s]",
      "application/vnd.jupyter.widget-view+json": {
       "version_major": 2,
       "version_minor": 0,
       "model_id": "86f87bad08fa44a69efbd3c28aea93c9"
      }
     },
     "metadata": {},
     "output_type": "display_data"
    },
    {
     "name": "stderr",
     "output_type": "stream",
     "text": [
      "Epoch 33: 1.1s to complete\n",
      "    error(train)=1.90e-01, acc(train)=9.22e-01, error(valid)=7.55e-01, acc(valid)=8.29e-01\n"
     ]
    },
    {
     "data": {
      "text/plain": "  0%|          | 0/1000 [00:00<?, ?it/s]",
      "application/vnd.jupyter.widget-view+json": {
       "version_major": 2,
       "version_minor": 0,
       "model_id": "53058712133d4c33b0e76b3b6b2d5ceb"
      }
     },
     "metadata": {},
     "output_type": "display_data"
    },
    {
     "name": "stderr",
     "output_type": "stream",
     "text": [
      "Epoch 34: 1.0s to complete\n",
      "    error(train)=1.87e-01, acc(train)=9.23e-01, error(valid)=7.78e-01, acc(valid)=8.27e-01\n"
     ]
    },
    {
     "data": {
      "text/plain": "  0%|          | 0/1000 [00:00<?, ?it/s]",
      "application/vnd.jupyter.widget-view+json": {
       "version_major": 2,
       "version_minor": 0,
       "model_id": "b925cef0fa8740d797b61c61e7f7d63b"
      }
     },
     "metadata": {},
     "output_type": "display_data"
    },
    {
     "name": "stderr",
     "output_type": "stream",
     "text": [
      "Epoch 35: 1.2s to complete\n",
      "    error(train)=1.64e-01, acc(train)=9.31e-01, error(valid)=7.82e-01, acc(valid)=8.32e-01\n"
     ]
    },
    {
     "data": {
      "text/plain": "  0%|          | 0/1000 [00:00<?, ?it/s]",
      "application/vnd.jupyter.widget-view+json": {
       "version_major": 2,
       "version_minor": 0,
       "model_id": "47d5297561064c8e9e0ba93c88cca5cc"
      }
     },
     "metadata": {},
     "output_type": "display_data"
    },
    {
     "name": "stderr",
     "output_type": "stream",
     "text": [
      "Epoch 36: 1.0s to complete\n",
      "    error(train)=1.78e-01, acc(train)=9.27e-01, error(valid)=7.78e-01, acc(valid)=8.27e-01\n"
     ]
    },
    {
     "data": {
      "text/plain": "  0%|          | 0/1000 [00:00<?, ?it/s]",
      "application/vnd.jupyter.widget-view+json": {
       "version_major": 2,
       "version_minor": 0,
       "model_id": "cf1f0b5189324dd3bbab7e8ccf022cc2"
      }
     },
     "metadata": {},
     "output_type": "display_data"
    },
    {
     "name": "stderr",
     "output_type": "stream",
     "text": [
      "Epoch 37: 1.1s to complete\n",
      "    error(train)=1.65e-01, acc(train)=9.32e-01, error(valid)=8.20e-01, acc(valid)=8.30e-01\n"
     ]
    },
    {
     "data": {
      "text/plain": "  0%|          | 0/1000 [00:00<?, ?it/s]",
      "application/vnd.jupyter.widget-view+json": {
       "version_major": 2,
       "version_minor": 0,
       "model_id": "19cdeeace9e64702877d24122b3c96a1"
      }
     },
     "metadata": {},
     "output_type": "display_data"
    },
    {
     "name": "stderr",
     "output_type": "stream",
     "text": [
      "Epoch 38: 1.1s to complete\n",
      "    error(train)=1.53e-01, acc(train)=9.36e-01, error(valid)=8.15e-01, acc(valid)=8.34e-01\n"
     ]
    },
    {
     "data": {
      "text/plain": "  0%|          | 0/1000 [00:00<?, ?it/s]",
      "application/vnd.jupyter.widget-view+json": {
       "version_major": 2,
       "version_minor": 0,
       "model_id": "d2243c048c0842c091c94ce4f02a3602"
      }
     },
     "metadata": {},
     "output_type": "display_data"
    },
    {
     "name": "stderr",
     "output_type": "stream",
     "text": [
      "Epoch 39: 1.2s to complete\n",
      "    error(train)=1.65e-01, acc(train)=9.34e-01, error(valid)=8.36e-01, acc(valid)=8.33e-01\n"
     ]
    },
    {
     "data": {
      "text/plain": "  0%|          | 0/1000 [00:00<?, ?it/s]",
      "application/vnd.jupyter.widget-view+json": {
       "version_major": 2,
       "version_minor": 0,
       "model_id": "ed237f8874264551a5c56dcbf50bffaf"
      }
     },
     "metadata": {},
     "output_type": "display_data"
    },
    {
     "name": "stderr",
     "output_type": "stream",
     "text": [
      "Epoch 40: 1.0s to complete\n",
      "    error(train)=1.73e-01, acc(train)=9.28e-01, error(valid)=8.50e-01, acc(valid)=8.26e-01\n"
     ]
    },
    {
     "data": {
      "text/plain": "  0%|          | 0/1000 [00:00<?, ?it/s]",
      "application/vnd.jupyter.widget-view+json": {
       "version_major": 2,
       "version_minor": 0,
       "model_id": "d7c86552eb664a1ea5124cd017420d29"
      }
     },
     "metadata": {},
     "output_type": "display_data"
    },
    {
     "name": "stderr",
     "output_type": "stream",
     "text": [
      "Epoch 41: 1.1s to complete\n",
      "    error(train)=1.57e-01, acc(train)=9.35e-01, error(valid)=8.43e-01, acc(valid)=8.26e-01\n"
     ]
    },
    {
     "data": {
      "text/plain": "  0%|          | 0/1000 [00:00<?, ?it/s]",
      "application/vnd.jupyter.widget-view+json": {
       "version_major": 2,
       "version_minor": 0,
       "model_id": "2b03b4a5c35b4145933f342c94db44c6"
      }
     },
     "metadata": {},
     "output_type": "display_data"
    },
    {
     "name": "stderr",
     "output_type": "stream",
     "text": [
      "Epoch 42: 1.0s to complete\n",
      "    error(train)=1.55e-01, acc(train)=9.36e-01, error(valid)=8.70e-01, acc(valid)=8.29e-01\n"
     ]
    },
    {
     "data": {
      "text/plain": "  0%|          | 0/1000 [00:00<?, ?it/s]",
      "application/vnd.jupyter.widget-view+json": {
       "version_major": 2,
       "version_minor": 0,
       "model_id": "7e9c886817bd4d48a94f5ac11507bee3"
      }
     },
     "metadata": {},
     "output_type": "display_data"
    },
    {
     "name": "stderr",
     "output_type": "stream",
     "text": [
      "Epoch 43: 1.1s to complete\n",
      "    error(train)=1.47e-01, acc(train)=9.39e-01, error(valid)=8.76e-01, acc(valid)=8.28e-01\n"
     ]
    },
    {
     "data": {
      "text/plain": "  0%|          | 0/1000 [00:00<?, ?it/s]",
      "application/vnd.jupyter.widget-view+json": {
       "version_major": 2,
       "version_minor": 0,
       "model_id": "4e0d9d3603514a25a027165f68a48b95"
      }
     },
     "metadata": {},
     "output_type": "display_data"
    },
    {
     "name": "stderr",
     "output_type": "stream",
     "text": [
      "Epoch 44: 1.1s to complete\n",
      "    error(train)=1.55e-01, acc(train)=9.35e-01, error(valid)=9.04e-01, acc(valid)=8.27e-01\n"
     ]
    },
    {
     "data": {
      "text/plain": "  0%|          | 0/1000 [00:00<?, ?it/s]",
      "application/vnd.jupyter.widget-view+json": {
       "version_major": 2,
       "version_minor": 0,
       "model_id": "725ca9977cb54f92b7ffaaed432721da"
      }
     },
     "metadata": {},
     "output_type": "display_data"
    },
    {
     "name": "stderr",
     "output_type": "stream",
     "text": [
      "Epoch 45: 1.1s to complete\n",
      "    error(train)=1.37e-01, acc(train)=9.42e-01, error(valid)=8.91e-01, acc(valid)=8.34e-01\n"
     ]
    },
    {
     "data": {
      "text/plain": "  0%|          | 0/1000 [00:00<?, ?it/s]",
      "application/vnd.jupyter.widget-view+json": {
       "version_major": 2,
       "version_minor": 0,
       "model_id": "2abd5a219d8c49aaaa0b0bb45e3a5446"
      }
     },
     "metadata": {},
     "output_type": "display_data"
    },
    {
     "name": "stderr",
     "output_type": "stream",
     "text": [
      "Epoch 46: 1.0s to complete\n",
      "    error(train)=1.61e-01, acc(train)=9.35e-01, error(valid)=9.65e-01, acc(valid)=8.26e-01\n"
     ]
    },
    {
     "data": {
      "text/plain": "  0%|          | 0/1000 [00:00<?, ?it/s]",
      "application/vnd.jupyter.widget-view+json": {
       "version_major": 2,
       "version_minor": 0,
       "model_id": "63608f7ec198429e864a5947898d37a4"
      }
     },
     "metadata": {},
     "output_type": "display_data"
    },
    {
     "name": "stderr",
     "output_type": "stream",
     "text": [
      "Epoch 47: 1.2s to complete\n",
      "    error(train)=1.54e-01, acc(train)=9.37e-01, error(valid)=9.67e-01, acc(valid)=8.24e-01\n"
     ]
    },
    {
     "data": {
      "text/plain": "  0%|          | 0/1000 [00:00<?, ?it/s]",
      "application/vnd.jupyter.widget-view+json": {
       "version_major": 2,
       "version_minor": 0,
       "model_id": "13b7592bbbd642fcbe592cf696691cd3"
      }
     },
     "metadata": {},
     "output_type": "display_data"
    },
    {
     "name": "stderr",
     "output_type": "stream",
     "text": [
      "Epoch 48: 1.0s to complete\n",
      "    error(train)=1.58e-01, acc(train)=9.36e-01, error(valid)=1.01e+00, acc(valid)=8.27e-01\n"
     ]
    },
    {
     "data": {
      "text/plain": "  0%|          | 0/1000 [00:00<?, ?it/s]",
      "application/vnd.jupyter.widget-view+json": {
       "version_major": 2,
       "version_minor": 0,
       "model_id": "51e564b15c3447968a931bcf68de6445"
      }
     },
     "metadata": {},
     "output_type": "display_data"
    },
    {
     "name": "stderr",
     "output_type": "stream",
     "text": [
      "Epoch 49: 1.1s to complete\n",
      "    error(train)=1.47e-01, acc(train)=9.40e-01, error(valid)=9.97e-01, acc(valid)=8.26e-01\n"
     ]
    },
    {
     "data": {
      "text/plain": "  0%|          | 0/1000 [00:00<?, ?it/s]",
      "application/vnd.jupyter.widget-view+json": {
       "version_major": 2,
       "version_minor": 0,
       "model_id": "ec0018c97f064a2797cc6f52e143b70c"
      }
     },
     "metadata": {},
     "output_type": "display_data"
    },
    {
     "name": "stderr",
     "output_type": "stream",
     "text": [
      "Epoch 50: 1.0s to complete\n",
      "    error(train)=1.45e-01, acc(train)=9.41e-01, error(valid)=1.00e+00, acc(valid)=8.25e-01\n"
     ]
    },
    {
     "data": {
      "text/plain": "  0%|          | 0/1000 [00:00<?, ?it/s]",
      "application/vnd.jupyter.widget-view+json": {
       "version_major": 2,
       "version_minor": 0,
       "model_id": "1e8c312061fb4e099482ea2c2e6b297f"
      }
     },
     "metadata": {},
     "output_type": "display_data"
    },
    {
     "name": "stderr",
     "output_type": "stream",
     "text": [
      "Epoch 51: 1.1s to complete\n",
      "    error(train)=1.39e-01, acc(train)=9.41e-01, error(valid)=1.01e+00, acc(valid)=8.24e-01\n"
     ]
    },
    {
     "data": {
      "text/plain": "  0%|          | 0/1000 [00:00<?, ?it/s]",
      "application/vnd.jupyter.widget-view+json": {
       "version_major": 2,
       "version_minor": 0,
       "model_id": "186aa286a161453c8fd8ce91f0f005fc"
      }
     },
     "metadata": {},
     "output_type": "display_data"
    },
    {
     "name": "stderr",
     "output_type": "stream",
     "text": [
      "Epoch 52: 1.0s to complete\n",
      "    error(train)=1.49e-01, acc(train)=9.40e-01, error(valid)=1.04e+00, acc(valid)=8.24e-01\n"
     ]
    },
    {
     "data": {
      "text/plain": "  0%|          | 0/1000 [00:00<?, ?it/s]",
      "application/vnd.jupyter.widget-view+json": {
       "version_major": 2,
       "version_minor": 0,
       "model_id": "0a7613a6f3914a3ea4febba2e5b46fe3"
      }
     },
     "metadata": {},
     "output_type": "display_data"
    },
    {
     "name": "stderr",
     "output_type": "stream",
     "text": [
      "Epoch 53: 1.1s to complete\n",
      "    error(train)=1.49e-01, acc(train)=9.39e-01, error(valid)=1.03e+00, acc(valid)=8.28e-01\n"
     ]
    },
    {
     "data": {
      "text/plain": "  0%|          | 0/1000 [00:00<?, ?it/s]",
      "application/vnd.jupyter.widget-view+json": {
       "version_major": 2,
       "version_minor": 0,
       "model_id": "9f5ee974bf2444658cceda2c4f54c3fa"
      }
     },
     "metadata": {},
     "output_type": "display_data"
    },
    {
     "name": "stderr",
     "output_type": "stream",
     "text": [
      "Epoch 54: 1.1s to complete\n",
      "    error(train)=1.35e-01, acc(train)=9.44e-01, error(valid)=1.03e+00, acc(valid)=8.27e-01\n"
     ]
    },
    {
     "data": {
      "text/plain": "  0%|          | 0/1000 [00:00<?, ?it/s]",
      "application/vnd.jupyter.widget-view+json": {
       "version_major": 2,
       "version_minor": 0,
       "model_id": "a32ca7cc924045fda83a0b9749a37b29"
      }
     },
     "metadata": {},
     "output_type": "display_data"
    },
    {
     "name": "stderr",
     "output_type": "stream",
     "text": [
      "Epoch 55: 1.3s to complete\n",
      "    error(train)=1.39e-01, acc(train)=9.43e-01, error(valid)=1.04e+00, acc(valid)=8.25e-01\n"
     ]
    },
    {
     "data": {
      "text/plain": "  0%|          | 0/1000 [00:00<?, ?it/s]",
      "application/vnd.jupyter.widget-view+json": {
       "version_major": 2,
       "version_minor": 0,
       "model_id": "9ae91ab04fec4bcf85cd99b472b2eb32"
      }
     },
     "metadata": {},
     "output_type": "display_data"
    },
    {
     "name": "stderr",
     "output_type": "stream",
     "text": [
      "Epoch 56: 1.0s to complete\n",
      "    error(train)=1.28e-01, acc(train)=9.48e-01, error(valid)=1.07e+00, acc(valid)=8.26e-01\n"
     ]
    },
    {
     "data": {
      "text/plain": "  0%|          | 0/1000 [00:00<?, ?it/s]",
      "application/vnd.jupyter.widget-view+json": {
       "version_major": 2,
       "version_minor": 0,
       "model_id": "f73bffc43d1743b4adffbab3f1e7f29c"
      }
     },
     "metadata": {},
     "output_type": "display_data"
    },
    {
     "name": "stderr",
     "output_type": "stream",
     "text": [
      "Epoch 57: 1.1s to complete\n",
      "    error(train)=1.40e-01, acc(train)=9.43e-01, error(valid)=1.07e+00, acc(valid)=8.25e-01\n"
     ]
    },
    {
     "data": {
      "text/plain": "  0%|          | 0/1000 [00:00<?, ?it/s]",
      "application/vnd.jupyter.widget-view+json": {
       "version_major": 2,
       "version_minor": 0,
       "model_id": "f78d5b37ce754c58a7f0b637076cc0b2"
      }
     },
     "metadata": {},
     "output_type": "display_data"
    },
    {
     "name": "stderr",
     "output_type": "stream",
     "text": [
      "Epoch 58: 1.0s to complete\n",
      "    error(train)=1.28e-01, acc(train)=9.48e-01, error(valid)=1.08e+00, acc(valid)=8.30e-01\n"
     ]
    },
    {
     "data": {
      "text/plain": "  0%|          | 0/1000 [00:00<?, ?it/s]",
      "application/vnd.jupyter.widget-view+json": {
       "version_major": 2,
       "version_minor": 0,
       "model_id": "51ec823c8e384009b63e0f6ae3da11bd"
      }
     },
     "metadata": {},
     "output_type": "display_data"
    },
    {
     "name": "stderr",
     "output_type": "stream",
     "text": [
      "Epoch 59: 1.1s to complete\n",
      "    error(train)=1.35e-01, acc(train)=9.45e-01, error(valid)=1.09e+00, acc(valid)=8.27e-01\n"
     ]
    },
    {
     "data": {
      "text/plain": "  0%|          | 0/1000 [00:00<?, ?it/s]",
      "application/vnd.jupyter.widget-view+json": {
       "version_major": 2,
       "version_minor": 0,
       "model_id": "6fee601643734526bb89e67de7a17d37"
      }
     },
     "metadata": {},
     "output_type": "display_data"
    },
    {
     "name": "stderr",
     "output_type": "stream",
     "text": [
      "Epoch 60: 1.1s to complete\n",
      "    error(train)=1.42e-01, acc(train)=9.43e-01, error(valid)=1.16e+00, acc(valid)=8.24e-01\n"
     ]
    },
    {
     "data": {
      "text/plain": "  0%|          | 0/1000 [00:00<?, ?it/s]",
      "application/vnd.jupyter.widget-view+json": {
       "version_major": 2,
       "version_minor": 0,
       "model_id": "72f55c1c0cd84230929802ede23e4932"
      }
     },
     "metadata": {},
     "output_type": "display_data"
    },
    {
     "name": "stderr",
     "output_type": "stream",
     "text": [
      "Epoch 61: 1.1s to complete\n",
      "    error(train)=1.28e-01, acc(train)=9.47e-01, error(valid)=1.14e+00, acc(valid)=8.28e-01\n"
     ]
    },
    {
     "data": {
      "text/plain": "  0%|          | 0/1000 [00:00<?, ?it/s]",
      "application/vnd.jupyter.widget-view+json": {
       "version_major": 2,
       "version_minor": 0,
       "model_id": "664d13fb3b4945509ced7a5adc60f915"
      }
     },
     "metadata": {},
     "output_type": "display_data"
    },
    {
     "name": "stderr",
     "output_type": "stream",
     "text": [
      "Epoch 62: 1.0s to complete\n",
      "    error(train)=1.42e-01, acc(train)=9.42e-01, error(valid)=1.19e+00, acc(valid)=8.24e-01\n"
     ]
    },
    {
     "data": {
      "text/plain": "  0%|          | 0/1000 [00:00<?, ?it/s]",
      "application/vnd.jupyter.widget-view+json": {
       "version_major": 2,
       "version_minor": 0,
       "model_id": "bc93ea8b3074479dbfd4b06f7f94b961"
      }
     },
     "metadata": {},
     "output_type": "display_data"
    },
    {
     "name": "stderr",
     "output_type": "stream",
     "text": [
      "Epoch 63: 1.1s to complete\n",
      "    error(train)=1.23e-01, acc(train)=9.49e-01, error(valid)=1.17e+00, acc(valid)=8.26e-01\n"
     ]
    },
    {
     "data": {
      "text/plain": "  0%|          | 0/1000 [00:00<?, ?it/s]",
      "application/vnd.jupyter.widget-view+json": {
       "version_major": 2,
       "version_minor": 0,
       "model_id": "1ddf0fcd44824b188c095ececf47a664"
      }
     },
     "metadata": {},
     "output_type": "display_data"
    },
    {
     "name": "stderr",
     "output_type": "stream",
     "text": [
      "Epoch 64: 1.1s to complete\n",
      "    error(train)=1.25e-01, acc(train)=9.49e-01, error(valid)=1.21e+00, acc(valid)=8.24e-01\n"
     ]
    },
    {
     "data": {
      "text/plain": "  0%|          | 0/1000 [00:00<?, ?it/s]",
      "application/vnd.jupyter.widget-view+json": {
       "version_major": 2,
       "version_minor": 0,
       "model_id": "c5b9ee26f51442e9bda0a1d26aa08235"
      }
     },
     "metadata": {},
     "output_type": "display_data"
    },
    {
     "name": "stderr",
     "output_type": "stream",
     "text": [
      "Epoch 65: 1.1s to complete\n",
      "    error(train)=1.25e-01, acc(train)=9.50e-01, error(valid)=1.20e+00, acc(valid)=8.25e-01\n"
     ]
    },
    {
     "data": {
      "text/plain": "  0%|          | 0/1000 [00:00<?, ?it/s]",
      "application/vnd.jupyter.widget-view+json": {
       "version_major": 2,
       "version_minor": 0,
       "model_id": "4200253969f74abd8ea67f94af57a522"
      }
     },
     "metadata": {},
     "output_type": "display_data"
    },
    {
     "name": "stderr",
     "output_type": "stream",
     "text": [
      "Epoch 66: 1.0s to complete\n",
      "    error(train)=1.27e-01, acc(train)=9.49e-01, error(valid)=1.25e+00, acc(valid)=8.27e-01\n"
     ]
    },
    {
     "data": {
      "text/plain": "  0%|          | 0/1000 [00:00<?, ?it/s]",
      "application/vnd.jupyter.widget-view+json": {
       "version_major": 2,
       "version_minor": 0,
       "model_id": "004ac1e8006c47e0b33dd489794bae03"
      }
     },
     "metadata": {},
     "output_type": "display_data"
    },
    {
     "name": "stderr",
     "output_type": "stream",
     "text": [
      "Epoch 67: 1.1s to complete\n",
      "    error(train)=1.29e-01, acc(train)=9.47e-01, error(valid)=1.22e+00, acc(valid)=8.22e-01\n"
     ]
    },
    {
     "data": {
      "text/plain": "  0%|          | 0/1000 [00:00<?, ?it/s]",
      "application/vnd.jupyter.widget-view+json": {
       "version_major": 2,
       "version_minor": 0,
       "model_id": "f794c6e432f14eeb84ba5ed5fdf9fd65"
      }
     },
     "metadata": {},
     "output_type": "display_data"
    },
    {
     "name": "stderr",
     "output_type": "stream",
     "text": [
      "Epoch 68: 1.2s to complete\n",
      "    error(train)=1.17e-01, acc(train)=9.52e-01, error(valid)=1.26e+00, acc(valid)=8.29e-01\n"
     ]
    },
    {
     "data": {
      "text/plain": "  0%|          | 0/1000 [00:00<?, ?it/s]",
      "application/vnd.jupyter.widget-view+json": {
       "version_major": 2,
       "version_minor": 0,
       "model_id": "6ba0a05f52a14e309e2d8bff19949547"
      }
     },
     "metadata": {},
     "output_type": "display_data"
    },
    {
     "name": "stderr",
     "output_type": "stream",
     "text": [
      "Epoch 69: 1.1s to complete\n",
      "    error(train)=1.21e-01, acc(train)=9.51e-01, error(valid)=1.27e+00, acc(valid)=8.26e-01\n"
     ]
    },
    {
     "data": {
      "text/plain": "  0%|          | 0/1000 [00:00<?, ?it/s]",
      "application/vnd.jupyter.widget-view+json": {
       "version_major": 2,
       "version_minor": 0,
       "model_id": "4660f04f6875412c8915e395f8455d45"
      }
     },
     "metadata": {},
     "output_type": "display_data"
    },
    {
     "name": "stderr",
     "output_type": "stream",
     "text": [
      "Epoch 70: 1.1s to complete\n",
      "    error(train)=1.39e-01, acc(train)=9.46e-01, error(valid)=1.31e+00, acc(valid)=8.25e-01\n"
     ]
    },
    {
     "data": {
      "text/plain": "  0%|          | 0/1000 [00:00<?, ?it/s]",
      "application/vnd.jupyter.widget-view+json": {
       "version_major": 2,
       "version_minor": 0,
       "model_id": "c2d3a82e407544679c20982e9e8c97eb"
      }
     },
     "metadata": {},
     "output_type": "display_data"
    },
    {
     "name": "stderr",
     "output_type": "stream",
     "text": [
      "Epoch 71: 1.2s to complete\n",
      "    error(train)=1.25e-01, acc(train)=9.49e-01, error(valid)=1.29e+00, acc(valid)=8.25e-01\n"
     ]
    },
    {
     "data": {
      "text/plain": "  0%|          | 0/1000 [00:00<?, ?it/s]",
      "application/vnd.jupyter.widget-view+json": {
       "version_major": 2,
       "version_minor": 0,
       "model_id": "8f169b68f9e04293b83415d5a45bf743"
      }
     },
     "metadata": {},
     "output_type": "display_data"
    },
    {
     "name": "stderr",
     "output_type": "stream",
     "text": [
      "Epoch 72: 1.0s to complete\n",
      "    error(train)=1.17e-01, acc(train)=9.52e-01, error(valid)=1.28e+00, acc(valid)=8.29e-01\n"
     ]
    },
    {
     "data": {
      "text/plain": "  0%|          | 0/1000 [00:00<?, ?it/s]",
      "application/vnd.jupyter.widget-view+json": {
       "version_major": 2,
       "version_minor": 0,
       "model_id": "e87b106b657342018b3649497c73a608"
      }
     },
     "metadata": {},
     "output_type": "display_data"
    },
    {
     "name": "stderr",
     "output_type": "stream",
     "text": [
      "Epoch 73: 1.1s to complete\n",
      "    error(train)=1.32e-01, acc(train)=9.48e-01, error(valid)=1.35e+00, acc(valid)=8.21e-01\n"
     ]
    },
    {
     "data": {
      "text/plain": "  0%|          | 0/1000 [00:00<?, ?it/s]",
      "application/vnd.jupyter.widget-view+json": {
       "version_major": 2,
       "version_minor": 0,
       "model_id": "c12be0974e964302ac3613e0072fb420"
      }
     },
     "metadata": {},
     "output_type": "display_data"
    },
    {
     "name": "stderr",
     "output_type": "stream",
     "text": [
      "Epoch 74: 1.0s to complete\n",
      "    error(train)=1.28e-01, acc(train)=9.50e-01, error(valid)=1.34e+00, acc(valid)=8.22e-01\n"
     ]
    },
    {
     "data": {
      "text/plain": "  0%|          | 0/1000 [00:00<?, ?it/s]",
      "application/vnd.jupyter.widget-view+json": {
       "version_major": 2,
       "version_minor": 0,
       "model_id": "a2723a546c234ec7a872079d13a82ded"
      }
     },
     "metadata": {},
     "output_type": "display_data"
    },
    {
     "name": "stderr",
     "output_type": "stream",
     "text": [
      "Epoch 75: 1.1s to complete\n",
      "    error(train)=1.29e-01, acc(train)=9.50e-01, error(valid)=1.34e+00, acc(valid)=8.23e-01\n"
     ]
    },
    {
     "data": {
      "text/plain": "  0%|          | 0/1000 [00:00<?, ?it/s]",
      "application/vnd.jupyter.widget-view+json": {
       "version_major": 2,
       "version_minor": 0,
       "model_id": "2a7c4cd9a57c4556b26856334e42b16e"
      }
     },
     "metadata": {},
     "output_type": "display_data"
    },
    {
     "name": "stderr",
     "output_type": "stream",
     "text": [
      "Epoch 76: 1.1s to complete\n",
      "    error(train)=1.25e-01, acc(train)=9.49e-01, error(valid)=1.38e+00, acc(valid)=8.24e-01\n"
     ]
    },
    {
     "data": {
      "text/plain": "  0%|          | 0/1000 [00:00<?, ?it/s]",
      "application/vnd.jupyter.widget-view+json": {
       "version_major": 2,
       "version_minor": 0,
       "model_id": "ba851fa9d90c4b1a8a63bc1ea356bb4f"
      }
     },
     "metadata": {},
     "output_type": "display_data"
    },
    {
     "name": "stderr",
     "output_type": "stream",
     "text": [
      "Epoch 77: 1.1s to complete\n",
      "    error(train)=1.18e-01, acc(train)=9.53e-01, error(valid)=1.33e+00, acc(valid)=8.22e-01\n"
     ]
    },
    {
     "data": {
      "text/plain": "  0%|          | 0/1000 [00:00<?, ?it/s]",
      "application/vnd.jupyter.widget-view+json": {
       "version_major": 2,
       "version_minor": 0,
       "model_id": "06c139e527b848a5a3dd3f1cfb80e40f"
      }
     },
     "metadata": {},
     "output_type": "display_data"
    },
    {
     "name": "stderr",
     "output_type": "stream",
     "text": [
      "Epoch 78: 1.1s to complete\n",
      "    error(train)=1.28e-01, acc(train)=9.49e-01, error(valid)=1.37e+00, acc(valid)=8.22e-01\n"
     ]
    },
    {
     "data": {
      "text/plain": "  0%|          | 0/1000 [00:00<?, ?it/s]",
      "application/vnd.jupyter.widget-view+json": {
       "version_major": 2,
       "version_minor": 0,
       "model_id": "6eb68aa1b470423f9ce2d956fc43478d"
      }
     },
     "metadata": {},
     "output_type": "display_data"
    },
    {
     "name": "stderr",
     "output_type": "stream",
     "text": [
      "Epoch 79: 1.2s to complete\n",
      "    error(train)=1.34e-01, acc(train)=9.48e-01, error(valid)=1.41e+00, acc(valid)=8.20e-01\n"
     ]
    },
    {
     "data": {
      "text/plain": "  0%|          | 0/1000 [00:00<?, ?it/s]",
      "application/vnd.jupyter.widget-view+json": {
       "version_major": 2,
       "version_minor": 0,
       "model_id": "5424c62595884daeb1e2992d909f8c47"
      }
     },
     "metadata": {},
     "output_type": "display_data"
    },
    {
     "name": "stderr",
     "output_type": "stream",
     "text": [
      "Epoch 80: 1.0s to complete\n",
      "    error(train)=1.29e-01, acc(train)=9.50e-01, error(valid)=1.42e+00, acc(valid)=8.22e-01\n"
     ]
    },
    {
     "data": {
      "text/plain": "  0%|          | 0/1000 [00:00<?, ?it/s]",
      "application/vnd.jupyter.widget-view+json": {
       "version_major": 2,
       "version_minor": 0,
       "model_id": "4f535750bce0452999f94c62dd9d914a"
      }
     },
     "metadata": {},
     "output_type": "display_data"
    },
    {
     "name": "stderr",
     "output_type": "stream",
     "text": [
      "Epoch 81: 1.1s to complete\n",
      "    error(train)=1.26e-01, acc(train)=9.51e-01, error(valid)=1.43e+00, acc(valid)=8.24e-01\n"
     ]
    },
    {
     "data": {
      "text/plain": "  0%|          | 0/1000 [00:00<?, ?it/s]",
      "application/vnd.jupyter.widget-view+json": {
       "version_major": 2,
       "version_minor": 0,
       "model_id": "da1338e25c7c4d569d19b4777a617b61"
      }
     },
     "metadata": {},
     "output_type": "display_data"
    },
    {
     "name": "stderr",
     "output_type": "stream",
     "text": [
      "Epoch 82: 1.1s to complete\n",
      "    error(train)=1.19e-01, acc(train)=9.53e-01, error(valid)=1.46e+00, acc(valid)=8.24e-01\n"
     ]
    },
    {
     "data": {
      "text/plain": "  0%|          | 0/1000 [00:00<?, ?it/s]",
      "application/vnd.jupyter.widget-view+json": {
       "version_major": 2,
       "version_minor": 0,
       "model_id": "31b78a852d0f487384f2b50a67ec14ad"
      }
     },
     "metadata": {},
     "output_type": "display_data"
    },
    {
     "name": "stderr",
     "output_type": "stream",
     "text": [
      "Epoch 83: 1.1s to complete\n",
      "    error(train)=1.06e-01, acc(train)=9.57e-01, error(valid)=1.40e+00, acc(valid)=8.23e-01\n"
     ]
    },
    {
     "data": {
      "text/plain": "  0%|          | 0/1000 [00:00<?, ?it/s]",
      "application/vnd.jupyter.widget-view+json": {
       "version_major": 2,
       "version_minor": 0,
       "model_id": "a397a8ed674745fdad0b1b6a33a30515"
      }
     },
     "metadata": {},
     "output_type": "display_data"
    },
    {
     "name": "stderr",
     "output_type": "stream",
     "text": [
      "Epoch 84: 1.0s to complete\n",
      "    error(train)=1.09e-01, acc(train)=9.57e-01, error(valid)=1.48e+00, acc(valid)=8.23e-01\n"
     ]
    },
    {
     "data": {
      "text/plain": "  0%|          | 0/1000 [00:00<?, ?it/s]",
      "application/vnd.jupyter.widget-view+json": {
       "version_major": 2,
       "version_minor": 0,
       "model_id": "d171c07aadb4450398809da9d86f5917"
      }
     },
     "metadata": {},
     "output_type": "display_data"
    },
    {
     "name": "stderr",
     "output_type": "stream",
     "text": [
      "Epoch 85: 1.1s to complete\n",
      "    error(train)=1.22e-01, acc(train)=9.52e-01, error(valid)=1.45e+00, acc(valid)=8.18e-01\n"
     ]
    },
    {
     "data": {
      "text/plain": "  0%|          | 0/1000 [00:00<?, ?it/s]",
      "application/vnd.jupyter.widget-view+json": {
       "version_major": 2,
       "version_minor": 0,
       "model_id": "25792b06a621431d8509682a666456dd"
      }
     },
     "metadata": {},
     "output_type": "display_data"
    },
    {
     "name": "stderr",
     "output_type": "stream",
     "text": [
      "Epoch 86: 1.0s to complete\n",
      "    error(train)=9.91e-02, acc(train)=9.59e-01, error(valid)=1.46e+00, acc(valid)=8.22e-01\n"
     ]
    },
    {
     "data": {
      "text/plain": "  0%|          | 0/1000 [00:00<?, ?it/s]",
      "application/vnd.jupyter.widget-view+json": {
       "version_major": 2,
       "version_minor": 0,
       "model_id": "b56b5b6b32504fed9d8f863ba1040845"
      }
     },
     "metadata": {},
     "output_type": "display_data"
    },
    {
     "name": "stderr",
     "output_type": "stream",
     "text": [
      "Epoch 87: 1.4s to complete\n",
      "    error(train)=1.16e-01, acc(train)=9.55e-01, error(valid)=1.55e+00, acc(valid)=8.24e-01\n"
     ]
    },
    {
     "data": {
      "text/plain": "  0%|          | 0/1000 [00:00<?, ?it/s]",
      "application/vnd.jupyter.widget-view+json": {
       "version_major": 2,
       "version_minor": 0,
       "model_id": "2fcdb42c3c6e4627b7cb42c56a79b76d"
      }
     },
     "metadata": {},
     "output_type": "display_data"
    },
    {
     "name": "stderr",
     "output_type": "stream",
     "text": [
      "Epoch 88: 1.3s to complete\n",
      "    error(train)=9.77e-02, acc(train)=9.60e-01, error(valid)=1.51e+00, acc(valid)=8.26e-01\n"
     ]
    },
    {
     "data": {
      "text/plain": "  0%|          | 0/1000 [00:00<?, ?it/s]",
      "application/vnd.jupyter.widget-view+json": {
       "version_major": 2,
       "version_minor": 0,
       "model_id": "4236fb34613144b0ba7c44cba586256c"
      }
     },
     "metadata": {},
     "output_type": "display_data"
    },
    {
     "name": "stderr",
     "output_type": "stream",
     "text": [
      "Epoch 89: 1.0s to complete\n",
      "    error(train)=1.23e-01, acc(train)=9.53e-01, error(valid)=1.53e+00, acc(valid)=8.18e-01\n"
     ]
    },
    {
     "data": {
      "text/plain": "  0%|          | 0/1000 [00:00<?, ?it/s]",
      "application/vnd.jupyter.widget-view+json": {
       "version_major": 2,
       "version_minor": 0,
       "model_id": "a95cd5e9493c40728f5a470db288a80d"
      }
     },
     "metadata": {},
     "output_type": "display_data"
    },
    {
     "name": "stderr",
     "output_type": "stream",
     "text": [
      "Epoch 90: 1.1s to complete\n",
      "    error(train)=1.11e-01, acc(train)=9.56e-01, error(valid)=1.57e+00, acc(valid)=8.21e-01\n"
     ]
    },
    {
     "data": {
      "text/plain": "  0%|          | 0/1000 [00:00<?, ?it/s]",
      "application/vnd.jupyter.widget-view+json": {
       "version_major": 2,
       "version_minor": 0,
       "model_id": "05fc3cef605c4ffeb86380d685b02185"
      }
     },
     "metadata": {},
     "output_type": "display_data"
    },
    {
     "name": "stderr",
     "output_type": "stream",
     "text": [
      "Epoch 91: 1.1s to complete\n",
      "    error(train)=1.13e-01, acc(train)=9.56e-01, error(valid)=1.54e+00, acc(valid)=8.22e-01\n"
     ]
    },
    {
     "data": {
      "text/plain": "  0%|          | 0/1000 [00:00<?, ?it/s]",
      "application/vnd.jupyter.widget-view+json": {
       "version_major": 2,
       "version_minor": 0,
       "model_id": "8c971b58b9da43978029eb3fb00712a0"
      }
     },
     "metadata": {},
     "output_type": "display_data"
    },
    {
     "name": "stderr",
     "output_type": "stream",
     "text": [
      "Epoch 92: 1.1s to complete\n",
      "    error(train)=1.18e-01, acc(train)=9.56e-01, error(valid)=1.64e+00, acc(valid)=8.21e-01\n"
     ]
    },
    {
     "data": {
      "text/plain": "  0%|          | 0/1000 [00:00<?, ?it/s]",
      "application/vnd.jupyter.widget-view+json": {
       "version_major": 2,
       "version_minor": 0,
       "model_id": "5b2dc40df4d14c07b35790e9e9df9ff6"
      }
     },
     "metadata": {},
     "output_type": "display_data"
    },
    {
     "name": "stderr",
     "output_type": "stream",
     "text": [
      "Epoch 93: 1.1s to complete\n",
      "    error(train)=1.21e-01, acc(train)=9.53e-01, error(valid)=1.59e+00, acc(valid)=8.19e-01\n"
     ]
    },
    {
     "data": {
      "text/plain": "  0%|          | 0/1000 [00:00<?, ?it/s]",
      "application/vnd.jupyter.widget-view+json": {
       "version_major": 2,
       "version_minor": 0,
       "model_id": "c6430f7a513d43b7adfac0666b1dfc47"
      }
     },
     "metadata": {},
     "output_type": "display_data"
    },
    {
     "name": "stderr",
     "output_type": "stream",
     "text": [
      "Epoch 94: 1.0s to complete\n",
      "    error(train)=1.07e-01, acc(train)=9.58e-01, error(valid)=1.55e+00, acc(valid)=8.22e-01\n"
     ]
    },
    {
     "data": {
      "text/plain": "  0%|          | 0/1000 [00:00<?, ?it/s]",
      "application/vnd.jupyter.widget-view+json": {
       "version_major": 2,
       "version_minor": 0,
       "model_id": "866cba377eae402a9452771105284c52"
      }
     },
     "metadata": {},
     "output_type": "display_data"
    },
    {
     "name": "stderr",
     "output_type": "stream",
     "text": [
      "Epoch 95: 1.2s to complete\n",
      "    error(train)=1.13e-01, acc(train)=9.57e-01, error(valid)=1.62e+00, acc(valid)=8.23e-01\n"
     ]
    },
    {
     "data": {
      "text/plain": "  0%|          | 0/1000 [00:00<?, ?it/s]",
      "application/vnd.jupyter.widget-view+json": {
       "version_major": 2,
       "version_minor": 0,
       "model_id": "6f125e2a2ad742acb6913191d809a324"
      }
     },
     "metadata": {},
     "output_type": "display_data"
    },
    {
     "name": "stderr",
     "output_type": "stream",
     "text": [
      "Epoch 96: 1.0s to complete\n",
      "    error(train)=1.18e-01, acc(train)=9.55e-01, error(valid)=1.65e+00, acc(valid)=8.21e-01\n"
     ]
    },
    {
     "data": {
      "text/plain": "  0%|          | 0/1000 [00:00<?, ?it/s]",
      "application/vnd.jupyter.widget-view+json": {
       "version_major": 2,
       "version_minor": 0,
       "model_id": "f71d131fa7ae406bac34ed63ab31f3a7"
      }
     },
     "metadata": {},
     "output_type": "display_data"
    },
    {
     "name": "stderr",
     "output_type": "stream",
     "text": [
      "Epoch 97: 1.1s to complete\n",
      "    error(train)=1.10e-01, acc(train)=9.58e-01, error(valid)=1.67e+00, acc(valid)=8.24e-01\n"
     ]
    },
    {
     "data": {
      "text/plain": "  0%|          | 0/1000 [00:00<?, ?it/s]",
      "application/vnd.jupyter.widget-view+json": {
       "version_major": 2,
       "version_minor": 0,
       "model_id": "0cf748bafa8c458688de53ea6f021ab5"
      }
     },
     "metadata": {},
     "output_type": "display_data"
    },
    {
     "name": "stderr",
     "output_type": "stream",
     "text": [
      "Epoch 98: 1.0s to complete\n",
      "    error(train)=1.21e-01, acc(train)=9.54e-01, error(valid)=1.69e+00, acc(valid)=8.21e-01\n"
     ]
    },
    {
     "data": {
      "text/plain": "  0%|          | 0/1000 [00:00<?, ?it/s]",
      "application/vnd.jupyter.widget-view+json": {
       "version_major": 2,
       "version_minor": 0,
       "model_id": "5b4afab4442340818146fa00138be6ce"
      }
     },
     "metadata": {},
     "output_type": "display_data"
    },
    {
     "name": "stderr",
     "output_type": "stream",
     "text": [
      "Epoch 99: 1.1s to complete\n",
      "    error(train)=1.34e-01, acc(train)=9.51e-01, error(valid)=1.69e+00, acc(valid)=8.18e-01\n"
     ]
    },
    {
     "data": {
      "text/plain": "  0%|          | 0/1000 [00:00<?, ?it/s]",
      "application/vnd.jupyter.widget-view+json": {
       "version_major": 2,
       "version_minor": 0,
       "model_id": "845ed156a5e649a4b7cb34051f103508"
      }
     },
     "metadata": {},
     "output_type": "display_data"
    },
    {
     "name": "stderr",
     "output_type": "stream",
     "text": [
      "Epoch 100: 1.1s to complete\n",
      "    error(train)=1.17e-01, acc(train)=9.56e-01, error(valid)=1.72e+00, acc(valid)=8.17e-01\n"
     ]
    }
   ],
   "source": [
    "# Setup hyperparameters\n",
    "num_hidden_layers = 3\n",
    "hidden_dim = 128\n",
    "num_epochs = 100\n",
    "models = {\"stats\": [], \"keys\": [], \"times\": [], \"models\": []}\n",
    "\n",
    "error = CrossEntropySoftmaxError()\n",
    "# Use a Adam learning rule\n",
    "learning_rule = AdamLearningRule(learning_rate=learning_rate)\n",
    "\n",
    "for i in range(num_hidden_layers):\n",
    "    hidden_layers = []\n",
    "    for j in range(i + 1):\n",
    "        if j == 0:\n",
    "            hidden_layers.append(AffineLayer(input_dim, hidden_dim, weights_init, biases_init))\n",
    "        else:\n",
    "            hidden_layers.append(AffineLayer(hidden_dim, hidden_dim, weights_init, biases_init))\n",
    "        hidden_layers.append(ReluLayer())\n",
    "    model = MultipleLayerModel(hidden_layers + [\n",
    "        AffineLayer(hidden_dim, output_dim, weights_init, biases_init) # output layer\n",
    "    ])\n",
    "    # Remember to use notebook=False when you write a script to be run in a terminal\n",
    "    stats, keys, time = train_model_and_plot_stats(\n",
    "        model, error, learning_rule, train_data, valid_data, num_epochs, stats_interval, notebook=True)\n",
    "    models['stats'].append(stats)\n",
    "    models['keys'].append(keys)\n",
    "    models['times'].append(time)\n",
    "    models[\"models\"].append(model)\n",
    "    "
   ],
   "metadata": {
    "collapsed": false,
    "ExecuteTime": {
     "end_time": "2024-10-16T18:33:16.724344Z",
     "start_time": "2024-10-16T18:26:08.216572Z"
    }
   }
  },
  {
   "cell_type": "code",
   "execution_count": 43,
   "outputs": [
    {
     "data": {
      "text/plain": "<Figure size 800x400 with 1 Axes>",
      "image/png": "[encoded data removed]"
     },
     "metadata": {},
     "output_type": "display_data"
    },
    {
     "data": {
      "text/plain": "<Figure size 800x400 with 1 Axes>",
      "image/png": "[encoded data removed]"
     },
     "metadata": {},
     "output_type": "display_data"
    }
   ],
   "source": [
    "# Plot models' performance\n",
    "plot_err(models[\"stats\"], models[\"keys\"], stats_interval, ['depth 1', 'depth 2', 'depth 3'])\n",
    "plot_acc(models[\"stats\"], models[\"keys\"], stats_interval, ['depth 1', 'depth 2', 'depth 3'])    "
   ],
   "metadata": {
    "collapsed": false,
    "ExecuteTime": {
     "end_time": "2024-10-16T19:24:22.309037Z",
     "start_time": "2024-10-16T19:24:22.174291Z"
    }
   }
  },
  {
   "cell_type": "code",
   "execution_count": 44,
   "outputs": [
    {
     "name": "stdout",
     "output_type": "stream",
     "text": [
      "1 Depth - Val Acc: 0.8118987341772154, Train Err: 0.15583914663315582, Val Err: 0.9680014268834102\n",
      "2 Depth - Val Acc: 0.8243670886075942, Train Err: 0.10339416928886955, Val Err: 1.5851230480209613\n",
      "3 Depth - Val Acc: 0.8170253164556961, Train Err: 0.11725156737652893, Val Err: 1.7212737337927655\n"
     ]
    }
   ],
   "source": [
    "# Output final stats\n",
    "keys = models[\"keys\"][0]\n",
    "model_d1_stats = models[\"stats\"][0]\n",
    "model_d2_stats = models[\"stats\"][1]\n",
    "model_d3_stats = models[\"stats\"][2]\n",
    "print(\"1 Depth - Val Acc: \" + str(model_d1_stats[-1, keys['acc(valid)']])  + \", Train Err: \" + str(model_d1_stats[-1, keys['error(train)']]) + \", Val Err: \" + str(model_d1_stats[-1, keys['error(valid)']]))\n",
    "\n",
    "print(\"2 Depth - Val Acc: \" + str(model_d2_stats[-1, keys['acc(valid)']])  + \", Train Err: \" + str(model_d2_stats[-1, keys['error(train)']]) + \", Val Err: \" + str(model_d2_stats[-1, keys['error(valid)']]))\n",
    "\n",
    "print(\"3 Depth - Val Acc: \" + str(model_d3_stats[-1, keys['acc(valid)']])  + \", Train Err: \" + str(model_d3_stats[-1, keys['error(train)']]) + \", Val Err: \" + str(model_d3_stats[-1, keys['error(valid)']]))"
   ],
   "metadata": {
    "collapsed": false,
    "ExecuteTime": {
     "end_time": "2024-10-16T19:24:26.057602Z",
     "start_time": "2024-10-16T19:24:26.018132Z"
    }
   }
  },
  {
   "cell_type": "code",
   "execution_count": null,
   "outputs": [],
   "source": [],
   "metadata": {
    "collapsed": false
   }
  }
 ],
 "metadata": {
  "kernelspec": {
   "display_name": "Python 3 (ipykernel)",
   "language": "python",
   "name": "python3"
  },
  "language_info": {
   "codemirror_mode": {
    "name": "ipython",
    "version": 3
   },
   "file_extension": ".py",
   "mimetype": "text/x-python",
   "name": "python",
   "nbconvert_exporter": "python",
   "pygments_lexer": "ipython3",
   "version": "3.8.10"
  }
 },
 "nbformat": 4,
 "nbformat_minor": 4
}
